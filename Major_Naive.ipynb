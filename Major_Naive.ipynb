{
  "nbformat": 4,
  "nbformat_minor": 0,
  "metadata": {
    "colab": {
      "name": "Major_Naive.ipynb",
      "provenance": []
    },
    "kernelspec": {
      "name": "python3",
      "display_name": "Python 3"
    },
    "language_info": {
      "name": "python"
    }
  },
  "cells": [
    {
      "cell_type": "code",
      "execution_count": null,
      "metadata": {
        "id": "OaUupdl4CNdG"
      },
      "outputs": [],
      "source": [
        "##Importing Required Libraries\n",
        "\n",
        "import pandas as pd\n",
        "import warnings\n",
        "warnings.filterwarnings('ignore')\n",
        "import numpy as np\n",
        "import matplotlib.pyplot as plt\n",
        "%matplotlib inline\n",
        "import seaborn as sns\n",
        "import pickle\n",
        "\n",
        "from sklearn.preprocessing import MinMaxScaler\n",
        "from sklearn.model_selection import train_test_split\n",
        "from sklearn.metrics import r2_score, explained_variance_score, confusion_matrix, accuracy_score, classification_report, log_loss\n",
        "from sklearn.metrics import roc_auc_score,roc_curve,auc"
      ]
    },
    {
      "cell_type": "code",
      "source": [
        "print(\"\\n\")\n",
        "import platform; print(platform.platform())\n",
        "import sys; print(\"\\nPython\", sys.version)\n",
        "import numpy; print(\"\\nNumPy\", numpy.__version__)\n",
        "import scipy; print(\"\\nSciPy\", scipy.__version__)\n",
        "import sklearn; print(\"\\nScikit-Learn\", sklearn.__version__)\n",
        "import seaborn; print(\"\\nSeaBorn\",seaborn.__version__)"
      ],
      "metadata": {
        "colab": {
          "base_uri": "https://localhost:8080/"
        },
        "id": "wPA8Mn_1LGcW",
        "outputId": "4f01f595-2bfb-48c5-9593-385de8cc4b42"
      },
      "execution_count": null,
      "outputs": [
        {
          "output_type": "stream",
          "name": "stdout",
          "text": [
            "\n",
            "\n",
            "Linux-5.4.144+-x86_64-with-Ubuntu-18.04-bionic\n",
            "\n",
            "Python 3.7.13 (default, Mar 16 2022, 17:37:17) \n",
            "[GCC 7.5.0]\n",
            "\n",
            "NumPy 1.21.5\n",
            "\n",
            "SciPy 1.4.1\n",
            "\n",
            "Scikit-Learn 1.0.2\n",
            "\n",
            "SeaBorn 0.11.2\n"
          ]
        }
      ]
    },
    {
      "cell_type": "code",
      "source": [
        "from google.colab import drive\n",
        "drive.mount('/content/grive')"
      ],
      "metadata": {
        "colab": {
          "base_uri": "https://localhost:8080/"
        },
        "id": "8Q094hg6LI9m",
        "outputId": "3fca88c4-d428-49ed-c14b-96d630685cc0"
      },
      "execution_count": null,
      "outputs": [
        {
          "output_type": "stream",
          "name": "stdout",
          "text": [
            "Mounted at /content/grive\n"
          ]
        }
      ]
    },
    {
      "cell_type": "code",
      "source": [
        "#importing the dataset \n",
        "\n",
        "data=pd.read_csv('/content/grive/My Drive/final_dataset.csv')\n",
        "data.head(10)\n",
        "# having a glance at data "
      ],
      "metadata": {
        "colab": {
          "base_uri": "https://localhost:8080/",
          "height": 363
        },
        "id": "JiEcHXEkLTY6",
        "outputId": "58c8490b-0f19-4456-ed8d-231690b23c2e"
      },
      "execution_count": null,
      "outputs": [
        {
          "output_type": "execute_result",
          "data": {
            "text/plain": [
              "   Unnamed: 0  Danceability  Energy  Loudness  Speechiness  Acousticness  \\\n",
              "0           0         0.556   0.864    -5.870       0.0584      0.009580   \n",
              "1           1         0.737   0.463    -7.828       0.0792      0.008170   \n",
              "2           2         0.618   0.938    -3.442       0.0456      0.017900   \n",
              "3           3         0.331   0.943    -3.188       0.0698      0.007210   \n",
              "4           4         0.589   0.890    -3.719       0.0603      0.000481   \n",
              "5           5         0.542   0.905    -5.653       0.0540      0.001720   \n",
              "6           6         0.653   0.964    -4.261       0.0582      0.003160   \n",
              "7           7         0.618   0.938    -3.442       0.0456      0.017900   \n",
              "8           8         0.419   0.934    -3.908       0.1200      0.000278   \n",
              "9           9         0.664   0.781    -6.547       0.0339      0.001030   \n",
              "\n",
              "   Instrumentalness  Liveness  Valence    Tempo  Genre  Top100  \n",
              "0          0.000000    0.2090    0.400  105.143      5       0  \n",
              "1          0.447000    0.2550    0.324  123.881      9       0  \n",
              "2          0.000000    0.1670    0.875   91.455      9       0  \n",
              "3          0.000002    0.2420    0.296   94.612      0       0  \n",
              "4          0.000820    0.2010    0.692   90.598      5       0  \n",
              "5          0.010400    0.1360    0.374  153.398      9       0  \n",
              "6          0.005120    0.1440    0.870  126.928      5       0  \n",
              "7          0.000000    0.1670    0.875   91.455      9       0  \n",
              "8          0.001500    0.1320    0.286  127.288      5       0  \n",
              "9          0.000005    0.0867    0.593  110.000      6       0  "
            ],
            "text/html": [
              "\n",
              "  <div id=\"df-c41637bf-29fc-4214-afc6-ff73706f1885\">\n",
              "    <div class=\"colab-df-container\">\n",
              "      <div>\n",
              "<style scoped>\n",
              "    .dataframe tbody tr th:only-of-type {\n",
              "        vertical-align: middle;\n",
              "    }\n",
              "\n",
              "    .dataframe tbody tr th {\n",
              "        vertical-align: top;\n",
              "    }\n",
              "\n",
              "    .dataframe thead th {\n",
              "        text-align: right;\n",
              "    }\n",
              "</style>\n",
              "<table border=\"1\" class=\"dataframe\">\n",
              "  <thead>\n",
              "    <tr style=\"text-align: right;\">\n",
              "      <th></th>\n",
              "      <th>Unnamed: 0</th>\n",
              "      <th>Danceability</th>\n",
              "      <th>Energy</th>\n",
              "      <th>Loudness</th>\n",
              "      <th>Speechiness</th>\n",
              "      <th>Acousticness</th>\n",
              "      <th>Instrumentalness</th>\n",
              "      <th>Liveness</th>\n",
              "      <th>Valence</th>\n",
              "      <th>Tempo</th>\n",
              "      <th>Genre</th>\n",
              "      <th>Top100</th>\n",
              "    </tr>\n",
              "  </thead>\n",
              "  <tbody>\n",
              "    <tr>\n",
              "      <th>0</th>\n",
              "      <td>0</td>\n",
              "      <td>0.556</td>\n",
              "      <td>0.864</td>\n",
              "      <td>-5.870</td>\n",
              "      <td>0.0584</td>\n",
              "      <td>0.009580</td>\n",
              "      <td>0.000000</td>\n",
              "      <td>0.2090</td>\n",
              "      <td>0.400</td>\n",
              "      <td>105.143</td>\n",
              "      <td>5</td>\n",
              "      <td>0</td>\n",
              "    </tr>\n",
              "    <tr>\n",
              "      <th>1</th>\n",
              "      <td>1</td>\n",
              "      <td>0.737</td>\n",
              "      <td>0.463</td>\n",
              "      <td>-7.828</td>\n",
              "      <td>0.0792</td>\n",
              "      <td>0.008170</td>\n",
              "      <td>0.447000</td>\n",
              "      <td>0.2550</td>\n",
              "      <td>0.324</td>\n",
              "      <td>123.881</td>\n",
              "      <td>9</td>\n",
              "      <td>0</td>\n",
              "    </tr>\n",
              "    <tr>\n",
              "      <th>2</th>\n",
              "      <td>2</td>\n",
              "      <td>0.618</td>\n",
              "      <td>0.938</td>\n",
              "      <td>-3.442</td>\n",
              "      <td>0.0456</td>\n",
              "      <td>0.017900</td>\n",
              "      <td>0.000000</td>\n",
              "      <td>0.1670</td>\n",
              "      <td>0.875</td>\n",
              "      <td>91.455</td>\n",
              "      <td>9</td>\n",
              "      <td>0</td>\n",
              "    </tr>\n",
              "    <tr>\n",
              "      <th>3</th>\n",
              "      <td>3</td>\n",
              "      <td>0.331</td>\n",
              "      <td>0.943</td>\n",
              "      <td>-3.188</td>\n",
              "      <td>0.0698</td>\n",
              "      <td>0.007210</td>\n",
              "      <td>0.000002</td>\n",
              "      <td>0.2420</td>\n",
              "      <td>0.296</td>\n",
              "      <td>94.612</td>\n",
              "      <td>0</td>\n",
              "      <td>0</td>\n",
              "    </tr>\n",
              "    <tr>\n",
              "      <th>4</th>\n",
              "      <td>4</td>\n",
              "      <td>0.589</td>\n",
              "      <td>0.890</td>\n",
              "      <td>-3.719</td>\n",
              "      <td>0.0603</td>\n",
              "      <td>0.000481</td>\n",
              "      <td>0.000820</td>\n",
              "      <td>0.2010</td>\n",
              "      <td>0.692</td>\n",
              "      <td>90.598</td>\n",
              "      <td>5</td>\n",
              "      <td>0</td>\n",
              "    </tr>\n",
              "    <tr>\n",
              "      <th>5</th>\n",
              "      <td>5</td>\n",
              "      <td>0.542</td>\n",
              "      <td>0.905</td>\n",
              "      <td>-5.653</td>\n",
              "      <td>0.0540</td>\n",
              "      <td>0.001720</td>\n",
              "      <td>0.010400</td>\n",
              "      <td>0.1360</td>\n",
              "      <td>0.374</td>\n",
              "      <td>153.398</td>\n",
              "      <td>9</td>\n",
              "      <td>0</td>\n",
              "    </tr>\n",
              "    <tr>\n",
              "      <th>6</th>\n",
              "      <td>6</td>\n",
              "      <td>0.653</td>\n",
              "      <td>0.964</td>\n",
              "      <td>-4.261</td>\n",
              "      <td>0.0582</td>\n",
              "      <td>0.003160</td>\n",
              "      <td>0.005120</td>\n",
              "      <td>0.1440</td>\n",
              "      <td>0.870</td>\n",
              "      <td>126.928</td>\n",
              "      <td>5</td>\n",
              "      <td>0</td>\n",
              "    </tr>\n",
              "    <tr>\n",
              "      <th>7</th>\n",
              "      <td>7</td>\n",
              "      <td>0.618</td>\n",
              "      <td>0.938</td>\n",
              "      <td>-3.442</td>\n",
              "      <td>0.0456</td>\n",
              "      <td>0.017900</td>\n",
              "      <td>0.000000</td>\n",
              "      <td>0.1670</td>\n",
              "      <td>0.875</td>\n",
              "      <td>91.455</td>\n",
              "      <td>9</td>\n",
              "      <td>0</td>\n",
              "    </tr>\n",
              "    <tr>\n",
              "      <th>8</th>\n",
              "      <td>8</td>\n",
              "      <td>0.419</td>\n",
              "      <td>0.934</td>\n",
              "      <td>-3.908</td>\n",
              "      <td>0.1200</td>\n",
              "      <td>0.000278</td>\n",
              "      <td>0.001500</td>\n",
              "      <td>0.1320</td>\n",
              "      <td>0.286</td>\n",
              "      <td>127.288</td>\n",
              "      <td>5</td>\n",
              "      <td>0</td>\n",
              "    </tr>\n",
              "    <tr>\n",
              "      <th>9</th>\n",
              "      <td>9</td>\n",
              "      <td>0.664</td>\n",
              "      <td>0.781</td>\n",
              "      <td>-6.547</td>\n",
              "      <td>0.0339</td>\n",
              "      <td>0.001030</td>\n",
              "      <td>0.000005</td>\n",
              "      <td>0.0867</td>\n",
              "      <td>0.593</td>\n",
              "      <td>110.000</td>\n",
              "      <td>6</td>\n",
              "      <td>0</td>\n",
              "    </tr>\n",
              "  </tbody>\n",
              "</table>\n",
              "</div>\n",
              "      <button class=\"colab-df-convert\" onclick=\"convertToInteractive('df-c41637bf-29fc-4214-afc6-ff73706f1885')\"\n",
              "              title=\"Convert this dataframe to an interactive table.\"\n",
              "              style=\"display:none;\">\n",
              "        \n",
              "  <svg xmlns=\"http://www.w3.org/2000/svg\" height=\"24px\"viewBox=\"0 0 24 24\"\n",
              "       width=\"24px\">\n",
              "    <path d=\"M0 0h24v24H0V0z\" fill=\"none\"/>\n",
              "    <path d=\"M18.56 5.44l.94 2.06.94-2.06 2.06-.94-2.06-.94-.94-2.06-.94 2.06-2.06.94zm-11 1L8.5 8.5l.94-2.06 2.06-.94-2.06-.94L8.5 2.5l-.94 2.06-2.06.94zm10 10l.94 2.06.94-2.06 2.06-.94-2.06-.94-.94-2.06-.94 2.06-2.06.94z\"/><path d=\"M17.41 7.96l-1.37-1.37c-.4-.4-.92-.59-1.43-.59-.52 0-1.04.2-1.43.59L10.3 9.45l-7.72 7.72c-.78.78-.78 2.05 0 2.83L4 21.41c.39.39.9.59 1.41.59.51 0 1.02-.2 1.41-.59l7.78-7.78 2.81-2.81c.8-.78.8-2.07 0-2.86zM5.41 20L4 18.59l7.72-7.72 1.47 1.35L5.41 20z\"/>\n",
              "  </svg>\n",
              "      </button>\n",
              "      \n",
              "  <style>\n",
              "    .colab-df-container {\n",
              "      display:flex;\n",
              "      flex-wrap:wrap;\n",
              "      gap: 12px;\n",
              "    }\n",
              "\n",
              "    .colab-df-convert {\n",
              "      background-color: #E8F0FE;\n",
              "      border: none;\n",
              "      border-radius: 50%;\n",
              "      cursor: pointer;\n",
              "      display: none;\n",
              "      fill: #1967D2;\n",
              "      height: 32px;\n",
              "      padding: 0 0 0 0;\n",
              "      width: 32px;\n",
              "    }\n",
              "\n",
              "    .colab-df-convert:hover {\n",
              "      background-color: #E2EBFA;\n",
              "      box-shadow: 0px 1px 2px rgba(60, 64, 67, 0.3), 0px 1px 3px 1px rgba(60, 64, 67, 0.15);\n",
              "      fill: #174EA6;\n",
              "    }\n",
              "\n",
              "    [theme=dark] .colab-df-convert {\n",
              "      background-color: #3B4455;\n",
              "      fill: #D2E3FC;\n",
              "    }\n",
              "\n",
              "    [theme=dark] .colab-df-convert:hover {\n",
              "      background-color: #434B5C;\n",
              "      box-shadow: 0px 1px 3px 1px rgba(0, 0, 0, 0.15);\n",
              "      filter: drop-shadow(0px 1px 2px rgba(0, 0, 0, 0.3));\n",
              "      fill: #FFFFFF;\n",
              "    }\n",
              "  </style>\n",
              "\n",
              "      <script>\n",
              "        const buttonEl =\n",
              "          document.querySelector('#df-c41637bf-29fc-4214-afc6-ff73706f1885 button.colab-df-convert');\n",
              "        buttonEl.style.display =\n",
              "          google.colab.kernel.accessAllowed ? 'block' : 'none';\n",
              "\n",
              "        async function convertToInteractive(key) {\n",
              "          const element = document.querySelector('#df-c41637bf-29fc-4214-afc6-ff73706f1885');\n",
              "          const dataTable =\n",
              "            await google.colab.kernel.invokeFunction('convertToInteractive',\n",
              "                                                     [key], {});\n",
              "          if (!dataTable) return;\n",
              "\n",
              "          const docLinkHtml = 'Like what you see? Visit the ' +\n",
              "            '<a target=\"_blank\" href=https://colab.research.google.com/notebooks/data_table.ipynb>data table notebook</a>'\n",
              "            + ' to learn more about interactive tables.';\n",
              "          element.innerHTML = '';\n",
              "          dataTable['output_type'] = 'display_data';\n",
              "          await google.colab.output.renderOutput(dataTable, element);\n",
              "          const docLink = document.createElement('div');\n",
              "          docLink.innerHTML = docLinkHtml;\n",
              "          element.appendChild(docLink);\n",
              "        }\n",
              "      </script>\n",
              "    </div>\n",
              "  </div>\n",
              "  "
            ]
          },
          "metadata": {},
          "execution_count": 6
        }
      ]
    },
    {
      "cell_type": "code",
      "source": [
        "data.tail(10)\n"
      ],
      "metadata": {
        "colab": {
          "base_uri": "https://localhost:8080/",
          "height": 363
        },
        "id": "6KTOcdyfLWI8",
        "outputId": "b13e6f82-1b32-4bbd-84ca-e48e10e0f4ba"
      },
      "execution_count": null,
      "outputs": [
        {
          "output_type": "execute_result",
          "data": {
            "text/plain": [
              "      Unnamed: 0  Danceability  Energy  Loudness  Speechiness  Acousticness  \\\n",
              "8642        9216         0.899   0.586    -7.866       0.3440       0.27900   \n",
              "8643        9217         0.632   0.804    -6.109       0.0503       0.10100   \n",
              "8644        9218         0.921   0.537    -5.723       0.0804       0.55600   \n",
              "8645        9219         0.851   0.666    -5.334       0.0694       0.13900   \n",
              "8646        9220         0.477   0.610    -5.628       0.1440       0.22500   \n",
              "8647        9221         0.783   0.840    -3.416       0.0510       0.17400   \n",
              "8648        9222         0.669   0.308   -10.068       0.0290       0.88300   \n",
              "8649        9223         0.544   0.781    -6.160       0.0311       0.00585   \n",
              "8650        9224         0.713   0.831    -4.750       0.1500       0.01680   \n",
              "8651        9225         0.836   0.544    -5.975       0.0943       0.04030   \n",
              "\n",
              "      Instrumentalness  Liveness  Valence    Tempo  Genre  Top100  \n",
              "8642           0.00000    0.0836   0.4920  150.001      7       1  \n",
              "8643           0.00000    0.1700   0.3500   92.456      2       1  \n",
              "8644           0.00404    0.1020   0.7110  128.009      7       1  \n",
              "8645           0.00000    0.1050   0.0585  134.068      7       1  \n",
              "8646           0.00000    0.1070   0.3580   79.882      7       1  \n",
              "8647           0.00000    0.4120   0.8390   95.001      8       1  \n",
              "8648           0.00000    0.0984   0.5200   64.934      7       1  \n",
              "8649           0.00000    0.1910   0.5270  144.075      2       1  \n",
              "8650           0.00000    0.1180   0.5840  173.948      7       1  \n",
              "8651           0.00000    0.0824   0.5100   97.028      6       1  "
            ],
            "text/html": [
              "\n",
              "  <div id=\"df-d630789a-66fb-4cec-99c2-91da76e1c4e6\">\n",
              "    <div class=\"colab-df-container\">\n",
              "      <div>\n",
              "<style scoped>\n",
              "    .dataframe tbody tr th:only-of-type {\n",
              "        vertical-align: middle;\n",
              "    }\n",
              "\n",
              "    .dataframe tbody tr th {\n",
              "        vertical-align: top;\n",
              "    }\n",
              "\n",
              "    .dataframe thead th {\n",
              "        text-align: right;\n",
              "    }\n",
              "</style>\n",
              "<table border=\"1\" class=\"dataframe\">\n",
              "  <thead>\n",
              "    <tr style=\"text-align: right;\">\n",
              "      <th></th>\n",
              "      <th>Unnamed: 0</th>\n",
              "      <th>Danceability</th>\n",
              "      <th>Energy</th>\n",
              "      <th>Loudness</th>\n",
              "      <th>Speechiness</th>\n",
              "      <th>Acousticness</th>\n",
              "      <th>Instrumentalness</th>\n",
              "      <th>Liveness</th>\n",
              "      <th>Valence</th>\n",
              "      <th>Tempo</th>\n",
              "      <th>Genre</th>\n",
              "      <th>Top100</th>\n",
              "    </tr>\n",
              "  </thead>\n",
              "  <tbody>\n",
              "    <tr>\n",
              "      <th>8642</th>\n",
              "      <td>9216</td>\n",
              "      <td>0.899</td>\n",
              "      <td>0.586</td>\n",
              "      <td>-7.866</td>\n",
              "      <td>0.3440</td>\n",
              "      <td>0.27900</td>\n",
              "      <td>0.00000</td>\n",
              "      <td>0.0836</td>\n",
              "      <td>0.4920</td>\n",
              "      <td>150.001</td>\n",
              "      <td>7</td>\n",
              "      <td>1</td>\n",
              "    </tr>\n",
              "    <tr>\n",
              "      <th>8643</th>\n",
              "      <td>9217</td>\n",
              "      <td>0.632</td>\n",
              "      <td>0.804</td>\n",
              "      <td>-6.109</td>\n",
              "      <td>0.0503</td>\n",
              "      <td>0.10100</td>\n",
              "      <td>0.00000</td>\n",
              "      <td>0.1700</td>\n",
              "      <td>0.3500</td>\n",
              "      <td>92.456</td>\n",
              "      <td>2</td>\n",
              "      <td>1</td>\n",
              "    </tr>\n",
              "    <tr>\n",
              "      <th>8644</th>\n",
              "      <td>9218</td>\n",
              "      <td>0.921</td>\n",
              "      <td>0.537</td>\n",
              "      <td>-5.723</td>\n",
              "      <td>0.0804</td>\n",
              "      <td>0.55600</td>\n",
              "      <td>0.00404</td>\n",
              "      <td>0.1020</td>\n",
              "      <td>0.7110</td>\n",
              "      <td>128.009</td>\n",
              "      <td>7</td>\n",
              "      <td>1</td>\n",
              "    </tr>\n",
              "    <tr>\n",
              "      <th>8645</th>\n",
              "      <td>9219</td>\n",
              "      <td>0.851</td>\n",
              "      <td>0.666</td>\n",
              "      <td>-5.334</td>\n",
              "      <td>0.0694</td>\n",
              "      <td>0.13900</td>\n",
              "      <td>0.00000</td>\n",
              "      <td>0.1050</td>\n",
              "      <td>0.0585</td>\n",
              "      <td>134.068</td>\n",
              "      <td>7</td>\n",
              "      <td>1</td>\n",
              "    </tr>\n",
              "    <tr>\n",
              "      <th>8646</th>\n",
              "      <td>9220</td>\n",
              "      <td>0.477</td>\n",
              "      <td>0.610</td>\n",
              "      <td>-5.628</td>\n",
              "      <td>0.1440</td>\n",
              "      <td>0.22500</td>\n",
              "      <td>0.00000</td>\n",
              "      <td>0.1070</td>\n",
              "      <td>0.3580</td>\n",
              "      <td>79.882</td>\n",
              "      <td>7</td>\n",
              "      <td>1</td>\n",
              "    </tr>\n",
              "    <tr>\n",
              "      <th>8647</th>\n",
              "      <td>9221</td>\n",
              "      <td>0.783</td>\n",
              "      <td>0.840</td>\n",
              "      <td>-3.416</td>\n",
              "      <td>0.0510</td>\n",
              "      <td>0.17400</td>\n",
              "      <td>0.00000</td>\n",
              "      <td>0.4120</td>\n",
              "      <td>0.8390</td>\n",
              "      <td>95.001</td>\n",
              "      <td>8</td>\n",
              "      <td>1</td>\n",
              "    </tr>\n",
              "    <tr>\n",
              "      <th>8648</th>\n",
              "      <td>9222</td>\n",
              "      <td>0.669</td>\n",
              "      <td>0.308</td>\n",
              "      <td>-10.068</td>\n",
              "      <td>0.0290</td>\n",
              "      <td>0.88300</td>\n",
              "      <td>0.00000</td>\n",
              "      <td>0.0984</td>\n",
              "      <td>0.5200</td>\n",
              "      <td>64.934</td>\n",
              "      <td>7</td>\n",
              "      <td>1</td>\n",
              "    </tr>\n",
              "    <tr>\n",
              "      <th>8649</th>\n",
              "      <td>9223</td>\n",
              "      <td>0.544</td>\n",
              "      <td>0.781</td>\n",
              "      <td>-6.160</td>\n",
              "      <td>0.0311</td>\n",
              "      <td>0.00585</td>\n",
              "      <td>0.00000</td>\n",
              "      <td>0.1910</td>\n",
              "      <td>0.5270</td>\n",
              "      <td>144.075</td>\n",
              "      <td>2</td>\n",
              "      <td>1</td>\n",
              "    </tr>\n",
              "    <tr>\n",
              "      <th>8650</th>\n",
              "      <td>9224</td>\n",
              "      <td>0.713</td>\n",
              "      <td>0.831</td>\n",
              "      <td>-4.750</td>\n",
              "      <td>0.1500</td>\n",
              "      <td>0.01680</td>\n",
              "      <td>0.00000</td>\n",
              "      <td>0.1180</td>\n",
              "      <td>0.5840</td>\n",
              "      <td>173.948</td>\n",
              "      <td>7</td>\n",
              "      <td>1</td>\n",
              "    </tr>\n",
              "    <tr>\n",
              "      <th>8651</th>\n",
              "      <td>9225</td>\n",
              "      <td>0.836</td>\n",
              "      <td>0.544</td>\n",
              "      <td>-5.975</td>\n",
              "      <td>0.0943</td>\n",
              "      <td>0.04030</td>\n",
              "      <td>0.00000</td>\n",
              "      <td>0.0824</td>\n",
              "      <td>0.5100</td>\n",
              "      <td>97.028</td>\n",
              "      <td>6</td>\n",
              "      <td>1</td>\n",
              "    </tr>\n",
              "  </tbody>\n",
              "</table>\n",
              "</div>\n",
              "      <button class=\"colab-df-convert\" onclick=\"convertToInteractive('df-d630789a-66fb-4cec-99c2-91da76e1c4e6')\"\n",
              "              title=\"Convert this dataframe to an interactive table.\"\n",
              "              style=\"display:none;\">\n",
              "        \n",
              "  <svg xmlns=\"http://www.w3.org/2000/svg\" height=\"24px\"viewBox=\"0 0 24 24\"\n",
              "       width=\"24px\">\n",
              "    <path d=\"M0 0h24v24H0V0z\" fill=\"none\"/>\n",
              "    <path d=\"M18.56 5.44l.94 2.06.94-2.06 2.06-.94-2.06-.94-.94-2.06-.94 2.06-2.06.94zm-11 1L8.5 8.5l.94-2.06 2.06-.94-2.06-.94L8.5 2.5l-.94 2.06-2.06.94zm10 10l.94 2.06.94-2.06 2.06-.94-2.06-.94-.94-2.06-.94 2.06-2.06.94z\"/><path d=\"M17.41 7.96l-1.37-1.37c-.4-.4-.92-.59-1.43-.59-.52 0-1.04.2-1.43.59L10.3 9.45l-7.72 7.72c-.78.78-.78 2.05 0 2.83L4 21.41c.39.39.9.59 1.41.59.51 0 1.02-.2 1.41-.59l7.78-7.78 2.81-2.81c.8-.78.8-2.07 0-2.86zM5.41 20L4 18.59l7.72-7.72 1.47 1.35L5.41 20z\"/>\n",
              "  </svg>\n",
              "      </button>\n",
              "      \n",
              "  <style>\n",
              "    .colab-df-container {\n",
              "      display:flex;\n",
              "      flex-wrap:wrap;\n",
              "      gap: 12px;\n",
              "    }\n",
              "\n",
              "    .colab-df-convert {\n",
              "      background-color: #E8F0FE;\n",
              "      border: none;\n",
              "      border-radius: 50%;\n",
              "      cursor: pointer;\n",
              "      display: none;\n",
              "      fill: #1967D2;\n",
              "      height: 32px;\n",
              "      padding: 0 0 0 0;\n",
              "      width: 32px;\n",
              "    }\n",
              "\n",
              "    .colab-df-convert:hover {\n",
              "      background-color: #E2EBFA;\n",
              "      box-shadow: 0px 1px 2px rgba(60, 64, 67, 0.3), 0px 1px 3px 1px rgba(60, 64, 67, 0.15);\n",
              "      fill: #174EA6;\n",
              "    }\n",
              "\n",
              "    [theme=dark] .colab-df-convert {\n",
              "      background-color: #3B4455;\n",
              "      fill: #D2E3FC;\n",
              "    }\n",
              "\n",
              "    [theme=dark] .colab-df-convert:hover {\n",
              "      background-color: #434B5C;\n",
              "      box-shadow: 0px 1px 3px 1px rgba(0, 0, 0, 0.15);\n",
              "      filter: drop-shadow(0px 1px 2px rgba(0, 0, 0, 0.3));\n",
              "      fill: #FFFFFF;\n",
              "    }\n",
              "  </style>\n",
              "\n",
              "      <script>\n",
              "        const buttonEl =\n",
              "          document.querySelector('#df-d630789a-66fb-4cec-99c2-91da76e1c4e6 button.colab-df-convert');\n",
              "        buttonEl.style.display =\n",
              "          google.colab.kernel.accessAllowed ? 'block' : 'none';\n",
              "\n",
              "        async function convertToInteractive(key) {\n",
              "          const element = document.querySelector('#df-d630789a-66fb-4cec-99c2-91da76e1c4e6');\n",
              "          const dataTable =\n",
              "            await google.colab.kernel.invokeFunction('convertToInteractive',\n",
              "                                                     [key], {});\n",
              "          if (!dataTable) return;\n",
              "\n",
              "          const docLinkHtml = 'Like what you see? Visit the ' +\n",
              "            '<a target=\"_blank\" href=https://colab.research.google.com/notebooks/data_table.ipynb>data table notebook</a>'\n",
              "            + ' to learn more about interactive tables.';\n",
              "          element.innerHTML = '';\n",
              "          dataTable['output_type'] = 'display_data';\n",
              "          await google.colab.output.renderOutput(dataTable, element);\n",
              "          const docLink = document.createElement('div');\n",
              "          docLink.innerHTML = docLinkHtml;\n",
              "          element.appendChild(docLink);\n",
              "        }\n",
              "      </script>\n",
              "    </div>\n",
              "  </div>\n",
              "  "
            ]
          },
          "metadata": {},
          "execution_count": 7
        }
      ]
    },
    {
      "cell_type": "code",
      "source": [
        "# Removing unnecessary column named \"Unnamed: 0\"\n",
        "data.drop('Unnamed: 0',axis=1,inplace=True)\n",
        "data.head()\n",
        "#checking whether it is droped or not!"
      ],
      "metadata": {
        "colab": {
          "base_uri": "https://localhost:8080/",
          "height": 206
        },
        "id": "LMflFOqJLXr4",
        "outputId": "59be065a-dc7b-493a-a6b5-6322e214b8c2"
      },
      "execution_count": null,
      "outputs": [
        {
          "output_type": "execute_result",
          "data": {
            "text/plain": [
              "   Danceability  Energy  Loudness  Speechiness  Acousticness  \\\n",
              "0         0.556   0.864    -5.870       0.0584      0.009580   \n",
              "1         0.737   0.463    -7.828       0.0792      0.008170   \n",
              "2         0.618   0.938    -3.442       0.0456      0.017900   \n",
              "3         0.331   0.943    -3.188       0.0698      0.007210   \n",
              "4         0.589   0.890    -3.719       0.0603      0.000481   \n",
              "\n",
              "   Instrumentalness  Liveness  Valence    Tempo  Genre  Top100  \n",
              "0          0.000000     0.209    0.400  105.143      5       0  \n",
              "1          0.447000     0.255    0.324  123.881      9       0  \n",
              "2          0.000000     0.167    0.875   91.455      9       0  \n",
              "3          0.000002     0.242    0.296   94.612      0       0  \n",
              "4          0.000820     0.201    0.692   90.598      5       0  "
            ],
            "text/html": [
              "\n",
              "  <div id=\"df-8624d86d-e5d6-492b-9e33-874aab4c85b9\">\n",
              "    <div class=\"colab-df-container\">\n",
              "      <div>\n",
              "<style scoped>\n",
              "    .dataframe tbody tr th:only-of-type {\n",
              "        vertical-align: middle;\n",
              "    }\n",
              "\n",
              "    .dataframe tbody tr th {\n",
              "        vertical-align: top;\n",
              "    }\n",
              "\n",
              "    .dataframe thead th {\n",
              "        text-align: right;\n",
              "    }\n",
              "</style>\n",
              "<table border=\"1\" class=\"dataframe\">\n",
              "  <thead>\n",
              "    <tr style=\"text-align: right;\">\n",
              "      <th></th>\n",
              "      <th>Danceability</th>\n",
              "      <th>Energy</th>\n",
              "      <th>Loudness</th>\n",
              "      <th>Speechiness</th>\n",
              "      <th>Acousticness</th>\n",
              "      <th>Instrumentalness</th>\n",
              "      <th>Liveness</th>\n",
              "      <th>Valence</th>\n",
              "      <th>Tempo</th>\n",
              "      <th>Genre</th>\n",
              "      <th>Top100</th>\n",
              "    </tr>\n",
              "  </thead>\n",
              "  <tbody>\n",
              "    <tr>\n",
              "      <th>0</th>\n",
              "      <td>0.556</td>\n",
              "      <td>0.864</td>\n",
              "      <td>-5.870</td>\n",
              "      <td>0.0584</td>\n",
              "      <td>0.009580</td>\n",
              "      <td>0.000000</td>\n",
              "      <td>0.209</td>\n",
              "      <td>0.400</td>\n",
              "      <td>105.143</td>\n",
              "      <td>5</td>\n",
              "      <td>0</td>\n",
              "    </tr>\n",
              "    <tr>\n",
              "      <th>1</th>\n",
              "      <td>0.737</td>\n",
              "      <td>0.463</td>\n",
              "      <td>-7.828</td>\n",
              "      <td>0.0792</td>\n",
              "      <td>0.008170</td>\n",
              "      <td>0.447000</td>\n",
              "      <td>0.255</td>\n",
              "      <td>0.324</td>\n",
              "      <td>123.881</td>\n",
              "      <td>9</td>\n",
              "      <td>0</td>\n",
              "    </tr>\n",
              "    <tr>\n",
              "      <th>2</th>\n",
              "      <td>0.618</td>\n",
              "      <td>0.938</td>\n",
              "      <td>-3.442</td>\n",
              "      <td>0.0456</td>\n",
              "      <td>0.017900</td>\n",
              "      <td>0.000000</td>\n",
              "      <td>0.167</td>\n",
              "      <td>0.875</td>\n",
              "      <td>91.455</td>\n",
              "      <td>9</td>\n",
              "      <td>0</td>\n",
              "    </tr>\n",
              "    <tr>\n",
              "      <th>3</th>\n",
              "      <td>0.331</td>\n",
              "      <td>0.943</td>\n",
              "      <td>-3.188</td>\n",
              "      <td>0.0698</td>\n",
              "      <td>0.007210</td>\n",
              "      <td>0.000002</td>\n",
              "      <td>0.242</td>\n",
              "      <td>0.296</td>\n",
              "      <td>94.612</td>\n",
              "      <td>0</td>\n",
              "      <td>0</td>\n",
              "    </tr>\n",
              "    <tr>\n",
              "      <th>4</th>\n",
              "      <td>0.589</td>\n",
              "      <td>0.890</td>\n",
              "      <td>-3.719</td>\n",
              "      <td>0.0603</td>\n",
              "      <td>0.000481</td>\n",
              "      <td>0.000820</td>\n",
              "      <td>0.201</td>\n",
              "      <td>0.692</td>\n",
              "      <td>90.598</td>\n",
              "      <td>5</td>\n",
              "      <td>0</td>\n",
              "    </tr>\n",
              "  </tbody>\n",
              "</table>\n",
              "</div>\n",
              "      <button class=\"colab-df-convert\" onclick=\"convertToInteractive('df-8624d86d-e5d6-492b-9e33-874aab4c85b9')\"\n",
              "              title=\"Convert this dataframe to an interactive table.\"\n",
              "              style=\"display:none;\">\n",
              "        \n",
              "  <svg xmlns=\"http://www.w3.org/2000/svg\" height=\"24px\"viewBox=\"0 0 24 24\"\n",
              "       width=\"24px\">\n",
              "    <path d=\"M0 0h24v24H0V0z\" fill=\"none\"/>\n",
              "    <path d=\"M18.56 5.44l.94 2.06.94-2.06 2.06-.94-2.06-.94-.94-2.06-.94 2.06-2.06.94zm-11 1L8.5 8.5l.94-2.06 2.06-.94-2.06-.94L8.5 2.5l-.94 2.06-2.06.94zm10 10l.94 2.06.94-2.06 2.06-.94-2.06-.94-.94-2.06-.94 2.06-2.06.94z\"/><path d=\"M17.41 7.96l-1.37-1.37c-.4-.4-.92-.59-1.43-.59-.52 0-1.04.2-1.43.59L10.3 9.45l-7.72 7.72c-.78.78-.78 2.05 0 2.83L4 21.41c.39.39.9.59 1.41.59.51 0 1.02-.2 1.41-.59l7.78-7.78 2.81-2.81c.8-.78.8-2.07 0-2.86zM5.41 20L4 18.59l7.72-7.72 1.47 1.35L5.41 20z\"/>\n",
              "  </svg>\n",
              "      </button>\n",
              "      \n",
              "  <style>\n",
              "    .colab-df-container {\n",
              "      display:flex;\n",
              "      flex-wrap:wrap;\n",
              "      gap: 12px;\n",
              "    }\n",
              "\n",
              "    .colab-df-convert {\n",
              "      background-color: #E8F0FE;\n",
              "      border: none;\n",
              "      border-radius: 50%;\n",
              "      cursor: pointer;\n",
              "      display: none;\n",
              "      fill: #1967D2;\n",
              "      height: 32px;\n",
              "      padding: 0 0 0 0;\n",
              "      width: 32px;\n",
              "    }\n",
              "\n",
              "    .colab-df-convert:hover {\n",
              "      background-color: #E2EBFA;\n",
              "      box-shadow: 0px 1px 2px rgba(60, 64, 67, 0.3), 0px 1px 3px 1px rgba(60, 64, 67, 0.15);\n",
              "      fill: #174EA6;\n",
              "    }\n",
              "\n",
              "    [theme=dark] .colab-df-convert {\n",
              "      background-color: #3B4455;\n",
              "      fill: #D2E3FC;\n",
              "    }\n",
              "\n",
              "    [theme=dark] .colab-df-convert:hover {\n",
              "      background-color: #434B5C;\n",
              "      box-shadow: 0px 1px 3px 1px rgba(0, 0, 0, 0.15);\n",
              "      filter: drop-shadow(0px 1px 2px rgba(0, 0, 0, 0.3));\n",
              "      fill: #FFFFFF;\n",
              "    }\n",
              "  </style>\n",
              "\n",
              "      <script>\n",
              "        const buttonEl =\n",
              "          document.querySelector('#df-8624d86d-e5d6-492b-9e33-874aab4c85b9 button.colab-df-convert');\n",
              "        buttonEl.style.display =\n",
              "          google.colab.kernel.accessAllowed ? 'block' : 'none';\n",
              "\n",
              "        async function convertToInteractive(key) {\n",
              "          const element = document.querySelector('#df-8624d86d-e5d6-492b-9e33-874aab4c85b9');\n",
              "          const dataTable =\n",
              "            await google.colab.kernel.invokeFunction('convertToInteractive',\n",
              "                                                     [key], {});\n",
              "          if (!dataTable) return;\n",
              "\n",
              "          const docLinkHtml = 'Like what you see? Visit the ' +\n",
              "            '<a target=\"_blank\" href=https://colab.research.google.com/notebooks/data_table.ipynb>data table notebook</a>'\n",
              "            + ' to learn more about interactive tables.';\n",
              "          element.innerHTML = '';\n",
              "          dataTable['output_type'] = 'display_data';\n",
              "          await google.colab.output.renderOutput(dataTable, element);\n",
              "          const docLink = document.createElement('div');\n",
              "          docLink.innerHTML = docLinkHtml;\n",
              "          element.appendChild(docLink);\n",
              "        }\n",
              "      </script>\n",
              "    </div>\n",
              "  </div>\n",
              "  "
            ]
          },
          "metadata": {},
          "execution_count": 8
        }
      ]
    },
    {
      "cell_type": "code",
      "source": [
        "\n",
        "data.describe()"
      ],
      "metadata": {
        "colab": {
          "base_uri": "https://localhost:8080/",
          "height": 300
        },
        "id": "3Hv9SRDgLaNI",
        "outputId": "990bba3c-8e4e-4c92-98a7-40bf459dcc8e"
      },
      "execution_count": null,
      "outputs": [
        {
          "output_type": "execute_result",
          "data": {
            "text/plain": [
              "       Danceability       Energy     Loudness  Speechiness  Acousticness  \\\n",
              "count   8652.000000  8652.000000  8652.000000  8652.000000   8652.000000   \n",
              "mean       0.629263     0.668914    -6.899446     0.098110      0.221021   \n",
              "std        0.154437     0.202883     3.262754     0.097514      0.267346   \n",
              "min        0.061700     0.002890   -36.729000     0.022800      0.000001   \n",
              "25%        0.530000     0.535000    -8.307250     0.037000      0.017300   \n",
              "50%        0.638000     0.700000    -6.142000     0.054150      0.099850   \n",
              "75%        0.741000     0.831000    -4.696750     0.114000      0.335000   \n",
              "max        0.981000     0.997000     1.342000     0.869000      0.996000   \n",
              "\n",
              "       Instrumentalness     Liveness      Valence        Tempo        Genre  \\\n",
              "count       8652.000000  8652.000000  8652.000000  8652.000000  8652.000000   \n",
              "mean           0.040536     0.181063     0.528754   121.364623     6.206657   \n",
              "std            0.150758     0.144034     0.239518    28.657971     1.834390   \n",
              "min            0.000000     0.011900     0.024600    46.591000     0.000000   \n",
              "25%            0.000000     0.092800     0.342000    98.523750     6.000000   \n",
              "50%            0.000005     0.123000     0.526000   120.027500     6.000000   \n",
              "75%            0.000778     0.228000     0.721250   139.929250     7.000000   \n",
              "max            0.982000     0.986000     0.982000   216.115000     9.000000   \n",
              "\n",
              "            Top100  \n",
              "count  8652.000000  \n",
              "mean      0.173486  \n",
              "std       0.378689  \n",
              "min       0.000000  \n",
              "25%       0.000000  \n",
              "50%       0.000000  \n",
              "75%       0.000000  \n",
              "max       1.000000  "
            ],
            "text/html": [
              "\n",
              "  <div id=\"df-ef81b653-2f91-43ce-837d-45ed921a7418\">\n",
              "    <div class=\"colab-df-container\">\n",
              "      <div>\n",
              "<style scoped>\n",
              "    .dataframe tbody tr th:only-of-type {\n",
              "        vertical-align: middle;\n",
              "    }\n",
              "\n",
              "    .dataframe tbody tr th {\n",
              "        vertical-align: top;\n",
              "    }\n",
              "\n",
              "    .dataframe thead th {\n",
              "        text-align: right;\n",
              "    }\n",
              "</style>\n",
              "<table border=\"1\" class=\"dataframe\">\n",
              "  <thead>\n",
              "    <tr style=\"text-align: right;\">\n",
              "      <th></th>\n",
              "      <th>Danceability</th>\n",
              "      <th>Energy</th>\n",
              "      <th>Loudness</th>\n",
              "      <th>Speechiness</th>\n",
              "      <th>Acousticness</th>\n",
              "      <th>Instrumentalness</th>\n",
              "      <th>Liveness</th>\n",
              "      <th>Valence</th>\n",
              "      <th>Tempo</th>\n",
              "      <th>Genre</th>\n",
              "      <th>Top100</th>\n",
              "    </tr>\n",
              "  </thead>\n",
              "  <tbody>\n",
              "    <tr>\n",
              "      <th>count</th>\n",
              "      <td>8652.000000</td>\n",
              "      <td>8652.000000</td>\n",
              "      <td>8652.000000</td>\n",
              "      <td>8652.000000</td>\n",
              "      <td>8652.000000</td>\n",
              "      <td>8652.000000</td>\n",
              "      <td>8652.000000</td>\n",
              "      <td>8652.000000</td>\n",
              "      <td>8652.000000</td>\n",
              "      <td>8652.000000</td>\n",
              "      <td>8652.000000</td>\n",
              "    </tr>\n",
              "    <tr>\n",
              "      <th>mean</th>\n",
              "      <td>0.629263</td>\n",
              "      <td>0.668914</td>\n",
              "      <td>-6.899446</td>\n",
              "      <td>0.098110</td>\n",
              "      <td>0.221021</td>\n",
              "      <td>0.040536</td>\n",
              "      <td>0.181063</td>\n",
              "      <td>0.528754</td>\n",
              "      <td>121.364623</td>\n",
              "      <td>6.206657</td>\n",
              "      <td>0.173486</td>\n",
              "    </tr>\n",
              "    <tr>\n",
              "      <th>std</th>\n",
              "      <td>0.154437</td>\n",
              "      <td>0.202883</td>\n",
              "      <td>3.262754</td>\n",
              "      <td>0.097514</td>\n",
              "      <td>0.267346</td>\n",
              "      <td>0.150758</td>\n",
              "      <td>0.144034</td>\n",
              "      <td>0.239518</td>\n",
              "      <td>28.657971</td>\n",
              "      <td>1.834390</td>\n",
              "      <td>0.378689</td>\n",
              "    </tr>\n",
              "    <tr>\n",
              "      <th>min</th>\n",
              "      <td>0.061700</td>\n",
              "      <td>0.002890</td>\n",
              "      <td>-36.729000</td>\n",
              "      <td>0.022800</td>\n",
              "      <td>0.000001</td>\n",
              "      <td>0.000000</td>\n",
              "      <td>0.011900</td>\n",
              "      <td>0.024600</td>\n",
              "      <td>46.591000</td>\n",
              "      <td>0.000000</td>\n",
              "      <td>0.000000</td>\n",
              "    </tr>\n",
              "    <tr>\n",
              "      <th>25%</th>\n",
              "      <td>0.530000</td>\n",
              "      <td>0.535000</td>\n",
              "      <td>-8.307250</td>\n",
              "      <td>0.037000</td>\n",
              "      <td>0.017300</td>\n",
              "      <td>0.000000</td>\n",
              "      <td>0.092800</td>\n",
              "      <td>0.342000</td>\n",
              "      <td>98.523750</td>\n",
              "      <td>6.000000</td>\n",
              "      <td>0.000000</td>\n",
              "    </tr>\n",
              "    <tr>\n",
              "      <th>50%</th>\n",
              "      <td>0.638000</td>\n",
              "      <td>0.700000</td>\n",
              "      <td>-6.142000</td>\n",
              "      <td>0.054150</td>\n",
              "      <td>0.099850</td>\n",
              "      <td>0.000005</td>\n",
              "      <td>0.123000</td>\n",
              "      <td>0.526000</td>\n",
              "      <td>120.027500</td>\n",
              "      <td>6.000000</td>\n",
              "      <td>0.000000</td>\n",
              "    </tr>\n",
              "    <tr>\n",
              "      <th>75%</th>\n",
              "      <td>0.741000</td>\n",
              "      <td>0.831000</td>\n",
              "      <td>-4.696750</td>\n",
              "      <td>0.114000</td>\n",
              "      <td>0.335000</td>\n",
              "      <td>0.000778</td>\n",
              "      <td>0.228000</td>\n",
              "      <td>0.721250</td>\n",
              "      <td>139.929250</td>\n",
              "      <td>7.000000</td>\n",
              "      <td>0.000000</td>\n",
              "    </tr>\n",
              "    <tr>\n",
              "      <th>max</th>\n",
              "      <td>0.981000</td>\n",
              "      <td>0.997000</td>\n",
              "      <td>1.342000</td>\n",
              "      <td>0.869000</td>\n",
              "      <td>0.996000</td>\n",
              "      <td>0.982000</td>\n",
              "      <td>0.986000</td>\n",
              "      <td>0.982000</td>\n",
              "      <td>216.115000</td>\n",
              "      <td>9.000000</td>\n",
              "      <td>1.000000</td>\n",
              "    </tr>\n",
              "  </tbody>\n",
              "</table>\n",
              "</div>\n",
              "      <button class=\"colab-df-convert\" onclick=\"convertToInteractive('df-ef81b653-2f91-43ce-837d-45ed921a7418')\"\n",
              "              title=\"Convert this dataframe to an interactive table.\"\n",
              "              style=\"display:none;\">\n",
              "        \n",
              "  <svg xmlns=\"http://www.w3.org/2000/svg\" height=\"24px\"viewBox=\"0 0 24 24\"\n",
              "       width=\"24px\">\n",
              "    <path d=\"M0 0h24v24H0V0z\" fill=\"none\"/>\n",
              "    <path d=\"M18.56 5.44l.94 2.06.94-2.06 2.06-.94-2.06-.94-.94-2.06-.94 2.06-2.06.94zm-11 1L8.5 8.5l.94-2.06 2.06-.94-2.06-.94L8.5 2.5l-.94 2.06-2.06.94zm10 10l.94 2.06.94-2.06 2.06-.94-2.06-.94-.94-2.06-.94 2.06-2.06.94z\"/><path d=\"M17.41 7.96l-1.37-1.37c-.4-.4-.92-.59-1.43-.59-.52 0-1.04.2-1.43.59L10.3 9.45l-7.72 7.72c-.78.78-.78 2.05 0 2.83L4 21.41c.39.39.9.59 1.41.59.51 0 1.02-.2 1.41-.59l7.78-7.78 2.81-2.81c.8-.78.8-2.07 0-2.86zM5.41 20L4 18.59l7.72-7.72 1.47 1.35L5.41 20z\"/>\n",
              "  </svg>\n",
              "      </button>\n",
              "      \n",
              "  <style>\n",
              "    .colab-df-container {\n",
              "      display:flex;\n",
              "      flex-wrap:wrap;\n",
              "      gap: 12px;\n",
              "    }\n",
              "\n",
              "    .colab-df-convert {\n",
              "      background-color: #E8F0FE;\n",
              "      border: none;\n",
              "      border-radius: 50%;\n",
              "      cursor: pointer;\n",
              "      display: none;\n",
              "      fill: #1967D2;\n",
              "      height: 32px;\n",
              "      padding: 0 0 0 0;\n",
              "      width: 32px;\n",
              "    }\n",
              "\n",
              "    .colab-df-convert:hover {\n",
              "      background-color: #E2EBFA;\n",
              "      box-shadow: 0px 1px 2px rgba(60, 64, 67, 0.3), 0px 1px 3px 1px rgba(60, 64, 67, 0.15);\n",
              "      fill: #174EA6;\n",
              "    }\n",
              "\n",
              "    [theme=dark] .colab-df-convert {\n",
              "      background-color: #3B4455;\n",
              "      fill: #D2E3FC;\n",
              "    }\n",
              "\n",
              "    [theme=dark] .colab-df-convert:hover {\n",
              "      background-color: #434B5C;\n",
              "      box-shadow: 0px 1px 3px 1px rgba(0, 0, 0, 0.15);\n",
              "      filter: drop-shadow(0px 1px 2px rgba(0, 0, 0, 0.3));\n",
              "      fill: #FFFFFF;\n",
              "    }\n",
              "  </style>\n",
              "\n",
              "      <script>\n",
              "        const buttonEl =\n",
              "          document.querySelector('#df-ef81b653-2f91-43ce-837d-45ed921a7418 button.colab-df-convert');\n",
              "        buttonEl.style.display =\n",
              "          google.colab.kernel.accessAllowed ? 'block' : 'none';\n",
              "\n",
              "        async function convertToInteractive(key) {\n",
              "          const element = document.querySelector('#df-ef81b653-2f91-43ce-837d-45ed921a7418');\n",
              "          const dataTable =\n",
              "            await google.colab.kernel.invokeFunction('convertToInteractive',\n",
              "                                                     [key], {});\n",
              "          if (!dataTable) return;\n",
              "\n",
              "          const docLinkHtml = 'Like what you see? Visit the ' +\n",
              "            '<a target=\"_blank\" href=https://colab.research.google.com/notebooks/data_table.ipynb>data table notebook</a>'\n",
              "            + ' to learn more about interactive tables.';\n",
              "          element.innerHTML = '';\n",
              "          dataTable['output_type'] = 'display_data';\n",
              "          await google.colab.output.renderOutput(dataTable, element);\n",
              "          const docLink = document.createElement('div');\n",
              "          docLink.innerHTML = docLinkHtml;\n",
              "          element.appendChild(docLink);\n",
              "        }\n",
              "      </script>\n",
              "    </div>\n",
              "  </div>\n",
              "  "
            ]
          },
          "metadata": {},
          "execution_count": 9
        }
      ]
    },
    {
      "cell_type": "code",
      "source": [
        "# Checkinng shape of dataset\n",
        "data.shape\n"
      ],
      "metadata": {
        "colab": {
          "base_uri": "https://localhost:8080/"
        },
        "id": "YjhUI2IULcHK",
        "outputId": "d9e6f282-38fe-4dba-d8f1-63e8d949a4db"
      },
      "execution_count": null,
      "outputs": [
        {
          "output_type": "execute_result",
          "data": {
            "text/plain": [
              "(8652, 11)"
            ]
          },
          "metadata": {},
          "execution_count": 10
        }
      ]
    },
    {
      "cell_type": "code",
      "source": [
        "print(data.info())\n"
      ],
      "metadata": {
        "colab": {
          "base_uri": "https://localhost:8080/"
        },
        "id": "CUMkc24GLcDy",
        "outputId": "dd310439-c06a-4798-d871-25ffdb283222"
      },
      "execution_count": null,
      "outputs": [
        {
          "output_type": "stream",
          "name": "stdout",
          "text": [
            "<class 'pandas.core.frame.DataFrame'>\n",
            "RangeIndex: 8652 entries, 0 to 8651\n",
            "Data columns (total 11 columns):\n",
            " #   Column            Non-Null Count  Dtype  \n",
            "---  ------            --------------  -----  \n",
            " 0   Danceability      8652 non-null   float64\n",
            " 1   Energy            8652 non-null   float64\n",
            " 2   Loudness          8652 non-null   float64\n",
            " 3   Speechiness       8652 non-null   float64\n",
            " 4   Acousticness      8652 non-null   float64\n",
            " 5   Instrumentalness  8652 non-null   float64\n",
            " 6   Liveness          8652 non-null   float64\n",
            " 7   Valence           8652 non-null   float64\n",
            " 8   Tempo             8652 non-null   float64\n",
            " 9   Genre             8652 non-null   int64  \n",
            " 10  Top100            8652 non-null   int64  \n",
            "dtypes: float64(9), int64(2)\n",
            "memory usage: 743.7 KB\n",
            "None\n"
          ]
        }
      ]
    },
    {
      "cell_type": "code",
      "source": [
        "# Plotting graph of Top100\n",
        "sns.countplot(x=\"Top100\",data=data,palette=\"Set3\")\n"
      ],
      "metadata": {
        "colab": {
          "base_uri": "https://localhost:8080/",
          "height": 296
        },
        "id": "4ubzd31iLiDb",
        "outputId": "670cc24d-b94e-4cd7-d477-6b66478be3c9"
      },
      "execution_count": null,
      "outputs": [
        {
          "output_type": "execute_result",
          "data": {
            "text/plain": [
              "<matplotlib.axes._subplots.AxesSubplot at 0x7facea5c5350>"
            ]
          },
          "metadata": {},
          "execution_count": 12
        },
        {
          "output_type": "display_data",
          "data": {
            "text/plain": [
              "<Figure size 432x288 with 1 Axes>"
            ],
            "image/png": "[encoded data removed]"
          },
          "metadata": {
            "needs_background": "light"
          }
        }
      ]
    },
    {
      "cell_type": "code",
      "source": [
        "data['Top100'].value_counts()"
      ],
      "metadata": {
        "colab": {
          "base_uri": "https://localhost:8080/"
        },
        "id": "WmYCAEQOLlNg",
        "outputId": "8e359e8a-f382-40bb-f8e0-f78054ff76e3"
      },
      "execution_count": null,
      "outputs": [
        {
          "output_type": "execute_result",
          "data": {
            "text/plain": [
              "0    7151\n",
              "1    1501\n",
              "Name: Top100, dtype: int64"
            ]
          },
          "metadata": {},
          "execution_count": 13
        }
      ]
    },
    {
      "cell_type": "code",
      "source": [
        "# Splitting into X and y\n",
        "X=data.drop(\"Top100\",axis=1)    # excluding output column\n",
        "y=data[\"Top100\"]"
      ],
      "metadata": {
        "id": "swLf5T5LLniz"
      },
      "execution_count": null,
      "outputs": []
    },
    {
      "cell_type": "code",
      "source": [
        "X.shape"
      ],
      "metadata": {
        "colab": {
          "base_uri": "https://localhost:8080/"
        },
        "id": "pE2SjvZHLpeg",
        "outputId": "3a0c0a71-3237-4a22-9aab-ebff0facae22"
      },
      "execution_count": null,
      "outputs": [
        {
          "output_type": "execute_result",
          "data": {
            "text/plain": [
              "(8652, 10)"
            ]
          },
          "metadata": {},
          "execution_count": 15
        }
      ]
    },
    {
      "cell_type": "code",
      "source": [
        "y"
      ],
      "metadata": {
        "colab": {
          "base_uri": "https://localhost:8080/"
        },
        "id": "TjTPukU6Lr26",
        "outputId": "9c8e6ff6-39f7-4e10-bfc3-2aff1404f05d"
      },
      "execution_count": null,
      "outputs": [
        {
          "output_type": "execute_result",
          "data": {
            "text/plain": [
              "0       0\n",
              "1       0\n",
              "2       0\n",
              "3       0\n",
              "4       0\n",
              "       ..\n",
              "8647    1\n",
              "8648    1\n",
              "8649    1\n",
              "8650    1\n",
              "8651    1\n",
              "Name: Top100, Length: 8652, dtype: int64"
            ]
          },
          "metadata": {},
          "execution_count": 16
        }
      ]
    },
    {
      "cell_type": "code",
      "source": [
        "y.shape"
      ],
      "metadata": {
        "colab": {
          "base_uri": "https://localhost:8080/"
        },
        "id": "9km1aTIpLtbP",
        "outputId": "dc89a2d3-3a85-43fb-e37b-a7c220d26f83"
      },
      "execution_count": null,
      "outputs": [
        {
          "output_type": "execute_result",
          "data": {
            "text/plain": [
              "(8652,)"
            ]
          },
          "metadata": {},
          "execution_count": 17
        }
      ]
    },
    {
      "cell_type": "code",
      "source": [
        "# Applying SMOTE: to balance the dataset\n",
        "\n",
        "from imblearn.over_sampling import SMOTE\n",
        "smote=SMOTE(sampling_strategy=\"minority\")\n",
        "X_sm,y_sm=smote.fit_resample(X,y)\n",
        "X_sm.shape,y_sm.shape \n"
      ],
      "metadata": {
        "colab": {
          "base_uri": "https://localhost:8080/"
        },
        "id": "KYDbBMbOLvZk",
        "outputId": "2102cd51-d409-4980-ec89-35bf5304e137"
      },
      "execution_count": null,
      "outputs": [
        {
          "output_type": "execute_result",
          "data": {
            "text/plain": [
              "((14302, 10), (14302,))"
            ]
          },
          "metadata": {},
          "execution_count": 18
        }
      ]
    },
    {
      "cell_type": "code",
      "source": [
        "# Checking the shape again after applying smote\n",
        "X_sm.shape,y_sm.shape"
      ],
      "metadata": {
        "colab": {
          "base_uri": "https://localhost:8080/"
        },
        "id": "S8WqLYiGLxXv",
        "outputId": "11f455e6-e896-4ab8-91e2-39fe986c729a"
      },
      "execution_count": null,
      "outputs": [
        {
          "output_type": "execute_result",
          "data": {
            "text/plain": [
              "((14302, 10), (14302,))"
            ]
          },
          "metadata": {},
          "execution_count": 19
        }
      ]
    },
    {
      "cell_type": "code",
      "source": [
        "data.columns"
      ],
      "metadata": {
        "colab": {
          "base_uri": "https://localhost:8080/"
        },
        "id": "55A7ZVt2L0Fz",
        "outputId": "13243035-4147-4739-ed38-816b79535ddd"
      },
      "execution_count": null,
      "outputs": [
        {
          "output_type": "execute_result",
          "data": {
            "text/plain": [
              "Index(['Danceability', 'Energy', 'Loudness', 'Speechiness', 'Acousticness',\n",
              "       'Instrumentalness', 'Liveness', 'Valence', 'Tempo', 'Genre', 'Top100'],\n",
              "      dtype='object')"
            ]
          },
          "metadata": {},
          "execution_count": 20
        }
      ]
    },
    {
      "cell_type": "code",
      "source": [
        "column=['Danceability', 'Energy', 'Loudness', 'Speechiness', 'Acousticness',\n",
        "       'Instrumentalness', 'Liveness', 'Valence', 'Tempo', 'Genre']\n",
        "X_balance=pd.DataFrame(X_sm,columns=column)\n",
        "X_balance.head()"
      ],
      "metadata": {
        "colab": {
          "base_uri": "https://localhost:8080/",
          "height": 206
        },
        "id": "K-YiBt0RL2SR",
        "outputId": "80540fd0-b51b-4b0d-ad2b-5ce9a45327d2"
      },
      "execution_count": null,
      "outputs": [
        {
          "output_type": "execute_result",
          "data": {
            "text/plain": [
              "   Danceability  Energy  Loudness  Speechiness  Acousticness  \\\n",
              "0         0.556   0.864    -5.870       0.0584      0.009580   \n",
              "1         0.737   0.463    -7.828       0.0792      0.008170   \n",
              "2         0.618   0.938    -3.442       0.0456      0.017900   \n",
              "3         0.331   0.943    -3.188       0.0698      0.007210   \n",
              "4         0.589   0.890    -3.719       0.0603      0.000481   \n",
              "\n",
              "   Instrumentalness  Liveness  Valence    Tempo  Genre  \n",
              "0          0.000000     0.209    0.400  105.143      5  \n",
              "1          0.447000     0.255    0.324  123.881      9  \n",
              "2          0.000000     0.167    0.875   91.455      9  \n",
              "3          0.000002     0.242    0.296   94.612      0  \n",
              "4          0.000820     0.201    0.692   90.598      5  "
            ],
            "text/html": [
              "\n",
              "  <div id=\"df-88ae712f-0168-4fba-8866-40fb6e684a6e\">\n",
              "    <div class=\"colab-df-container\">\n",
              "      <div>\n",
              "<style scoped>\n",
              "    .dataframe tbody tr th:only-of-type {\n",
              "        vertical-align: middle;\n",
              "    }\n",
              "\n",
              "    .dataframe tbody tr th {\n",
              "        vertical-align: top;\n",
              "    }\n",
              "\n",
              "    .dataframe thead th {\n",
              "        text-align: right;\n",
              "    }\n",
              "</style>\n",
              "<table border=\"1\" class=\"dataframe\">\n",
              "  <thead>\n",
              "    <tr style=\"text-align: right;\">\n",
              "      <th></th>\n",
              "      <th>Danceability</th>\n",
              "      <th>Energy</th>\n",
              "      <th>Loudness</th>\n",
              "      <th>Speechiness</th>\n",
              "      <th>Acousticness</th>\n",
              "      <th>Instrumentalness</th>\n",
              "      <th>Liveness</th>\n",
              "      <th>Valence</th>\n",
              "      <th>Tempo</th>\n",
              "      <th>Genre</th>\n",
              "    </tr>\n",
              "  </thead>\n",
              "  <tbody>\n",
              "    <tr>\n",
              "      <th>0</th>\n",
              "      <td>0.556</td>\n",
              "      <td>0.864</td>\n",
              "      <td>-5.870</td>\n",
              "      <td>0.0584</td>\n",
              "      <td>0.009580</td>\n",
              "      <td>0.000000</td>\n",
              "      <td>0.209</td>\n",
              "      <td>0.400</td>\n",
              "      <td>105.143</td>\n",
              "      <td>5</td>\n",
              "    </tr>\n",
              "    <tr>\n",
              "      <th>1</th>\n",
              "      <td>0.737</td>\n",
              "      <td>0.463</td>\n",
              "      <td>-7.828</td>\n",
              "      <td>0.0792</td>\n",
              "      <td>0.008170</td>\n",
              "      <td>0.447000</td>\n",
              "      <td>0.255</td>\n",
              "      <td>0.324</td>\n",
              "      <td>123.881</td>\n",
              "      <td>9</td>\n",
              "    </tr>\n",
              "    <tr>\n",
              "      <th>2</th>\n",
              "      <td>0.618</td>\n",
              "      <td>0.938</td>\n",
              "      <td>-3.442</td>\n",
              "      <td>0.0456</td>\n",
              "      <td>0.017900</td>\n",
              "      <td>0.000000</td>\n",
              "      <td>0.167</td>\n",
              "      <td>0.875</td>\n",
              "      <td>91.455</td>\n",
              "      <td>9</td>\n",
              "    </tr>\n",
              "    <tr>\n",
              "      <th>3</th>\n",
              "      <td>0.331</td>\n",
              "      <td>0.943</td>\n",
              "      <td>-3.188</td>\n",
              "      <td>0.0698</td>\n",
              "      <td>0.007210</td>\n",
              "      <td>0.000002</td>\n",
              "      <td>0.242</td>\n",
              "      <td>0.296</td>\n",
              "      <td>94.612</td>\n",
              "      <td>0</td>\n",
              "    </tr>\n",
              "    <tr>\n",
              "      <th>4</th>\n",
              "      <td>0.589</td>\n",
              "      <td>0.890</td>\n",
              "      <td>-3.719</td>\n",
              "      <td>0.0603</td>\n",
              "      <td>0.000481</td>\n",
              "      <td>0.000820</td>\n",
              "      <td>0.201</td>\n",
              "      <td>0.692</td>\n",
              "      <td>90.598</td>\n",
              "      <td>5</td>\n",
              "    </tr>\n",
              "  </tbody>\n",
              "</table>\n",
              "</div>\n",
              "      <button class=\"colab-df-convert\" onclick=\"convertToInteractive('df-88ae712f-0168-4fba-8866-40fb6e684a6e')\"\n",
              "              title=\"Convert this dataframe to an interactive table.\"\n",
              "              style=\"display:none;\">\n",
              "        \n",
              "  <svg xmlns=\"http://www.w3.org/2000/svg\" height=\"24px\"viewBox=\"0 0 24 24\"\n",
              "       width=\"24px\">\n",
              "    <path d=\"M0 0h24v24H0V0z\" fill=\"none\"/>\n",
              "    <path d=\"M18.56 5.44l.94 2.06.94-2.06 2.06-.94-2.06-.94-.94-2.06-.94 2.06-2.06.94zm-11 1L8.5 8.5l.94-2.06 2.06-.94-2.06-.94L8.5 2.5l-.94 2.06-2.06.94zm10 10l.94 2.06.94-2.06 2.06-.94-2.06-.94-.94-2.06-.94 2.06-2.06.94z\"/><path d=\"M17.41 7.96l-1.37-1.37c-.4-.4-.92-.59-1.43-.59-.52 0-1.04.2-1.43.59L10.3 9.45l-7.72 7.72c-.78.78-.78 2.05 0 2.83L4 21.41c.39.39.9.59 1.41.59.51 0 1.02-.2 1.41-.59l7.78-7.78 2.81-2.81c.8-.78.8-2.07 0-2.86zM5.41 20L4 18.59l7.72-7.72 1.47 1.35L5.41 20z\"/>\n",
              "  </svg>\n",
              "      </button>\n",
              "      \n",
              "  <style>\n",
              "    .colab-df-container {\n",
              "      display:flex;\n",
              "      flex-wrap:wrap;\n",
              "      gap: 12px;\n",
              "    }\n",
              "\n",
              "    .colab-df-convert {\n",
              "      background-color: #E8F0FE;\n",
              "      border: none;\n",
              "      border-radius: 50%;\n",
              "      cursor: pointer;\n",
              "      display: none;\n",
              "      fill: #1967D2;\n",
              "      height: 32px;\n",
              "      padding: 0 0 0 0;\n",
              "      width: 32px;\n",
              "    }\n",
              "\n",
              "    .colab-df-convert:hover {\n",
              "      background-color: #E2EBFA;\n",
              "      box-shadow: 0px 1px 2px rgba(60, 64, 67, 0.3), 0px 1px 3px 1px rgba(60, 64, 67, 0.15);\n",
              "      fill: #174EA6;\n",
              "    }\n",
              "\n",
              "    [theme=dark] .colab-df-convert {\n",
              "      background-color: #3B4455;\n",
              "      fill: #D2E3FC;\n",
              "    }\n",
              "\n",
              "    [theme=dark] .colab-df-convert:hover {\n",
              "      background-color: #434B5C;\n",
              "      box-shadow: 0px 1px 3px 1px rgba(0, 0, 0, 0.15);\n",
              "      filter: drop-shadow(0px 1px 2px rgba(0, 0, 0, 0.3));\n",
              "      fill: #FFFFFF;\n",
              "    }\n",
              "  </style>\n",
              "\n",
              "      <script>\n",
              "        const buttonEl =\n",
              "          document.querySelector('#df-88ae712f-0168-4fba-8866-40fb6e684a6e button.colab-df-convert');\n",
              "        buttonEl.style.display =\n",
              "          google.colab.kernel.accessAllowed ? 'block' : 'none';\n",
              "\n",
              "        async function convertToInteractive(key) {\n",
              "          const element = document.querySelector('#df-88ae712f-0168-4fba-8866-40fb6e684a6e');\n",
              "          const dataTable =\n",
              "            await google.colab.kernel.invokeFunction('convertToInteractive',\n",
              "                                                     [key], {});\n",
              "          if (!dataTable) return;\n",
              "\n",
              "          const docLinkHtml = 'Like what you see? Visit the ' +\n",
              "            '<a target=\"_blank\" href=https://colab.research.google.com/notebooks/data_table.ipynb>data table notebook</a>'\n",
              "            + ' to learn more about interactive tables.';\n",
              "          element.innerHTML = '';\n",
              "          dataTable['output_type'] = 'display_data';\n",
              "          await google.colab.output.renderOutput(dataTable, element);\n",
              "          const docLink = document.createElement('div');\n",
              "          docLink.innerHTML = docLinkHtml;\n",
              "          element.appendChild(docLink);\n",
              "        }\n",
              "      </script>\n",
              "    </div>\n",
              "  </div>\n",
              "  "
            ]
          },
          "metadata": {},
          "execution_count": 21
        }
      ]
    },
    {
      "cell_type": "code",
      "source": [
        "X_balance.shape"
      ],
      "metadata": {
        "colab": {
          "base_uri": "https://localhost:8080/"
        },
        "id": "4GHU_JhzL4cq",
        "outputId": "aa0db8e0-b16a-4000-f38f-604e10b3ebca"
      },
      "execution_count": null,
      "outputs": [
        {
          "output_type": "execute_result",
          "data": {
            "text/plain": [
              "(14302, 10)"
            ]
          },
          "metadata": {},
          "execution_count": 22
        }
      ]
    },
    {
      "cell_type": "code",
      "source": [
        "# MinMax scaler to scale our data , since we can see that there can be units difference\n",
        "from sklearn.preprocessing import MinMaxScaler\n",
        "scaling=MinMaxScaler()\n",
        "X_scaled=scaling.fit_transform(X_sm)"
      ],
      "metadata": {
        "id": "V98d2p8VL6iv"
      },
      "execution_count": null,
      "outputs": []
    },
    {
      "cell_type": "code",
      "source": [
        "column=['Danceability', 'Energy', 'Loudness', 'Speechiness', 'Acousticness',\n",
        "       'Instrumentalness', 'Liveness', 'Valence', 'Tempo', 'Genre']\n",
        "X_final=pd.DataFrame(X_scaled,columns=column)\n",
        "X_final.head(2)"
      ],
      "metadata": {
        "colab": {
          "base_uri": "https://localhost:8080/",
          "height": 112
        },
        "id": "KtFG93oiL8W8",
        "outputId": "7a6ce099-34ca-465f-db61-52884e522e1e"
      },
      "execution_count": null,
      "outputs": [
        {
          "output_type": "execute_result",
          "data": {
            "text/plain": [
              "   Danceability    Energy  Loudness  Speechiness  Acousticness  \\\n",
              "0      0.537692  0.866212  0.810564     0.042070      0.009617   \n",
              "1      0.734581  0.462836  0.759134     0.066651      0.008202   \n",
              "\n",
              "   Instrumentalness  Liveness   Valence     Tempo     Genre  \n",
              "0          0.000000  0.202341  0.392104  0.345391  0.555556  \n",
              "1          0.455193  0.249564  0.312722  0.455924  1.000000  "
            ],
            "text/html": [
              "\n",
              "  <div id=\"df-8bc76618-d88f-41af-8b1d-d4e26599e277\">\n",
              "    <div class=\"colab-df-container\">\n",
              "      <div>\n",
              "<style scoped>\n",
              "    .dataframe tbody tr th:only-of-type {\n",
              "        vertical-align: middle;\n",
              "    }\n",
              "\n",
              "    .dataframe tbody tr th {\n",
              "        vertical-align: top;\n",
              "    }\n",
              "\n",
              "    .dataframe thead th {\n",
              "        text-align: right;\n",
              "    }\n",
              "</style>\n",
              "<table border=\"1\" class=\"dataframe\">\n",
              "  <thead>\n",
              "    <tr style=\"text-align: right;\">\n",
              "      <th></th>\n",
              "      <th>Danceability</th>\n",
              "      <th>Energy</th>\n",
              "      <th>Loudness</th>\n",
              "      <th>Speechiness</th>\n",
              "      <th>Acousticness</th>\n",
              "      <th>Instrumentalness</th>\n",
              "      <th>Liveness</th>\n",
              "      <th>Valence</th>\n",
              "      <th>Tempo</th>\n",
              "      <th>Genre</th>\n",
              "    </tr>\n",
              "  </thead>\n",
              "  <tbody>\n",
              "    <tr>\n",
              "      <th>0</th>\n",
              "      <td>0.537692</td>\n",
              "      <td>0.866212</td>\n",
              "      <td>0.810564</td>\n",
              "      <td>0.042070</td>\n",
              "      <td>0.009617</td>\n",
              "      <td>0.000000</td>\n",
              "      <td>0.202341</td>\n",
              "      <td>0.392104</td>\n",
              "      <td>0.345391</td>\n",
              "      <td>0.555556</td>\n",
              "    </tr>\n",
              "    <tr>\n",
              "      <th>1</th>\n",
              "      <td>0.734581</td>\n",
              "      <td>0.462836</td>\n",
              "      <td>0.759134</td>\n",
              "      <td>0.066651</td>\n",
              "      <td>0.008202</td>\n",
              "      <td>0.455193</td>\n",
              "      <td>0.249564</td>\n",
              "      <td>0.312722</td>\n",
              "      <td>0.455924</td>\n",
              "      <td>1.000000</td>\n",
              "    </tr>\n",
              "  </tbody>\n",
              "</table>\n",
              "</div>\n",
              "      <button class=\"colab-df-convert\" onclick=\"convertToInteractive('df-8bc76618-d88f-41af-8b1d-d4e26599e277')\"\n",
              "              title=\"Convert this dataframe to an interactive table.\"\n",
              "              style=\"display:none;\">\n",
              "        \n",
              "  <svg xmlns=\"http://www.w3.org/2000/svg\" height=\"24px\"viewBox=\"0 0 24 24\"\n",
              "       width=\"24px\">\n",
              "    <path d=\"M0 0h24v24H0V0z\" fill=\"none\"/>\n",
              "    <path d=\"M18.56 5.44l.94 2.06.94-2.06 2.06-.94-2.06-.94-.94-2.06-.94 2.06-2.06.94zm-11 1L8.5 8.5l.94-2.06 2.06-.94-2.06-.94L8.5 2.5l-.94 2.06-2.06.94zm10 10l.94 2.06.94-2.06 2.06-.94-2.06-.94-.94-2.06-.94 2.06-2.06.94z\"/><path d=\"M17.41 7.96l-1.37-1.37c-.4-.4-.92-.59-1.43-.59-.52 0-1.04.2-1.43.59L10.3 9.45l-7.72 7.72c-.78.78-.78 2.05 0 2.83L4 21.41c.39.39.9.59 1.41.59.51 0 1.02-.2 1.41-.59l7.78-7.78 2.81-2.81c.8-.78.8-2.07 0-2.86zM5.41 20L4 18.59l7.72-7.72 1.47 1.35L5.41 20z\"/>\n",
              "  </svg>\n",
              "      </button>\n",
              "      \n",
              "  <style>\n",
              "    .colab-df-container {\n",
              "      display:flex;\n",
              "      flex-wrap:wrap;\n",
              "      gap: 12px;\n",
              "    }\n",
              "\n",
              "    .colab-df-convert {\n",
              "      background-color: #E8F0FE;\n",
              "      border: none;\n",
              "      border-radius: 50%;\n",
              "      cursor: pointer;\n",
              "      display: none;\n",
              "      fill: #1967D2;\n",
              "      height: 32px;\n",
              "      padding: 0 0 0 0;\n",
              "      width: 32px;\n",
              "    }\n",
              "\n",
              "    .colab-df-convert:hover {\n",
              "      background-color: #E2EBFA;\n",
              "      box-shadow: 0px 1px 2px rgba(60, 64, 67, 0.3), 0px 1px 3px 1px rgba(60, 64, 67, 0.15);\n",
              "      fill: #174EA6;\n",
              "    }\n",
              "\n",
              "    [theme=dark] .colab-df-convert {\n",
              "      background-color: #3B4455;\n",
              "      fill: #D2E3FC;\n",
              "    }\n",
              "\n",
              "    [theme=dark] .colab-df-convert:hover {\n",
              "      background-color: #434B5C;\n",
              "      box-shadow: 0px 1px 3px 1px rgba(0, 0, 0, 0.15);\n",
              "      filter: drop-shadow(0px 1px 2px rgba(0, 0, 0, 0.3));\n",
              "      fill: #FFFFFF;\n",
              "    }\n",
              "  </style>\n",
              "\n",
              "      <script>\n",
              "        const buttonEl =\n",
              "          document.querySelector('#df-8bc76618-d88f-41af-8b1d-d4e26599e277 button.colab-df-convert');\n",
              "        buttonEl.style.display =\n",
              "          google.colab.kernel.accessAllowed ? 'block' : 'none';\n",
              "\n",
              "        async function convertToInteractive(key) {\n",
              "          const element = document.querySelector('#df-8bc76618-d88f-41af-8b1d-d4e26599e277');\n",
              "          const dataTable =\n",
              "            await google.colab.kernel.invokeFunction('convertToInteractive',\n",
              "                                                     [key], {});\n",
              "          if (!dataTable) return;\n",
              "\n",
              "          const docLinkHtml = 'Like what you see? Visit the ' +\n",
              "            '<a target=\"_blank\" href=https://colab.research.google.com/notebooks/data_table.ipynb>data table notebook</a>'\n",
              "            + ' to learn more about interactive tables.';\n",
              "          element.innerHTML = '';\n",
              "          dataTable['output_type'] = 'display_data';\n",
              "          await google.colab.output.renderOutput(dataTable, element);\n",
              "          const docLink = document.createElement('div');\n",
              "          docLink.innerHTML = docLinkHtml;\n",
              "          element.appendChild(docLink);\n",
              "        }\n",
              "      </script>\n",
              "    </div>\n",
              "  </div>\n",
              "  "
            ]
          },
          "metadata": {},
          "execution_count": 24
        }
      ]
    },
    {
      "cell_type": "code",
      "source": [
        "X_final.shape\n"
      ],
      "metadata": {
        "colab": {
          "base_uri": "https://localhost:8080/"
        },
        "id": "4acSue1PL-h0",
        "outputId": "d57b8e32-338b-4af3-db2d-d13f1e2cf781"
      },
      "execution_count": null,
      "outputs": [
        {
          "output_type": "execute_result",
          "data": {
            "text/plain": [
              "(14302, 10)"
            ]
          },
          "metadata": {},
          "execution_count": 25
        }
      ]
    },
    {
      "cell_type": "code",
      "source": [
        "# Hold-out validation\n",
        "\n",
        "X_train, X_test, y_train, y_test = train_test_split(X_final, y_sm, train_size = 0.8, test_size=0.2, random_state=1)\n",
        "\n",
        "print(X_train.shape)\n",
        "print(X_test.shape)\n",
        "\n",
        "print(y_train.shape)\n",
        "print(y_test.shape)"
      ],
      "metadata": {
        "colab": {
          "base_uri": "https://localhost:8080/"
        },
        "id": "JvQ49BBbMAiB",
        "outputId": "4e7d43c3-4f04-43e1-ab5d-68f715340394"
      },
      "execution_count": null,
      "outputs": [
        {
          "output_type": "stream",
          "name": "stdout",
          "text": [
            "(11441, 10)\n",
            "(2861, 10)\n",
            "(11441,)\n",
            "(2861,)\n"
          ]
        }
      ]
    },
    {
      "cell_type": "code",
      "source": [
        "#plotting graph again to check for balanced datset\n",
        "ax = sns.countplot(x = y_train, palette = \"Set3\")"
      ],
      "metadata": {
        "colab": {
          "base_uri": "https://localhost:8080/",
          "height": 283
        },
        "id": "Y5UhOvj4MC9a",
        "outputId": "9f7834eb-19f6-46dd-e8e9-bb73afec3a1c"
      },
      "execution_count": null,
      "outputs": [
        {
          "output_type": "display_data",
          "data": {
            "text/plain": [
              "<Figure size 432x288 with 1 Axes>"
            ],
            "image/png": "[encoded data removed]"
          },
          "metadata": {
            "needs_background": "light"
          }
        }
      ]
    },
    {
      "cell_type": "code",
      "source": [
        "from sklearn.naive_bayes import GaussianNB"
      ],
      "metadata": {
        "id": "_5fZ4uIi9bKS"
      },
      "execution_count": null,
      "outputs": []
    },
    {
      "cell_type": "code",
      "source": [
        "classifier = GaussianNB()\n",
        "classifier.fit(X_train,y_train)\n",
        "y_pred = classifier.predict(X_test)\n"
      ],
      "metadata": {
        "id": "JTftxukh9bDI"
      },
      "execution_count": null,
      "outputs": []
    },
    {
      "cell_type": "code",
      "source": [
        "cm = confusion_matrix(y_test,y_pred)\n",
        "print(\"Confusion Matrix\\n\\n\",cm)\n",
        "accuracy = float((cm.diagonal().sum())/len(y_test)*100)"
      ],
      "metadata": {
        "colab": {
          "base_uri": "https://localhost:8080/"
        },
        "id": "2Lvw9Lh4PpWh",
        "outputId": "164a3c4c-35b8-4d60-9d5e-803bc6bca530"
      },
      "execution_count": null,
      "outputs": [
        {
          "output_type": "stream",
          "name": "stdout",
          "text": [
            "Confusion Matrix\n",
            "\n",
            " [[ 567  850]\n",
            " [ 123 1321]]\n"
          ]
        }
      ]
    },
    {
      "cell_type": "code",
      "source": [
        "print(classification_report(y_test, y_pred))"
      ],
      "metadata": {
        "colab": {
          "base_uri": "https://localhost:8080/"
        },
        "id": "lo18k9vuPpTn",
        "outputId": "7f791591-7f6a-4838-9919-bb292faba5ea"
      },
      "execution_count": null,
      "outputs": [
        {
          "output_type": "stream",
          "name": "stdout",
          "text": [
            "              precision    recall  f1-score   support\n",
            "\n",
            "           0       0.82      0.40      0.54      1417\n",
            "           1       0.61      0.91      0.73      1444\n",
            "\n",
            "    accuracy                           0.66      2861\n",
            "   macro avg       0.72      0.66      0.63      2861\n",
            "weighted avg       0.71      0.66      0.64      2861\n",
            "\n"
          ]
        }
      ]
    },
    {
      "cell_type": "markdown",
      "source": [
        "# Grid Search"
      ],
      "metadata": {
        "id": "cve2w4C9W8Hp"
      }
    },
    {
      "cell_type": "code",
      "source": [
        "from sklearn.model_selection import GridSearchCV\n",
        "from sklearn.ensemble import RandomForestRegressor\n",
        "# Create the parameter grid based on the results of random search \n",
        "param_grid = {\n",
        "    'bootstrap': [True],\n",
        "    'max_depth': [80, 90, 100, 110],\n",
        "    'max_features': [2, 3],\n",
        "    'min_samples_leaf': [3, 4, 5],\n",
        "    'min_samples_split': [8, 10, 12],\n",
        "    'n_estimators': [100, 200, 300, 1000]\n",
        "}\n",
        "# Create a based model\n",
        "rf = RandomForestRegressor()\n",
        "# Instantiate the grid search model\n",
        "grid_search = GridSearchCV(estimator = rf, param_grid = param_grid, \n",
        "                          cv = 3, n_jobs = -1, verbose = 2)"
      ],
      "metadata": {
        "id": "auiULMuoPpQe"
      },
      "execution_count": null,
      "outputs": []
    },
    {
      "cell_type": "code",
      "source": [
        "# Fit the grid search to the data\n",
        "grid_search.fit(X_train, y_train)"
      ],
      "metadata": {
        "colab": {
          "base_uri": "https://localhost:8080/"
        },
        "id": "5xwnHTsDVt9F",
        "outputId": "e6f355a1-71b8-4c86-8063-646fd511192a"
      },
      "execution_count": null,
      "outputs": [
        {
          "output_type": "stream",
          "name": "stdout",
          "text": [
            "Fitting 3 folds for each of 288 candidates, totalling 864 fits\n"
          ]
        },
        {
          "output_type": "execute_result",
          "data": {
            "text/plain": [
              "GridSearchCV(cv=3, estimator=RandomForestRegressor(), n_jobs=-1,\n",
              "             param_grid={'bootstrap': [True], 'max_depth': [80, 90, 100, 110],\n",
              "                         'max_features': [2, 3], 'min_samples_leaf': [3, 4, 5],\n",
              "                         'min_samples_split': [8, 10, 12],\n",
              "                         'n_estimators': [100, 200, 300, 1000]},\n",
              "             verbose=2)"
            ]
          },
          "metadata": {},
          "execution_count": 37
        }
      ]
    },
    {
      "cell_type": "code",
      "source": [
        "grid_search.best_params_"
      ],
      "metadata": {
        "colab": {
          "base_uri": "https://localhost:8080/"
        },
        "id": "TECtcmwQVueh",
        "outputId": "058fa8a8-c459-43d2-ebd4-7655eca12033"
      },
      "execution_count": null,
      "outputs": [
        {
          "output_type": "execute_result",
          "data": {
            "text/plain": [
              "{'bootstrap': True,\n",
              " 'max_depth': 90,\n",
              " 'max_features': 3,\n",
              " 'min_samples_leaf': 3,\n",
              " 'min_samples_split': 8,\n",
              " 'n_estimators': 1000}"
            ]
          },
          "metadata": {},
          "execution_count": 38
        }
      ]
    },
    {
      "cell_type": "code",
      "source": [
        "from sklearn.model_selection import GridSearchCV\n",
        "from sklearn.ensemble import RandomForestRegressor\n",
        "# Create the parameter grid based on the results of random search \n",
        "param_grid = {\n",
        "    'bootstrap': [True],\n",
        "    'max_depth': [ 90],\n",
        "    'max_features': [3],\n",
        "    'min_samples_leaf': [3],\n",
        "    'min_samples_split': [8],\n",
        "    'n_estimators': [1000]\n",
        "}\n",
        "# Create a based model\n",
        "rf = RandomForestRegressor()\n",
        "# Instantiate the grid search model\n",
        "grid_search = GridSearchCV(estimator = rf, param_grid = param_grid, \n",
        "                          cv = 3, n_jobs = -1, verbose = 2)"
      ],
      "metadata": {
        "id": "XG7bTPmGnnya"
      },
      "execution_count": null,
      "outputs": []
    },
    {
      "cell_type": "code",
      "source": [
        "best_grid = grid_search.best_estimator_\n"
      ],
      "metadata": {
        "id": "kpgi7E1vW0L6"
      },
      "execution_count": null,
      "outputs": []
    },
    {
      "cell_type": "code",
      "source": [
        "# Fit the grid search to the data\n",
        "grid_search.fit(X_train, y_train)"
      ],
      "metadata": {
        "colab": {
          "base_uri": "https://localhost:8080/"
        },
        "id": "pXCfPCHPn6tc",
        "outputId": "1edb3807-9837-4487-c981-0f8f1f148ea4"
      },
      "execution_count": null,
      "outputs": [
        {
          "output_type": "stream",
          "name": "stdout",
          "text": [
            "Fitting 3 folds for each of 1 candidates, totalling 3 fits\n"
          ]
        },
        {
          "output_type": "execute_result",
          "data": {
            "text/plain": [
              "GridSearchCV(cv=3, estimator=RandomForestRegressor(), n_jobs=-1,\n",
              "             param_grid={'bootstrap': [True], 'max_depth': [90],\n",
              "                         'max_features': [3], 'min_samples_leaf': [3],\n",
              "                         'min_samples_split': [8], 'n_estimators': [1000]},\n",
              "             verbose=2)"
            ]
          },
          "metadata": {},
          "execution_count": 46
        }
      ]
    },
    {
      "cell_type": "code",
      "source": [
        "print(grid_search.score(X_test,y_test))"
      ],
      "metadata": {
        "colab": {
          "base_uri": "https://localhost:8080/"
        },
        "id": "lJK1TylcW0Ip",
        "outputId": "c4f55daa-a7fc-40dc-955d-061e6aab34ab"
      },
      "execution_count": null,
      "outputs": [
        {
          "output_type": "stream",
          "name": "stdout",
          "text": [
            "0.46399615077059464\n"
          ]
        }
      ]
    },
    {
      "cell_type": "code",
      "source": [
        "cm = confusion_matrix(y_test,y_pred)\n",
        "print(\"Confusion Matrix\\n\\n\",cm)\n",
        "accuracy = float((cm.diagonal().sum())/len(y_test)*100)\n",
        "\n",
        "print(\"\\nAccuracy Of SVM For The Given Dataset : \", accuracy)\n",
        "print(classification_report(y_test, y_pred))"
      ],
      "metadata": {
        "colab": {
          "base_uri": "https://localhost:8080/"
        },
        "id": "pQs0_LT8myLb",
        "outputId": "681d14e0-91ec-4386-8984-75b06396c4ea"
      },
      "execution_count": null,
      "outputs": [
        {
          "output_type": "stream",
          "name": "stdout",
          "text": [
            "Confusion Matrix\n",
            "\n",
            " [[1123  294]\n",
            " [ 182 1262]]\n",
            "\n",
            "Accuracy Of SVM For The Given Dataset :  83.36246067808459\n",
            "              precision    recall  f1-score   support\n",
            "\n",
            "           0       0.86      0.79      0.83      1417\n",
            "           1       0.81      0.87      0.84      1444\n",
            "\n",
            "    accuracy                           0.83      2861\n",
            "   macro avg       0.84      0.83      0.83      2861\n",
            "weighted avg       0.84      0.83      0.83      2861\n",
            "\n"
          ]
        }
      ]
    },
    {
      "cell_type": "code",
      "source": [
        ""
      ],
      "metadata": {
        "id": "E0dQEkkvnGzJ"
      },
      "execution_count": null,
      "outputs": []
    }
  ]
}