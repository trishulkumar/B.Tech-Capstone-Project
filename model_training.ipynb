{
  "nbformat": 4,
  "nbformat_minor": 0,
  "metadata": {
    "accelerator": "GPU",
    "colab": {
      "name": "model_training (1).ipynb",
      "provenance": [],
      "collapsed_sections": []
    },
    "kernelspec": {
      "display_name": "Python 3",
      "name": "python3"
    },
    "language_info": {
      "name": "python"
    }
  },
  "cells": [
    {
      "cell_type": "markdown",
      "metadata": {
        "id": "Ik1d2al66dzd"
      },
      "source": [
        "importing libraries"
      ]
    },
    {
      "cell_type": "code",
      "metadata": {
        "id": "sRZj1TbuaYQb"
      },
      "source": [
        "import pandas as pd\n",
        "import numpy as np\n",
        "from sklearn.model_selection import train_test_split\n",
        "from sklearn.preprocessing import StandardScaler\n",
        "from collections import Counter\n",
        "from imblearn.combine import SMOTETomek\n",
        "from imblearn.over_sampling import ADASYN\n",
        "import warnings\n",
        "from sklearn.metrics import accuracy_score,confusion_matrix,classification_report\n",
        "warnings.filterwarnings(\"ignore\")\n",
        "from sklearn.discriminant_analysis import LinearDiscriminantAnalysis"
      ],
      "execution_count": null,
      "outputs": []
    },
    {
      "cell_type": "markdown",
      "metadata": {
        "id": "qHfe5T_V6n_7"
      },
      "source": [
        "loading the dataset"
      ]
    },
    {
      "cell_type": "code",
      "metadata": {
        "id": "yfUfo8L8ZzBM"
      },
      "source": [
        "df=pd.read_csv('final_dataset.csv')"
      ],
      "execution_count": null,
      "outputs": []
    },
    {
      "cell_type": "markdown",
      "metadata": {
        "id": "uFp36yuRvLde"
      },
      "source": [
        "dropping the index columns"
      ]
    },
    {
      "cell_type": "code",
      "metadata": {
        "id": "vcDzR5eq6wAP"
      },
      "source": [
        "df.drop(['Unnamed: 0'],axis=1,inplace=True)"
      ],
      "execution_count": null,
      "outputs": []
    },
    {
      "cell_type": "code",
      "metadata": {
        "colab": {
          "base_uri": "https://localhost:8080/",
          "height": 224
        },
        "id": "gBBG-bco62lX",
        "outputId": "b7678f53-db53-4ff1-9922-c4063acb7e4f"
      },
      "source": [
        "df.head()"
      ],
      "execution_count": null,
      "outputs": [
        {
          "output_type": "execute_result",
          "data": {
            "text/html": [
              "<div>\n",
              "<style scoped>\n",
              "    .dataframe tbody tr th:only-of-type {\n",
              "        vertical-align: middle;\n",
              "    }\n",
              "\n",
              "    .dataframe tbody tr th {\n",
              "        vertical-align: top;\n",
              "    }\n",
              "\n",
              "    .dataframe thead th {\n",
              "        text-align: right;\n",
              "    }\n",
              "</style>\n",
              "<table border=\"1\" class=\"dataframe\">\n",
              "  <thead>\n",
              "    <tr style=\"text-align: right;\">\n",
              "      <th></th>\n",
              "      <th>Danceability</th>\n",
              "      <th>Energy</th>\n",
              "      <th>Loudness</th>\n",
              "      <th>Speechiness</th>\n",
              "      <th>Acousticness</th>\n",
              "      <th>Mode</th>\n",
              "      <th>Instrumentalness</th>\n",
              "      <th>Liveness</th>\n",
              "      <th>Valence</th>\n",
              "      <th>Tempo</th>\n",
              "      <th>Genre</th>\n",
              "      <th>Top100</th>\n",
              "    </tr>\n",
              "  </thead>\n",
              "  <tbody>\n",
              "    <tr>\n",
              "      <th>0</th>\n",
              "      <td>0.556</td>\n",
              "      <td>0.864</td>\n",
              "      <td>-5.870</td>\n",
              "      <td>0.0584</td>\n",
              "      <td>0.009580</td>\n",
              "      <td>0</td>\n",
              "      <td>0.000000</td>\n",
              "      <td>0.209</td>\n",
              "      <td>0.400</td>\n",
              "      <td>105.143</td>\n",
              "      <td>5</td>\n",
              "      <td>0</td>\n",
              "    </tr>\n",
              "    <tr>\n",
              "      <th>1</th>\n",
              "      <td>0.737</td>\n",
              "      <td>0.463</td>\n",
              "      <td>-7.828</td>\n",
              "      <td>0.0792</td>\n",
              "      <td>0.008170</td>\n",
              "      <td>1</td>\n",
              "      <td>0.447000</td>\n",
              "      <td>0.255</td>\n",
              "      <td>0.324</td>\n",
              "      <td>123.881</td>\n",
              "      <td>9</td>\n",
              "      <td>0</td>\n",
              "    </tr>\n",
              "    <tr>\n",
              "      <th>2</th>\n",
              "      <td>0.618</td>\n",
              "      <td>0.938</td>\n",
              "      <td>-3.442</td>\n",
              "      <td>0.0456</td>\n",
              "      <td>0.017900</td>\n",
              "      <td>1</td>\n",
              "      <td>0.000000</td>\n",
              "      <td>0.167</td>\n",
              "      <td>0.875</td>\n",
              "      <td>91.455</td>\n",
              "      <td>9</td>\n",
              "      <td>0</td>\n",
              "    </tr>\n",
              "    <tr>\n",
              "      <th>3</th>\n",
              "      <td>0.331</td>\n",
              "      <td>0.943</td>\n",
              "      <td>-3.188</td>\n",
              "      <td>0.0698</td>\n",
              "      <td>0.007210</td>\n",
              "      <td>0</td>\n",
              "      <td>0.000002</td>\n",
              "      <td>0.242</td>\n",
              "      <td>0.296</td>\n",
              "      <td>94.612</td>\n",
              "      <td>0</td>\n",
              "      <td>0</td>\n",
              "    </tr>\n",
              "    <tr>\n",
              "      <th>4</th>\n",
              "      <td>0.589</td>\n",
              "      <td>0.890</td>\n",
              "      <td>-3.719</td>\n",
              "      <td>0.0603</td>\n",
              "      <td>0.000481</td>\n",
              "      <td>0</td>\n",
              "      <td>0.000820</td>\n",
              "      <td>0.201</td>\n",
              "      <td>0.692</td>\n",
              "      <td>90.598</td>\n",
              "      <td>5</td>\n",
              "      <td>0</td>\n",
              "    </tr>\n",
              "  </tbody>\n",
              "</table>\n",
              "</div>"
            ],
            "text/plain": [
              "   Danceability  Energy  Loudness  Speechiness  ...  Valence    Tempo  Genre  Top100\n",
              "0         0.556   0.864    -5.870       0.0584  ...    0.400  105.143      5       0\n",
              "1         0.737   0.463    -7.828       0.0792  ...    0.324  123.881      9       0\n",
              "2         0.618   0.938    -3.442       0.0456  ...    0.875   91.455      9       0\n",
              "3         0.331   0.943    -3.188       0.0698  ...    0.296   94.612      0       0\n",
              "4         0.589   0.890    -3.719       0.0603  ...    0.692   90.598      5       0\n",
              "\n",
              "[5 rows x 12 columns]"
            ]
          },
          "metadata": {
            "tags": []
          },
          "execution_count": 51
        }
      ]
    },
    {
      "cell_type": "markdown",
      "metadata": {
        "id": "4OXMdFRUvUsb"
      },
      "source": [
        "transforming columns into a normal distribution"
      ]
    },
    {
      "cell_type": "code",
      "metadata": {
        "id": "PtmK41vCA-kz"
      },
      "source": [
        "from scipy import stats\n",
        "df['Liveness']=np.log(df['Liveness'])\n",
        "df['Speechiness']=stats.boxcox(df['Speechiness'])[0]\n",
        "df['Acousticness']=stats.boxcox(df['Acousticness'])[0]"
      ],
      "execution_count": null,
      "outputs": []
    },
    {
      "cell_type": "markdown",
      "metadata": {
        "id": "4rGO61tFlIlZ"
      },
      "source": [
        "splitting dataset into features and label"
      ]
    },
    {
      "cell_type": "code",
      "metadata": {
        "id": "f3Ek8BWm7IzV"
      },
      "source": [
        "x=df.iloc[:,:-1]\n",
        "y=df.iloc[:,-1]"
      ],
      "execution_count": null,
      "outputs": []
    },
    {
      "cell_type": "markdown",
      "metadata": {
        "id": "4O_4v4gjvcsp"
      },
      "source": [
        "Balancing the dataset"
      ]
    },
    {
      "cell_type": "code",
      "metadata": {
        "id": "KieIg1T7s6fZ",
        "colab": {
          "base_uri": "https://localhost:8080/"
        },
        "outputId": "e40f052e-7ebe-45b6-bd81-caac4ccbc003"
      },
      "source": [
        "counter=Counter(y)\n",
        "print('before',counter)\n",
        "smt=SMOTETomek()\n",
        "balanced_x,balanced_y=smt.fit_sample(x,y)\n",
        "counter=Counter(balanced_y)\n",
        "print('after',counter)"
      ],
      "execution_count": null,
      "outputs": [
        {
          "output_type": "stream",
          "text": [
            "before Counter({0: 7151, 1: 1501})\n",
            "after Counter({0: 7074, 1: 7074})\n"
          ],
          "name": "stdout"
        }
      ]
    },
    {
      "cell_type": "markdown",
      "metadata": {
        "id": "jyxFlvtvlNjr"
      },
      "source": [
        "splitting data into training and testing sets"
      ]
    },
    {
      "cell_type": "code",
      "metadata": {
        "id": "NggqGJU87Rg-"
      },
      "source": [
        "x_train,x_test,y_train,y_test=train_test_split(balanced_x,balanced_y,test_size=0.2)"
      ],
      "execution_count": null,
      "outputs": []
    },
    {
      "cell_type": "markdown",
      "metadata": {
        "id": "aDoBsMu2lVHV"
      },
      "source": [
        "Scaling the dataset"
      ]
    },
    {
      "cell_type": "code",
      "metadata": {
        "id": "WNgiPeVGVBqb"
      },
      "source": [
        "from sklearn.preprocessing import StandardScaler,MinMaxScaler,RobustScaler\n",
        "scaler=StandardScaler()\n"
      ],
      "execution_count": null,
      "outputs": []
    },
    {
      "cell_type": "code",
      "metadata": {
        "id": "kHd8x18CqApn"
      },
      "source": [
        "scaled_x_train=scaler.fit_transform(x_train)\n",
        "scaled_x_test=scaler.transform(x_test)"
      ],
      "execution_count": null,
      "outputs": []
    },
    {
      "cell_type": "markdown",
      "metadata": {
        "id": "pjVwVNezlmVa"
      },
      "source": [
        "balancing the dataset using smote hybrid"
      ]
    },
    {
      "cell_type": "markdown",
      "metadata": {
        "id": "kct6AgH80L49"
      },
      "source": [
        "#Decision Tree"
      ]
    },
    {
      "cell_type": "code",
      "metadata": {
        "id": "AzoTQhIUk2mJ"
      },
      "source": [
        "from sklearn.tree import DecisionTreeClassifier"
      ],
      "execution_count": null,
      "outputs": []
    },
    {
      "cell_type": "code",
      "metadata": {
        "colab": {
          "base_uri": "https://localhost:8080/"
        },
        "id": "KA06uj7Yj2Jz",
        "outputId": "9290fd6d-3ab8-4ff5-bb9e-b15928d0df51"
      },
      "source": [
        "dt = DecisionTreeClassifier(max_depth=3)\n",
        "dt.fit(x_train, y_train)"
      ],
      "execution_count": null,
      "outputs": [
        {
          "output_type": "execute_result",
          "data": {
            "text/plain": [
              "DecisionTreeClassifier(ccp_alpha=0.0, class_weight=None, criterion='gini',\n",
              "                       max_depth=3, max_features=None, max_leaf_nodes=None,\n",
              "                       min_impurity_decrease=0.0, min_impurity_split=None,\n",
              "                       min_samples_leaf=1, min_samples_split=2,\n",
              "                       min_weight_fraction_leaf=0.0, presort='deprecated',\n",
              "                       random_state=None, splitter='best')"
            ]
          },
          "metadata": {
            "tags": []
          },
          "execution_count": 14
        }
      ]
    },
    {
      "cell_type": "code",
      "metadata": {
        "id": "bQL6zTfWjlHr"
      },
      "source": [
        "from sklearn import tree\n",
        "import matplotlib.pyplot as plt"
      ],
      "execution_count": null,
      "outputs": []
    },
    {
      "cell_type": "code",
      "metadata": {
        "id": "SUTPjWJzjqAj"
      },
      "source": [
        "# fig = plt.figure(figsize=(25,20))\n",
        "# _ = tree.plot_tree(dt,\n",
        "#                    feature_names=x.columns,\n",
        "#                    class_names=['Non Hit', \"Hit\"],\n",
        "#                    filled=True)"
      ],
      "execution_count": null,
      "outputs": []
    },
    {
      "cell_type": "code",
      "metadata": {
        "colab": {
          "base_uri": "https://localhost:8080/"
        },
        "id": "Se1201TbF8dR",
        "outputId": "3c116b53-002d-4457-d81e-869652c45046"
      },
      "source": [
        "## Model training by using default max_leaf_nodes=None\n",
        "Model=DecisionTreeClassifier()\n",
        "Model.fit(scaled_x_train,y_train)\n",
        "pred=Model.predict(scaled_x_test)\n",
        "acc=accuracy_score(y_test,pred)\n",
        "print(acc)"
      ],
      "execution_count": null,
      "outputs": [
        {
          "output_type": "stream",
          "text": [
            "0.8030356512530886\n"
          ],
          "name": "stdout"
        }
      ]
    },
    {
      "cell_type": "code",
      "metadata": {
        "id": "vO8PpZP_Wi1E"
      },
      "source": [
        "## Hyper parameter tuning using randomized search cross validation\n",
        "from sklearn.model_selection import GridSearchCV,RandomizedSearchCV\n"
      ],
      "execution_count": null,
      "outputs": []
    },
    {
      "cell_type": "markdown",
      "metadata": {
        "id": "9UQGV-xYvxuI"
      },
      "source": [
        "hypertuning decision tree classifier"
      ]
    },
    {
      "cell_type": "code",
      "metadata": {
        "colab": {
          "base_uri": "https://localhost:8080/"
        },
        "id": "QRprJycpponc",
        "outputId": "0cc42ce6-2aff-4980-f76a-35d97cc9b1d9"
      },
      "source": [
        "\n",
        "param_dist={\"criterion\":[\"gini\",\"entropy\"],\"max_depth\":[1,2,3,4,5,6,7,8,9,10,11]}\n",
        "grid=RandomizedSearchCV(DecisionTreeClassifier(),param_distributions=param_dist,cv=5,n_jobs=-1)\n",
        "grid.fit(scaled_x_train,y_train)"
      ],
      "execution_count": null,
      "outputs": [
        {
          "output_type": "execute_result",
          "data": {
            "text/plain": [
              "RandomizedSearchCV(cv=5, error_score=nan,\n",
              "                   estimator=DecisionTreeClassifier(ccp_alpha=0.0,\n",
              "                                                    class_weight=None,\n",
              "                                                    criterion='gini',\n",
              "                                                    max_depth=None,\n",
              "                                                    max_features=None,\n",
              "                                                    max_leaf_nodes=None,\n",
              "                                                    min_impurity_decrease=0.0,\n",
              "                                                    min_impurity_split=None,\n",
              "                                                    min_samples_leaf=1,\n",
              "                                                    min_samples_split=2,\n",
              "                                                    min_weight_fraction_leaf=0.0,\n",
              "                                                    presort='deprecated',\n",
              "                                                    random_state=None,\n",
              "                                                    splitter='best'),\n",
              "                   iid='deprecated', n_iter=10, n_jobs=-1,\n",
              "                   param_distributions={'criterion': ['gini', 'entropy'],\n",
              "                                        'max_depth': [1, 2, 3, 4, 5, 6, 7, 8, 9,\n",
              "                                                      10, 11]},\n",
              "                   pre_dispatch='2*n_jobs', random_state=None, refit=True,\n",
              "                   return_train_score=False, scoring=None, verbose=0)"
            ]
          },
          "metadata": {
            "tags": []
          },
          "execution_count": 19
        }
      ]
    },
    {
      "cell_type": "code",
      "metadata": {
        "colab": {
          "base_uri": "https://localhost:8080/"
        },
        "id": "GonOnt_srSAs",
        "outputId": "731942b7-b576-4104-de6a-8f4201e074e0"
      },
      "source": [
        "grid.best_estimator_"
      ],
      "execution_count": null,
      "outputs": [
        {
          "output_type": "execute_result",
          "data": {
            "text/plain": [
              "DecisionTreeClassifier(ccp_alpha=0.0, class_weight=None, criterion='gini',\n",
              "                       max_depth=11, max_features=None, max_leaf_nodes=None,\n",
              "                       min_impurity_decrease=0.0, min_impurity_split=None,\n",
              "                       min_samples_leaf=1, min_samples_split=2,\n",
              "                       min_weight_fraction_leaf=0.0, presort='deprecated',\n",
              "                       random_state=None, splitter='best')"
            ]
          },
          "metadata": {
            "tags": []
          },
          "execution_count": 20
        }
      ]
    },
    {
      "cell_type": "code",
      "metadata": {
        "colab": {
          "base_uri": "https://localhost:8080/"
        },
        "id": "2WeB7TaJrR01",
        "outputId": "1a0f89d7-15e2-4eed-aeb2-f510f5801dd6"
      },
      "source": [
        "grid.best_score_"
      ],
      "execution_count": null,
      "outputs": [
        {
          "output_type": "execute_result",
          "data": {
            "text/plain": [
              "0.7593787420920449"
            ]
          },
          "metadata": {
            "tags": []
          },
          "execution_count": 21
        }
      ]
    },
    {
      "cell_type": "code",
      "metadata": {
        "id": "pAnniIeF3fCn"
      },
      "source": [
        "final_model=grid.best_estimator_"
      ],
      "execution_count": null,
      "outputs": []
    },
    {
      "cell_type": "code",
      "metadata": {
        "id": "pPpJuzL63lMb"
      },
      "source": [
        "y_pred=final_model.predict(scaled_x_test)"
      ],
      "execution_count": null,
      "outputs": []
    },
    {
      "cell_type": "code",
      "metadata": {
        "colab": {
          "base_uri": "https://localhost:8080/"
        },
        "id": "3ceHwNfN3VU1",
        "outputId": "97cd6931-6ea0-4707-9acc-7936ee4d3760"
      },
      "source": [
        "print('confusion matrix')\n",
        "print(confusion_matrix(y_test,y_pred))\n"
      ],
      "execution_count": null,
      "outputs": [
        {
          "output_type": "stream",
          "text": [
            "confusion matrix\n",
            "[[1039  356]\n",
            " [ 326 1112]]\n"
          ],
          "name": "stdout"
        }
      ]
    },
    {
      "cell_type": "code",
      "metadata": {
        "colab": {
          "base_uri": "https://localhost:8080/"
        },
        "id": "eXuI4XOW3qx-",
        "outputId": "621b2cf6-5a07-4dcc-c89b-e9144bfde602"
      },
      "source": [
        "print('classification report')\n",
        "print(classification_report(y_test,y_pred))"
      ],
      "execution_count": null,
      "outputs": [
        {
          "output_type": "stream",
          "text": [
            "classification report\n",
            "              precision    recall  f1-score   support\n",
            "\n",
            "           0       0.76      0.74      0.75      1395\n",
            "           1       0.76      0.77      0.77      1438\n",
            "\n",
            "    accuracy                           0.76      2833\n",
            "   macro avg       0.76      0.76      0.76      2833\n",
            "weighted avg       0.76      0.76      0.76      2833\n",
            "\n"
          ],
          "name": "stdout"
        }
      ]
    },
    {
      "cell_type": "code",
      "metadata": {
        "colab": {
          "base_uri": "https://localhost:8080/"
        },
        "id": "a6K6tmHgULnb",
        "outputId": "d02e4dc9-b007-4bb1-b5bf-99cd67458739"
      },
      "source": [
        "acc=accuracy_score(y_test,y_pred)\n",
        "print(acc)"
      ],
      "execution_count": null,
      "outputs": [
        {
          "output_type": "stream",
          "text": [
            "0.7592657959759972\n"
          ],
          "name": "stdout"
        }
      ]
    },
    {
      "cell_type": "code",
      "metadata": {
        "colab": {
          "base_uri": "https://localhost:8080/",
          "height": 279
        },
        "id": "-wamGxUhcAs8",
        "outputId": "a0393423-06a6-4450-f829-4988226af1c4"
      },
      "source": [
        "#plotting ROC curve\n",
        "import matplotlib.pyplot as plt\n",
        "from sklearn import metrics\n",
        "metrics.plot_roc_curve(final_model,scaled_x_test,y_test)\n",
        "plt.show()\n",
        "\n"
      ],
      "execution_count": null,
      "outputs": [
        {
          "output_type": "display_data",
          "data": {
            "image/png": "[encoded data removed]",
            "text/plain": [
              "<Figure size 432x288 with 1 Axes>"
            ]
          },
          "metadata": {
            "tags": [],
            "needs_background": "light"
          }
        }
      ]
    },
    {
      "cell_type": "code",
      "metadata": {
        "colab": {
          "base_uri": "https://localhost:8080/"
        },
        "id": "FFEu--GslZEQ",
        "outputId": "5d1e77e9-70f8-44e5-8689-aa069e68667f"
      },
      "source": [
        "from sklearn.externals import joblib\n",
        "joblib.dump(final_model, 'decision_tree_model.pkl')"
      ],
      "execution_count": null,
      "outputs": [
        {
          "output_type": "execute_result",
          "data": {
            "text/plain": [
              "['decision_tree_model.pkl']"
            ]
          },
          "metadata": {
            "tags": []
          },
          "execution_count": 29
        }
      ]
    },
    {
      "cell_type": "markdown",
      "metadata": {
        "id": "97q5K-aov3jL"
      },
      "source": [
        "#Ada boost classifier"
      ]
    },
    {
      "cell_type": "code",
      "metadata": {
        "id": "VLUbVlQwBVxH"
      },
      "source": [
        "from sklearn.ensemble import AdaBoostClassifier\n",
        "boost=AdaBoostClassifier(base_estimator=final_model)\n",
        "boost.fit(scaled_x_train,y_train)\n",
        "y_predict=boost.predict(scaled_x_test)"
      ],
      "execution_count": null,
      "outputs": []
    },
    {
      "cell_type": "code",
      "metadata": {
        "colab": {
          "base_uri": "https://localhost:8080/",
          "height": 568
        },
        "id": "GvSc5DIsmeSh",
        "outputId": "183e379d-6f4c-4c0c-899e-e4adf878cdde"
      },
      "source": [
        "#plotting ROC curve\n",
        "print('score: ', boost.score)\n",
        "print()\n",
        "from sklearn import metrics\n",
        "metrics.plot_roc_curve(boost,scaled_x_test,y_test)\n",
        "plt.show()\n",
        "\n"
      ],
      "execution_count": null,
      "outputs": [
        {
          "output_type": "stream",
          "text": [
            "score:  <bound method ClassifierMixin.score of AdaBoostClassifier(algorithm='SAMME.R',\n",
            "                   base_estimator=DecisionTreeClassifier(ccp_alpha=0.0,\n",
            "                                                         class_weight=None,\n",
            "                                                         criterion='gini',\n",
            "                                                         max_depth=11,\n",
            "                                                         max_features=None,\n",
            "                                                         max_leaf_nodes=None,\n",
            "                                                         min_impurity_decrease=0.0,\n",
            "                                                         min_impurity_split=None,\n",
            "                                                         min_samples_leaf=1,\n",
            "                                                         min_samples_split=2,\n",
            "                                                         min_weight_fraction_leaf=0.0,\n",
            "                                                         presort='deprecated',\n",
            "                                                         random_state=None,\n",
            "                                                         splitter='best'),\n",
            "                   learning_rate=1.0, n_estimators=50, random_state=None)>\n",
            "\n"
          ],
          "name": "stdout"
        },
        {
          "output_type": "display_data",
          "data": {
            "image/png": "[encoded data removed]",
            "text/plain": [
              "<Figure size 432x288 with 1 Axes>"
            ]
          },
          "metadata": {
            "tags": [],
            "needs_background": "light"
          }
        }
      ]
    },
    {
      "cell_type": "code",
      "metadata": {
        "colab": {
          "base_uri": "https://localhost:8080/"
        },
        "id": "hm3HRwjYmk9d",
        "outputId": "6e47088a-742e-426c-80a9-fb3a596d5fdf"
      },
      "source": [
        "print('classification report')\n",
        "print(classification_report(y_test,y_predict))"
      ],
      "execution_count": null,
      "outputs": [
        {
          "output_type": "stream",
          "text": [
            "classification report\n",
            "              precision    recall  f1-score   support\n",
            "\n",
            "           0       0.83      0.79      0.81      1395\n",
            "           1       0.81      0.84      0.82      1438\n",
            "\n",
            "    accuracy                           0.82      2833\n",
            "   macro avg       0.82      0.82      0.82      2833\n",
            "weighted avg       0.82      0.82      0.82      2833\n",
            "\n"
          ],
          "name": "stdout"
        }
      ]
    },
    {
      "cell_type": "code",
      "metadata": {
        "colab": {
          "base_uri": "https://localhost:8080/"
        },
        "id": "5iQJ9p7-BcLM",
        "outputId": "9345901b-c2a3-4d50-85b3-5cb1fd039ebc"
      },
      "source": [
        "print(confusion_matrix(y_test,y_predict))"
      ],
      "execution_count": null,
      "outputs": [
        {
          "output_type": "stream",
          "text": [
            "[[1104  291]\n",
            " [ 228 1210]]\n"
          ],
          "name": "stdout"
        }
      ]
    },
    {
      "cell_type": "markdown",
      "metadata": {
        "id": "tqmPypA7v8xM"
      },
      "source": [
        "hypertunning ada boost"
      ]
    },
    {
      "cell_type": "code",
      "metadata": {
        "colab": {
          "base_uri": "https://localhost:8080/"
        },
        "id": "4gjLoLJVoNOV",
        "outputId": "2ddb7090-f6a3-4781-fb61-9e01ac37556d"
      },
      "source": [
        "\n",
        "param_dist={'n_estimators':[40,50,60,70,80], 'learning_rate':[0.04,0.03,0.02,0.1],'algorithm':['SAMME', 'SAMME.R']}\n",
        "grid_1=RandomizedSearchCV(boost,param_distributions=param_dist,cv=5,n_jobs=-1)\n",
        "grid_1.fit(scaled_x_train,y_train)"
      ],
      "execution_count": null,
      "outputs": [
        {
          "output_type": "execute_result",
          "data": {
            "text/plain": [
              "RandomizedSearchCV(cv=5, error_score=nan,\n",
              "                   estimator=AdaBoostClassifier(algorithm='SAMME.R',\n",
              "                                                base_estimator=DecisionTreeClassifier(ccp_alpha=0.0,\n",
              "                                                                                      class_weight=None,\n",
              "                                                                                      criterion='gini',\n",
              "                                                                                      max_depth=11,\n",
              "                                                                                      max_features=None,\n",
              "                                                                                      max_leaf_nodes=None,\n",
              "                                                                                      min_impurity_decrease=0.0,\n",
              "                                                                                      min_impurity_split=None,\n",
              "                                                                                      min_samples_leaf=1,\n",
              "                                                                                      min_samples_split=2,\n",
              "                                                                                      min_weight_fraction_leaf=0.0,\n",
              "                                                                                      preso...,\n",
              "                                                                                      random_state=None,\n",
              "                                                                                      splitter='best'),\n",
              "                                                learning_rate=1.0,\n",
              "                                                n_estimators=50,\n",
              "                                                random_state=None),\n",
              "                   iid='deprecated', n_iter=10, n_jobs=-1,\n",
              "                   param_distributions={'algorithm': ['SAMME', 'SAMME.R'],\n",
              "                                        'learning_rate': [0.04, 0.03, 0.02,\n",
              "                                                          0.1],\n",
              "                                        'n_estimators': [40, 50, 60, 70, 80]},\n",
              "                   pre_dispatch='2*n_jobs', random_state=None, refit=True,\n",
              "                   return_train_score=False, scoring=None, verbose=0)"
            ]
          },
          "metadata": {
            "tags": []
          },
          "execution_count": 35
        }
      ]
    },
    {
      "cell_type": "code",
      "metadata": {
        "colab": {
          "base_uri": "https://localhost:8080/",
          "height": 330
        },
        "id": "RfftjC5npDWX",
        "outputId": "348c749a-8b39-44e2-b654-afec0a83cbc4"
      },
      "source": [
        "#plotting ROC curve\n",
        "print('score: ', grid_1.best_score_)\n",
        "print()\n",
        "print('ROC-AUC curve')\n",
        "from sklearn import metrics\n",
        "metrics.plot_roc_curve(boosted_model,scaled_x_test,y_test)\n",
        "plt.show()\n",
        "\n"
      ],
      "execution_count": null,
      "outputs": [
        {
          "output_type": "stream",
          "text": [
            "score:  0.8484412828860846\n",
            "\n",
            "ROC-AUC curve\n"
          ],
          "name": "stdout"
        },
        {
          "output_type": "display_data",
          "data": {
            "image/png": "[encoded data removed]",
            "text/plain": [
              "<Figure size 432x288 with 1 Axes>"
            ]
          },
          "metadata": {
            "tags": [],
            "needs_background": "light"
          }
        }
      ]
    },
    {
      "cell_type": "code",
      "metadata": {
        "id": "qqVHOORjpV9Y"
      },
      "source": [
        "predict=grid_1.predict(scaled_x_test)"
      ],
      "execution_count": null,
      "outputs": []
    },
    {
      "cell_type": "code",
      "metadata": {
        "colab": {
          "base_uri": "https://localhost:8080/"
        },
        "id": "REqr6_-Qro5B",
        "outputId": "b48127bd-88c7-404a-e587-b4dde34beb21"
      },
      "source": [
        "accuracy_score(y_test, predict)"
      ],
      "execution_count": null,
      "outputs": [
        {
          "output_type": "execute_result",
          "data": {
            "text/plain": [
              "0.8570420049417579"
            ]
          },
          "metadata": {
            "tags": []
          },
          "execution_count": 38
        }
      ]
    },
    {
      "cell_type": "code",
      "metadata": {
        "colab": {
          "base_uri": "https://localhost:8080/"
        },
        "id": "WfBgcF9VpbWl",
        "outputId": "fecbf355-af80-431d-ac23-fcbb74e0935b"
      },
      "source": [
        "print('classification report')\n",
        "print(classification_report(y,pipeline.predict(x)))"
      ],
      "execution_count": null,
      "outputs": [
        {
          "output_type": "stream",
          "text": [
            "classification report\n",
            "              precision    recall  f1-score   support\n",
            "\n",
            "           0       0.98      0.96      0.97      7151\n",
            "           1       0.83      0.89      0.86      1501\n",
            "\n",
            "    accuracy                           0.95      8652\n",
            "   macro avg       0.90      0.93      0.91      8652\n",
            "weighted avg       0.95      0.95      0.95      8652\n",
            "\n"
          ],
          "name": "stdout"
        }
      ]
    },
    {
      "cell_type": "code",
      "metadata": {
        "id": "eGOO1xz6poub"
      },
      "source": [
        "boosted_model=grid_1.best_estimator_"
      ],
      "execution_count": null,
      "outputs": []
    },
    {
      "cell_type": "code",
      "metadata": {
        "colab": {
          "base_uri": "https://localhost:8080/"
        },
        "id": "w2cZn-cFp_ow",
        "outputId": "c7016b9a-157f-4192-9883-5be2c78794a6"
      },
      "source": [
        "grid_1.best_params_"
      ],
      "execution_count": null,
      "outputs": [
        {
          "output_type": "execute_result",
          "data": {
            "text/plain": [
              "{'algorithm': 'SAMME.R', 'learning_rate': 0.02, 'n_estimators': 60}"
            ]
          },
          "metadata": {
            "tags": []
          },
          "execution_count": 41
        }
      ]
    },
    {
      "cell_type": "code",
      "metadata": {
        "colab": {
          "base_uri": "https://localhost:8080/"
        },
        "id": "P7rtEw0oLomY",
        "outputId": "5c05547c-4fb9-4e80-ee43-14322d328575"
      },
      "source": [
        "print('confusion_matrix')\n",
        "print(confusion_matrix(y_test,predict))"
      ],
      "execution_count": null,
      "outputs": [
        {
          "output_type": "stream",
          "text": [
            "confusion_matrix\n",
            "[[1227  168]\n",
            " [ 237 1201]]\n"
          ],
          "name": "stdout"
        }
      ]
    },
    {
      "cell_type": "markdown",
      "metadata": {
        "id": "Nrarwgo0wDze"
      },
      "source": [
        "creating pipeline using standrd scaler and ada boost classifier"
      ]
    },
    {
      "cell_type": "code",
      "metadata": {
        "colab": {
          "base_uri": "https://localhost:8080/"
        },
        "id": "r2SG93rOlGw0",
        "outputId": "ddbfc4cf-bec0-47a4-c304-1be9386306e8"
      },
      "source": [
        "from sklearn.pipeline import Pipeline\n",
        "pipeline=Pipeline([('scaler', StandardScaler()), ('model', boosted_model)])\n",
        "pipeline.fit(x_train,y_train)"
      ],
      "execution_count": null,
      "outputs": [
        {
          "output_type": "execute_result",
          "data": {
            "text/plain": [
              "Pipeline(memory=None,\n",
              "         steps=[('scaler',\n",
              "                 StandardScaler(copy=True, with_mean=True, with_std=True)),\n",
              "                ('model',\n",
              "                 AdaBoostClassifier(algorithm='SAMME.R',\n",
              "                                    base_estimator=DecisionTreeClassifier(ccp_alpha=0.0,\n",
              "                                                                          class_weight=None,\n",
              "                                                                          criterion='gini',\n",
              "                                                                          max_depth=11,\n",
              "                                                                          max_features=None,\n",
              "                                                                          max_leaf_nodes=None,\n",
              "                                                                          min_impurity_decrease=0.0,\n",
              "                                                                          min_impurity_split=None,\n",
              "                                                                          min_samples_leaf=1,\n",
              "                                                                          min_samples_split=2,\n",
              "                                                                          min_weight_fraction_leaf=0.0,\n",
              "                                                                          presort='deprecated',\n",
              "                                                                          random_state=None,\n",
              "                                                                          splitter='best'),\n",
              "                                    learning_rate=0.02, n_estimators=60,\n",
              "                                    random_state=None))],\n",
              "         verbose=False)"
            ]
          },
          "metadata": {
            "tags": []
          },
          "execution_count": 68
        }
      ]
    },
    {
      "cell_type": "code",
      "metadata": {
        "colab": {
          "base_uri": "https://localhost:8080/"
        },
        "id": "63gnYoeQjDs6",
        "outputId": "f77ebe03-0143-4170-f9d1-5ddd2c8fbd78"
      },
      "source": [
        "pipeline.predict(x_test)"
      ],
      "execution_count": null,
      "outputs": [
        {
          "output_type": "execute_result",
          "data": {
            "text/plain": [
              "array([1, 0, 1, ..., 1, 1, 0])"
            ]
          },
          "metadata": {
            "tags": []
          },
          "execution_count": 69
        }
      ]
    },
    {
      "cell_type": "code",
      "metadata": {
        "colab": {
          "base_uri": "https://localhost:8080/"
        },
        "id": "lknmPq_njbYB",
        "outputId": "38a1353f-4e35-49cf-c557-f3705bef00eb"
      },
      "source": [
        "joblib.dump(pipeline, 'pipeline.pkl')"
      ],
      "execution_count": null,
      "outputs": [
        {
          "output_type": "execute_result",
          "data": {
            "text/plain": [
              "['pipeline.pkl']"
            ]
          },
          "metadata": {
            "tags": []
          },
          "execution_count": 71
        }
      ]
    },
    {
      "cell_type": "code",
      "metadata": {
        "colab": {
          "base_uri": "https://localhost:8080/"
        },
        "id": "s4uh2tm-p07q",
        "outputId": "fb3a631f-4b23-4cc2-8ebc-975be1b0f92d"
      },
      "source": [
        "joblib.dump(boosted_model, 'decision_tree_boosted.pkl')"
      ],
      "execution_count": null,
      "outputs": [
        {
          "output_type": "execute_result",
          "data": {
            "text/plain": [
              "['decision_tree_boosted.pkl']"
            ]
          },
          "metadata": {
            "tags": []
          },
          "execution_count": 45
        }
      ]
    },
    {
      "cell_type": "markdown",
      "metadata": {
        "id": "qo2-R7tL0HFg"
      },
      "source": [
        "#LDA"
      ]
    },
    {
      "cell_type": "code",
      "metadata": {
        "id": "RrOLRIu900sx",
        "colab": {
          "base_uri": "https://localhost:8080/"
        },
        "outputId": "aa39f468-5c86-4f07-adeb-fcaa78b34ac5"
      },
      "source": [
        "lda=LinearDiscriminantAnalysis()\n",
        "lda.fit(scaled_x_train,y_train)\n",
        "y_pred=lda.predict(scaled_x_test)\n",
        "print(accuracy_score(y_test,y_pred))"
      ],
      "execution_count": null,
      "outputs": [
        {
          "output_type": "stream",
          "text": [
            "0.6544039617969579\n"
          ],
          "name": "stdout"
        }
      ]
    },
    {
      "cell_type": "markdown",
      "metadata": {
        "id": "eJ4tggtP0DnX"
      },
      "source": [
        "hyper tuning lda"
      ]
    },
    {
      "cell_type": "code",
      "metadata": {
        "id": "vMSS3fWe56sT",
        "colab": {
          "base_uri": "https://localhost:8080/"
        },
        "outputId": "57b1a468-337b-4e72-e903-22530c6c316a"
      },
      "source": [
        "parameters={'solver':['svd', 'lsqr', 'eigen'],'shrinkage':['auto','None']}\n",
        "grid=GridSearchCV(LinearDiscriminantAnalysis(store_covariance=True),param_grid=parameters,cv=5,n_jobs=-1)\n",
        "grid.fit(scaled_x_train,y_train)"
      ],
      "execution_count": null,
      "outputs": [
        {
          "output_type": "execute_result",
          "data": {
            "text/plain": [
              "GridSearchCV(cv=5, error_score=nan,\n",
              "             estimator=LinearDiscriminantAnalysis(n_components=None,\n",
              "                                                  priors=None, shrinkage=None,\n",
              "                                                  solver='svd',\n",
              "                                                  store_covariance=True,\n",
              "                                                  tol=0.0001),\n",
              "             iid='deprecated', n_jobs=-1,\n",
              "             param_grid={'shrinkage': ['auto', 'None'],\n",
              "                         'solver': ['svd', 'lsqr', 'eigen']},\n",
              "             pre_dispatch='2*n_jobs', refit=True, return_train_score=False,\n",
              "             scoring=None, verbose=0)"
            ]
          },
          "metadata": {
            "tags": []
          },
          "execution_count": 61
        }
      ]
    },
    {
      "cell_type": "code",
      "metadata": {
        "id": "OUqmC5meyUL0",
        "colab": {
          "base_uri": "https://localhost:8080/"
        },
        "outputId": "cdeed5a3-5e9f-44ad-d0c8-0d8bf564f3d2"
      },
      "source": [
        "grid.best_params_"
      ],
      "execution_count": null,
      "outputs": [
        {
          "output_type": "execute_result",
          "data": {
            "text/plain": [
              "{'shrinkage': 'auto', 'solver': 'lsqr'}"
            ]
          },
          "metadata": {
            "tags": []
          },
          "execution_count": 62
        }
      ]
    },
    {
      "cell_type": "code",
      "metadata": {
        "id": "62PC9MDyy_Ph",
        "colab": {
          "base_uri": "https://localhost:8080/"
        },
        "outputId": "f3aa15c4-32db-4b72-871e-22c0208f6d92"
      },
      "source": [
        "grid.best_score_"
      ],
      "execution_count": null,
      "outputs": [
        {
          "output_type": "execute_result",
          "data": {
            "text/plain": [
              "0.6496859249074474"
            ]
          },
          "metadata": {
            "tags": []
          },
          "execution_count": 63
        }
      ]
    },
    {
      "cell_type": "code",
      "metadata": {
        "id": "XXYhpwCszBha"
      },
      "source": [
        "lda_model=grid.best_estimator_"
      ],
      "execution_count": null,
      "outputs": []
    },
    {
      "cell_type": "code",
      "metadata": {
        "id": "8bYP6M7_zI_4"
      },
      "source": [
        "y_pred=lda.predict(scaled_x_test)"
      ],
      "execution_count": null,
      "outputs": []
    },
    {
      "cell_type": "code",
      "metadata": {
        "id": "65i48Y0vzM1e",
        "colab": {
          "base_uri": "https://localhost:8080/"
        },
        "outputId": "818dff79-fc60-4edf-8172-dabccb2202a8"
      },
      "source": [
        "print(classification_report(y_test,y_pred))"
      ],
      "execution_count": null,
      "outputs": [
        {
          "output_type": "stream",
          "text": [
            "              precision    recall  f1-score   support\n",
            "\n",
            "           0       0.68      0.57      0.62      1396\n",
            "           1       0.64      0.74      0.68      1431\n",
            "\n",
            "    accuracy                           0.65      2827\n",
            "   macro avg       0.66      0.65      0.65      2827\n",
            "weighted avg       0.66      0.65      0.65      2827\n",
            "\n"
          ],
          "name": "stdout"
        }
      ]
    },
    {
      "cell_type": "code",
      "metadata": {
        "id": "s9MTpRn-zP6p",
        "colab": {
          "base_uri": "https://localhost:8080/"
        },
        "outputId": "caff0986-af38-4065-d084-b4f0c444413c"
      },
      "source": [
        "print(confusion_matrix(y_test,y_pred))"
      ],
      "execution_count": null,
      "outputs": [
        {
          "output_type": "stream",
          "text": [
            "[[ 794  602]\n",
            " [ 375 1056]]\n"
          ],
          "name": "stdout"
        }
      ]
    },
    {
      "cell_type": "code",
      "metadata": {
        "id": "sfrlva9wcawj",
        "colab": {
          "base_uri": "https://localhost:8080/",
          "height": 279
        },
        "outputId": "a9876e26-966a-415e-e471-5c4235428868"
      },
      "source": [
        "#Plotting ROC curve for LDA\n",
        "metrics.plot_roc_curve(lda_model,scaled_x_test,y_test)\n",
        "plt.show()"
      ],
      "execution_count": null,
      "outputs": [
        {
          "output_type": "display_data",
          "data": {
            "image/png": "[encoded data removed]",
            "text/plain": [
              "<Figure size 432x288 with 1 Axes>"
            ]
          },
          "metadata": {
            "tags": [],
            "needs_background": "light"
          }
        }
      ]
    },
    {
      "cell_type": "code",
      "metadata": {
        "id": "vRB89Addx4fO"
      },
      "source": [
        "from sklearn.externals import joblib\n",
        "joblib.dump(lda_model, 'LDA.pkl')"
      ],
      "execution_count": null,
      "outputs": []
    }
  ]
}