{
  "cells": [
    {
      "cell_type": "code",
      "execution_count": null,
      "metadata": {
        "id": "RDBM3C_X1FSm"
      },
      "outputs": [],
      "source": [
        "##Importing Required Libraries\n",
        "\n",
        "import pandas as pd\n",
        "import warnings\n",
        "warnings.filterwarnings('ignore')\n",
        "import numpy as np\n",
        "import matplotlib.pyplot as plt\n",
        "%matplotlib inline\n",
        "import seaborn as sns\n",
        "import pickle\n",
        "\n",
        "from sklearn.preprocessing import MinMaxScaler\n",
        "from sklearn.model_selection import train_test_split\n",
        "from sklearn.metrics import r2_score, explained_variance_score, confusion_matrix, accuracy_score, classification_report, log_loss\n",
        "from sklearn.metrics import roc_auc_score,roc_curve,auc\n",
        "from sklearn.svm import SVC"
      ]
    },
    {
      "cell_type": "code",
      "execution_count": null,
      "metadata": {
        "colab": {
          "base_uri": "https://localhost:8080/"
        },
        "id": "BYA2Igy23tdW",
        "outputId": "c6f49078-5d68-4684-e681-906147b07271"
      },
      "outputs": [
        {
          "output_type": "stream",
          "name": "stdout",
          "text": [
            "Linux-5.4.144+-x86_64-with-Ubuntu-18.04-bionic\n",
            "Python 3.7.13 (default, Mar 16 2022, 17:37:17) \n",
            "[GCC 7.5.0]\n",
            "NumPy 1.21.5\n",
            "SciPy 1.4.1\n",
            "Scikit-Learn 1.0.2\n"
          ]
        }
      ],
      "source": [
        "\n",
        "import platform; print(platform.platform())\n",
        "import sys; print(\"Python\", sys.version)\n",
        "import numpy; print(\"NumPy\", numpy.__version__)\n",
        "import scipy; print(\"SciPy\", scipy.__version__)\n",
        "import sklearn; print(\"Scikit-Learn\", sklearn.__version__)"
      ]
    },
    {
      "cell_type": "code",
      "execution_count": null,
      "metadata": {
        "colab": {
          "base_uri": "https://localhost:8080/"
        },
        "id": "IfkAhAIa2HI_",
        "outputId": "78791e38-48be-48f8-cf48-16ccc7fc4f51"
      },
      "outputs": [
        {
          "output_type": "stream",
          "name": "stdout",
          "text": [
            "Mounted at /content/grive\n"
          ]
        }
      ],
      "source": [
        "from google.colab import drive\n",
        "drive.mount('/content/grive')"
      ]
    },
    {
      "cell_type": "code",
      "execution_count": null,
      "metadata": {
        "colab": {
          "base_uri": "https://localhost:8080/",
          "height": 363
        },
        "id": "b4gLiW3p7TQr",
        "outputId": "ecfdb933-c94f-48bb-eeb9-737ea25eb908"
      },
      "outputs": [
        {
          "output_type": "execute_result",
          "data": {
            "text/plain": [
              "   Unnamed: 0  Danceability  Energy  Loudness  Speechiness  Acousticness  \\\n",
              "0           0         0.556   0.864    -5.870       0.0584      0.009580   \n",
              "1           1         0.737   0.463    -7.828       0.0792      0.008170   \n",
              "2           2         0.618   0.938    -3.442       0.0456      0.017900   \n",
              "3           3         0.331   0.943    -3.188       0.0698      0.007210   \n",
              "4           4         0.589   0.890    -3.719       0.0603      0.000481   \n",
              "5           5         0.542   0.905    -5.653       0.0540      0.001720   \n",
              "6           6         0.653   0.964    -4.261       0.0582      0.003160   \n",
              "7           7         0.618   0.938    -3.442       0.0456      0.017900   \n",
              "8           8         0.419   0.934    -3.908       0.1200      0.000278   \n",
              "9           9         0.664   0.781    -6.547       0.0339      0.001030   \n",
              "\n",
              "   Instrumentalness  Liveness  Valence    Tempo  Genre  Top100  \n",
              "0          0.000000    0.2090    0.400  105.143      5       0  \n",
              "1          0.447000    0.2550    0.324  123.881      9       0  \n",
              "2          0.000000    0.1670    0.875   91.455      9       0  \n",
              "3          0.000002    0.2420    0.296   94.612      0       0  \n",
              "4          0.000820    0.2010    0.692   90.598      5       0  \n",
              "5          0.010400    0.1360    0.374  153.398      9       0  \n",
              "6          0.005120    0.1440    0.870  126.928      5       0  \n",
              "7          0.000000    0.1670    0.875   91.455      9       0  \n",
              "8          0.001500    0.1320    0.286  127.288      5       0  \n",
              "9          0.000005    0.0867    0.593  110.000      6       0  "
            ],
            "text/html": [
              "\n",
              "  <div id=\"df-74c4c7c9-d33f-4c59-875d-b8695985eac6\">\n",
              "    <div class=\"colab-df-container\">\n",
              "      <div>\n",
              "<style scoped>\n",
              "    .dataframe tbody tr th:only-of-type {\n",
              "        vertical-align: middle;\n",
              "    }\n",
              "\n",
              "    .dataframe tbody tr th {\n",
              "        vertical-align: top;\n",
              "    }\n",
              "\n",
              "    .dataframe thead th {\n",
              "        text-align: right;\n",
              "    }\n",
              "</style>\n",
              "<table border=\"1\" class=\"dataframe\">\n",
              "  <thead>\n",
              "    <tr style=\"text-align: right;\">\n",
              "      <th></th>\n",
              "      <th>Unnamed: 0</th>\n",
              "      <th>Danceability</th>\n",
              "      <th>Energy</th>\n",
              "      <th>Loudness</th>\n",
              "      <th>Speechiness</th>\n",
              "      <th>Acousticness</th>\n",
              "      <th>Instrumentalness</th>\n",
              "      <th>Liveness</th>\n",
              "      <th>Valence</th>\n",
              "      <th>Tempo</th>\n",
              "      <th>Genre</th>\n",
              "      <th>Top100</th>\n",
              "    </tr>\n",
              "  </thead>\n",
              "  <tbody>\n",
              "    <tr>\n",
              "      <th>0</th>\n",
              "      <td>0</td>\n",
              "      <td>0.556</td>\n",
              "      <td>0.864</td>\n",
              "      <td>-5.870</td>\n",
              "      <td>0.0584</td>\n",
              "      <td>0.009580</td>\n",
              "      <td>0.000000</td>\n",
              "      <td>0.2090</td>\n",
              "      <td>0.400</td>\n",
              "      <td>105.143</td>\n",
              "      <td>5</td>\n",
              "      <td>0</td>\n",
              "    </tr>\n",
              "    <tr>\n",
              "      <th>1</th>\n",
              "      <td>1</td>\n",
              "      <td>0.737</td>\n",
              "      <td>0.463</td>\n",
              "      <td>-7.828</td>\n",
              "      <td>0.0792</td>\n",
              "      <td>0.008170</td>\n",
              "      <td>0.447000</td>\n",
              "      <td>0.2550</td>\n",
              "      <td>0.324</td>\n",
              "      <td>123.881</td>\n",
              "      <td>9</td>\n",
              "      <td>0</td>\n",
              "    </tr>\n",
              "    <tr>\n",
              "      <th>2</th>\n",
              "      <td>2</td>\n",
              "      <td>0.618</td>\n",
              "      <td>0.938</td>\n",
              "      <td>-3.442</td>\n",
              "      <td>0.0456</td>\n",
              "      <td>0.017900</td>\n",
              "      <td>0.000000</td>\n",
              "      <td>0.1670</td>\n",
              "      <td>0.875</td>\n",
              "      <td>91.455</td>\n",
              "      <td>9</td>\n",
              "      <td>0</td>\n",
              "    </tr>\n",
              "    <tr>\n",
              "      <th>3</th>\n",
              "      <td>3</td>\n",
              "      <td>0.331</td>\n",
              "      <td>0.943</td>\n",
              "      <td>-3.188</td>\n",
              "      <td>0.0698</td>\n",
              "      <td>0.007210</td>\n",
              "      <td>0.000002</td>\n",
              "      <td>0.2420</td>\n",
              "      <td>0.296</td>\n",
              "      <td>94.612</td>\n",
              "      <td>0</td>\n",
              "      <td>0</td>\n",
              "    </tr>\n",
              "    <tr>\n",
              "      <th>4</th>\n",
              "      <td>4</td>\n",
              "      <td>0.589</td>\n",
              "      <td>0.890</td>\n",
              "      <td>-3.719</td>\n",
              "      <td>0.0603</td>\n",
              "      <td>0.000481</td>\n",
              "      <td>0.000820</td>\n",
              "      <td>0.2010</td>\n",
              "      <td>0.692</td>\n",
              "      <td>90.598</td>\n",
              "      <td>5</td>\n",
              "      <td>0</td>\n",
              "    </tr>\n",
              "    <tr>\n",
              "      <th>5</th>\n",
              "      <td>5</td>\n",
              "      <td>0.542</td>\n",
              "      <td>0.905</td>\n",
              "      <td>-5.653</td>\n",
              "      <td>0.0540</td>\n",
              "      <td>0.001720</td>\n",
              "      <td>0.010400</td>\n",
              "      <td>0.1360</td>\n",
              "      <td>0.374</td>\n",
              "      <td>153.398</td>\n",
              "      <td>9</td>\n",
              "      <td>0</td>\n",
              "    </tr>\n",
              "    <tr>\n",
              "      <th>6</th>\n",
              "      <td>6</td>\n",
              "      <td>0.653</td>\n",
              "      <td>0.964</td>\n",
              "      <td>-4.261</td>\n",
              "      <td>0.0582</td>\n",
              "      <td>0.003160</td>\n",
              "      <td>0.005120</td>\n",
              "      <td>0.1440</td>\n",
              "      <td>0.870</td>\n",
              "      <td>126.928</td>\n",
              "      <td>5</td>\n",
              "      <td>0</td>\n",
              "    </tr>\n",
              "    <tr>\n",
              "      <th>7</th>\n",
              "      <td>7</td>\n",
              "      <td>0.618</td>\n",
              "      <td>0.938</td>\n",
              "      <td>-3.442</td>\n",
              "      <td>0.0456</td>\n",
              "      <td>0.017900</td>\n",
              "      <td>0.000000</td>\n",
              "      <td>0.1670</td>\n",
              "      <td>0.875</td>\n",
              "      <td>91.455</td>\n",
              "      <td>9</td>\n",
              "      <td>0</td>\n",
              "    </tr>\n",
              "    <tr>\n",
              "      <th>8</th>\n",
              "      <td>8</td>\n",
              "      <td>0.419</td>\n",
              "      <td>0.934</td>\n",
              "      <td>-3.908</td>\n",
              "      <td>0.1200</td>\n",
              "      <td>0.000278</td>\n",
              "      <td>0.001500</td>\n",
              "      <td>0.1320</td>\n",
              "      <td>0.286</td>\n",
              "      <td>127.288</td>\n",
              "      <td>5</td>\n",
              "      <td>0</td>\n",
              "    </tr>\n",
              "    <tr>\n",
              "      <th>9</th>\n",
              "      <td>9</td>\n",
              "      <td>0.664</td>\n",
              "      <td>0.781</td>\n",
              "      <td>-6.547</td>\n",
              "      <td>0.0339</td>\n",
              "      <td>0.001030</td>\n",
              "      <td>0.000005</td>\n",
              "      <td>0.0867</td>\n",
              "      <td>0.593</td>\n",
              "      <td>110.000</td>\n",
              "      <td>6</td>\n",
              "      <td>0</td>\n",
              "    </tr>\n",
              "  </tbody>\n",
              "</table>\n",
              "</div>\n",
              "      <button class=\"colab-df-convert\" onclick=\"convertToInteractive('df-74c4c7c9-d33f-4c59-875d-b8695985eac6')\"\n",
              "              title=\"Convert this dataframe to an interactive table.\"\n",
              "              style=\"display:none;\">\n",
              "        \n",
              "  <svg xmlns=\"http://www.w3.org/2000/svg\" height=\"24px\"viewBox=\"0 0 24 24\"\n",
              "       width=\"24px\">\n",
              "    <path d=\"M0 0h24v24H0V0z\" fill=\"none\"/>\n",
              "    <path d=\"M18.56 5.44l.94 2.06.94-2.06 2.06-.94-2.06-.94-.94-2.06-.94 2.06-2.06.94zm-11 1L8.5 8.5l.94-2.06 2.06-.94-2.06-.94L8.5 2.5l-.94 2.06-2.06.94zm10 10l.94 2.06.94-2.06 2.06-.94-2.06-.94-.94-2.06-.94 2.06-2.06.94z\"/><path d=\"M17.41 7.96l-1.37-1.37c-.4-.4-.92-.59-1.43-.59-.52 0-1.04.2-1.43.59L10.3 9.45l-7.72 7.72c-.78.78-.78 2.05 0 2.83L4 21.41c.39.39.9.59 1.41.59.51 0 1.02-.2 1.41-.59l7.78-7.78 2.81-2.81c.8-.78.8-2.07 0-2.86zM5.41 20L4 18.59l7.72-7.72 1.47 1.35L5.41 20z\"/>\n",
              "  </svg>\n",
              "      </button>\n",
              "      \n",
              "  <style>\n",
              "    .colab-df-container {\n",
              "      display:flex;\n",
              "      flex-wrap:wrap;\n",
              "      gap: 12px;\n",
              "    }\n",
              "\n",
              "    .colab-df-convert {\n",
              "      background-color: #E8F0FE;\n",
              "      border: none;\n",
              "      border-radius: 50%;\n",
              "      cursor: pointer;\n",
              "      display: none;\n",
              "      fill: #1967D2;\n",
              "      height: 32px;\n",
              "      padding: 0 0 0 0;\n",
              "      width: 32px;\n",
              "    }\n",
              "\n",
              "    .colab-df-convert:hover {\n",
              "      background-color: #E2EBFA;\n",
              "      box-shadow: 0px 1px 2px rgba(60, 64, 67, 0.3), 0px 1px 3px 1px rgba(60, 64, 67, 0.15);\n",
              "      fill: #174EA6;\n",
              "    }\n",
              "\n",
              "    [theme=dark] .colab-df-convert {\n",
              "      background-color: #3B4455;\n",
              "      fill: #D2E3FC;\n",
              "    }\n",
              "\n",
              "    [theme=dark] .colab-df-convert:hover {\n",
              "      background-color: #434B5C;\n",
              "      box-shadow: 0px 1px 3px 1px rgba(0, 0, 0, 0.15);\n",
              "      filter: drop-shadow(0px 1px 2px rgba(0, 0, 0, 0.3));\n",
              "      fill: #FFFFFF;\n",
              "    }\n",
              "  </style>\n",
              "\n",
              "      <script>\n",
              "        const buttonEl =\n",
              "          document.querySelector('#df-74c4c7c9-d33f-4c59-875d-b8695985eac6 button.colab-df-convert');\n",
              "        buttonEl.style.display =\n",
              "          google.colab.kernel.accessAllowed ? 'block' : 'none';\n",
              "\n",
              "        async function convertToInteractive(key) {\n",
              "          const element = document.querySelector('#df-74c4c7c9-d33f-4c59-875d-b8695985eac6');\n",
              "          const dataTable =\n",
              "            await google.colab.kernel.invokeFunction('convertToInteractive',\n",
              "                                                     [key], {});\n",
              "          if (!dataTable) return;\n",
              "\n",
              "          const docLinkHtml = 'Like what you see? Visit the ' +\n",
              "            '<a target=\"_blank\" href=https://colab.research.google.com/notebooks/data_table.ipynb>data table notebook</a>'\n",
              "            + ' to learn more about interactive tables.';\n",
              "          element.innerHTML = '';\n",
              "          dataTable['output_type'] = 'display_data';\n",
              "          await google.colab.output.renderOutput(dataTable, element);\n",
              "          const docLink = document.createElement('div');\n",
              "          docLink.innerHTML = docLinkHtml;\n",
              "          element.appendChild(docLink);\n",
              "        }\n",
              "      </script>\n",
              "    </div>\n",
              "  </div>\n",
              "  "
            ]
          },
          "metadata": {},
          "execution_count": 8
        }
      ],
      "source": [
        "#importing the dataset \n",
        "\n",
        "data=pd.read_csv('/content/grive/My Drive/final_dataset.csv')\n",
        "data.head(10)\n",
        "# having a glance at data "
      ]
    },
    {
      "cell_type": "code",
      "execution_count": null,
      "metadata": {
        "colab": {
          "base_uri": "https://localhost:8080/",
          "height": 363
        },
        "id": "clCR0eV-2UaG",
        "outputId": "47192ddc-7eee-4188-d1d1-0cd9c2b45328"
      },
      "outputs": [
        {
          "output_type": "execute_result",
          "data": {
            "text/plain": [
              "      Unnamed: 0  Danceability  Energy  Loudness  Speechiness  Acousticness  \\\n",
              "8642        9216         0.899   0.586    -7.866       0.3440       0.27900   \n",
              "8643        9217         0.632   0.804    -6.109       0.0503       0.10100   \n",
              "8644        9218         0.921   0.537    -5.723       0.0804       0.55600   \n",
              "8645        9219         0.851   0.666    -5.334       0.0694       0.13900   \n",
              "8646        9220         0.477   0.610    -5.628       0.1440       0.22500   \n",
              "8647        9221         0.783   0.840    -3.416       0.0510       0.17400   \n",
              "8648        9222         0.669   0.308   -10.068       0.0290       0.88300   \n",
              "8649        9223         0.544   0.781    -6.160       0.0311       0.00585   \n",
              "8650        9224         0.713   0.831    -4.750       0.1500       0.01680   \n",
              "8651        9225         0.836   0.544    -5.975       0.0943       0.04030   \n",
              "\n",
              "      Instrumentalness  Liveness  Valence    Tempo  Genre  Top100  \n",
              "8642           0.00000    0.0836   0.4920  150.001      7       1  \n",
              "8643           0.00000    0.1700   0.3500   92.456      2       1  \n",
              "8644           0.00404    0.1020   0.7110  128.009      7       1  \n",
              "8645           0.00000    0.1050   0.0585  134.068      7       1  \n",
              "8646           0.00000    0.1070   0.3580   79.882      7       1  \n",
              "8647           0.00000    0.4120   0.8390   95.001      8       1  \n",
              "8648           0.00000    0.0984   0.5200   64.934      7       1  \n",
              "8649           0.00000    0.1910   0.5270  144.075      2       1  \n",
              "8650           0.00000    0.1180   0.5840  173.948      7       1  \n",
              "8651           0.00000    0.0824   0.5100   97.028      6       1  "
            ],
            "text/html": [
              "\n",
              "  <div id=\"df-80e36d43-3b63-45f0-9624-fa0fa4833ed5\">\n",
              "    <div class=\"colab-df-container\">\n",
              "      <div>\n",
              "<style scoped>\n",
              "    .dataframe tbody tr th:only-of-type {\n",
              "        vertical-align: middle;\n",
              "    }\n",
              "\n",
              "    .dataframe tbody tr th {\n",
              "        vertical-align: top;\n",
              "    }\n",
              "\n",
              "    .dataframe thead th {\n",
              "        text-align: right;\n",
              "    }\n",
              "</style>\n",
              "<table border=\"1\" class=\"dataframe\">\n",
              "  <thead>\n",
              "    <tr style=\"text-align: right;\">\n",
              "      <th></th>\n",
              "      <th>Unnamed: 0</th>\n",
              "      <th>Danceability</th>\n",
              "      <th>Energy</th>\n",
              "      <th>Loudness</th>\n",
              "      <th>Speechiness</th>\n",
              "      <th>Acousticness</th>\n",
              "      <th>Instrumentalness</th>\n",
              "      <th>Liveness</th>\n",
              "      <th>Valence</th>\n",
              "      <th>Tempo</th>\n",
              "      <th>Genre</th>\n",
              "      <th>Top100</th>\n",
              "    </tr>\n",
              "  </thead>\n",
              "  <tbody>\n",
              "    <tr>\n",
              "      <th>8642</th>\n",
              "      <td>9216</td>\n",
              "      <td>0.899</td>\n",
              "      <td>0.586</td>\n",
              "      <td>-7.866</td>\n",
              "      <td>0.3440</td>\n",
              "      <td>0.27900</td>\n",
              "      <td>0.00000</td>\n",
              "      <td>0.0836</td>\n",
              "      <td>0.4920</td>\n",
              "      <td>150.001</td>\n",
              "      <td>7</td>\n",
              "      <td>1</td>\n",
              "    </tr>\n",
              "    <tr>\n",
              "      <th>8643</th>\n",
              "      <td>9217</td>\n",
              "      <td>0.632</td>\n",
              "      <td>0.804</td>\n",
              "      <td>-6.109</td>\n",
              "      <td>0.0503</td>\n",
              "      <td>0.10100</td>\n",
              "      <td>0.00000</td>\n",
              "      <td>0.1700</td>\n",
              "      <td>0.3500</td>\n",
              "      <td>92.456</td>\n",
              "      <td>2</td>\n",
              "      <td>1</td>\n",
              "    </tr>\n",
              "    <tr>\n",
              "      <th>8644</th>\n",
              "      <td>9218</td>\n",
              "      <td>0.921</td>\n",
              "      <td>0.537</td>\n",
              "      <td>-5.723</td>\n",
              "      <td>0.0804</td>\n",
              "      <td>0.55600</td>\n",
              "      <td>0.00404</td>\n",
              "      <td>0.1020</td>\n",
              "      <td>0.7110</td>\n",
              "      <td>128.009</td>\n",
              "      <td>7</td>\n",
              "      <td>1</td>\n",
              "    </tr>\n",
              "    <tr>\n",
              "      <th>8645</th>\n",
              "      <td>9219</td>\n",
              "      <td>0.851</td>\n",
              "      <td>0.666</td>\n",
              "      <td>-5.334</td>\n",
              "      <td>0.0694</td>\n",
              "      <td>0.13900</td>\n",
              "      <td>0.00000</td>\n",
              "      <td>0.1050</td>\n",
              "      <td>0.0585</td>\n",
              "      <td>134.068</td>\n",
              "      <td>7</td>\n",
              "      <td>1</td>\n",
              "    </tr>\n",
              "    <tr>\n",
              "      <th>8646</th>\n",
              "      <td>9220</td>\n",
              "      <td>0.477</td>\n",
              "      <td>0.610</td>\n",
              "      <td>-5.628</td>\n",
              "      <td>0.1440</td>\n",
              "      <td>0.22500</td>\n",
              "      <td>0.00000</td>\n",
              "      <td>0.1070</td>\n",
              "      <td>0.3580</td>\n",
              "      <td>79.882</td>\n",
              "      <td>7</td>\n",
              "      <td>1</td>\n",
              "    </tr>\n",
              "    <tr>\n",
              "      <th>8647</th>\n",
              "      <td>9221</td>\n",
              "      <td>0.783</td>\n",
              "      <td>0.840</td>\n",
              "      <td>-3.416</td>\n",
              "      <td>0.0510</td>\n",
              "      <td>0.17400</td>\n",
              "      <td>0.00000</td>\n",
              "      <td>0.4120</td>\n",
              "      <td>0.8390</td>\n",
              "      <td>95.001</td>\n",
              "      <td>8</td>\n",
              "      <td>1</td>\n",
              "    </tr>\n",
              "    <tr>\n",
              "      <th>8648</th>\n",
              "      <td>9222</td>\n",
              "      <td>0.669</td>\n",
              "      <td>0.308</td>\n",
              "      <td>-10.068</td>\n",
              "      <td>0.0290</td>\n",
              "      <td>0.88300</td>\n",
              "      <td>0.00000</td>\n",
              "      <td>0.0984</td>\n",
              "      <td>0.5200</td>\n",
              "      <td>64.934</td>\n",
              "      <td>7</td>\n",
              "      <td>1</td>\n",
              "    </tr>\n",
              "    <tr>\n",
              "      <th>8649</th>\n",
              "      <td>9223</td>\n",
              "      <td>0.544</td>\n",
              "      <td>0.781</td>\n",
              "      <td>-6.160</td>\n",
              "      <td>0.0311</td>\n",
              "      <td>0.00585</td>\n",
              "      <td>0.00000</td>\n",
              "      <td>0.1910</td>\n",
              "      <td>0.5270</td>\n",
              "      <td>144.075</td>\n",
              "      <td>2</td>\n",
              "      <td>1</td>\n",
              "    </tr>\n",
              "    <tr>\n",
              "      <th>8650</th>\n",
              "      <td>9224</td>\n",
              "      <td>0.713</td>\n",
              "      <td>0.831</td>\n",
              "      <td>-4.750</td>\n",
              "      <td>0.1500</td>\n",
              "      <td>0.01680</td>\n",
              "      <td>0.00000</td>\n",
              "      <td>0.1180</td>\n",
              "      <td>0.5840</td>\n",
              "      <td>173.948</td>\n",
              "      <td>7</td>\n",
              "      <td>1</td>\n",
              "    </tr>\n",
              "    <tr>\n",
              "      <th>8651</th>\n",
              "      <td>9225</td>\n",
              "      <td>0.836</td>\n",
              "      <td>0.544</td>\n",
              "      <td>-5.975</td>\n",
              "      <td>0.0943</td>\n",
              "      <td>0.04030</td>\n",
              "      <td>0.00000</td>\n",
              "      <td>0.0824</td>\n",
              "      <td>0.5100</td>\n",
              "      <td>97.028</td>\n",
              "      <td>6</td>\n",
              "      <td>1</td>\n",
              "    </tr>\n",
              "  </tbody>\n",
              "</table>\n",
              "</div>\n",
              "      <button class=\"colab-df-convert\" onclick=\"convertToInteractive('df-80e36d43-3b63-45f0-9624-fa0fa4833ed5')\"\n",
              "              title=\"Convert this dataframe to an interactive table.\"\n",
              "              style=\"display:none;\">\n",
              "        \n",
              "  <svg xmlns=\"http://www.w3.org/2000/svg\" height=\"24px\"viewBox=\"0 0 24 24\"\n",
              "       width=\"24px\">\n",
              "    <path d=\"M0 0h24v24H0V0z\" fill=\"none\"/>\n",
              "    <path d=\"M18.56 5.44l.94 2.06.94-2.06 2.06-.94-2.06-.94-.94-2.06-.94 2.06-2.06.94zm-11 1L8.5 8.5l.94-2.06 2.06-.94-2.06-.94L8.5 2.5l-.94 2.06-2.06.94zm10 10l.94 2.06.94-2.06 2.06-.94-2.06-.94-.94-2.06-.94 2.06-2.06.94z\"/><path d=\"M17.41 7.96l-1.37-1.37c-.4-.4-.92-.59-1.43-.59-.52 0-1.04.2-1.43.59L10.3 9.45l-7.72 7.72c-.78.78-.78 2.05 0 2.83L4 21.41c.39.39.9.59 1.41.59.51 0 1.02-.2 1.41-.59l7.78-7.78 2.81-2.81c.8-.78.8-2.07 0-2.86zM5.41 20L4 18.59l7.72-7.72 1.47 1.35L5.41 20z\"/>\n",
              "  </svg>\n",
              "      </button>\n",
              "      \n",
              "  <style>\n",
              "    .colab-df-container {\n",
              "      display:flex;\n",
              "      flex-wrap:wrap;\n",
              "      gap: 12px;\n",
              "    }\n",
              "\n",
              "    .colab-df-convert {\n",
              "      background-color: #E8F0FE;\n",
              "      border: none;\n",
              "      border-radius: 50%;\n",
              "      cursor: pointer;\n",
              "      display: none;\n",
              "      fill: #1967D2;\n",
              "      height: 32px;\n",
              "      padding: 0 0 0 0;\n",
              "      width: 32px;\n",
              "    }\n",
              "\n",
              "    .colab-df-convert:hover {\n",
              "      background-color: #E2EBFA;\n",
              "      box-shadow: 0px 1px 2px rgba(60, 64, 67, 0.3), 0px 1px 3px 1px rgba(60, 64, 67, 0.15);\n",
              "      fill: #174EA6;\n",
              "    }\n",
              "\n",
              "    [theme=dark] .colab-df-convert {\n",
              "      background-color: #3B4455;\n",
              "      fill: #D2E3FC;\n",
              "    }\n",
              "\n",
              "    [theme=dark] .colab-df-convert:hover {\n",
              "      background-color: #434B5C;\n",
              "      box-shadow: 0px 1px 3px 1px rgba(0, 0, 0, 0.15);\n",
              "      filter: drop-shadow(0px 1px 2px rgba(0, 0, 0, 0.3));\n",
              "      fill: #FFFFFF;\n",
              "    }\n",
              "  </style>\n",
              "\n",
              "      <script>\n",
              "        const buttonEl =\n",
              "          document.querySelector('#df-80e36d43-3b63-45f0-9624-fa0fa4833ed5 button.colab-df-convert');\n",
              "        buttonEl.style.display =\n",
              "          google.colab.kernel.accessAllowed ? 'block' : 'none';\n",
              "\n",
              "        async function convertToInteractive(key) {\n",
              "          const element = document.querySelector('#df-80e36d43-3b63-45f0-9624-fa0fa4833ed5');\n",
              "          const dataTable =\n",
              "            await google.colab.kernel.invokeFunction('convertToInteractive',\n",
              "                                                     [key], {});\n",
              "          if (!dataTable) return;\n",
              "\n",
              "          const docLinkHtml = 'Like what you see? Visit the ' +\n",
              "            '<a target=\"_blank\" href=https://colab.research.google.com/notebooks/data_table.ipynb>data table notebook</a>'\n",
              "            + ' to learn more about interactive tables.';\n",
              "          element.innerHTML = '';\n",
              "          dataTable['output_type'] = 'display_data';\n",
              "          await google.colab.output.renderOutput(dataTable, element);\n",
              "          const docLink = document.createElement('div');\n",
              "          docLink.innerHTML = docLinkHtml;\n",
              "          element.appendChild(docLink);\n",
              "        }\n",
              "      </script>\n",
              "    </div>\n",
              "  </div>\n",
              "  "
            ]
          },
          "metadata": {},
          "execution_count": 9
        }
      ],
      "source": [
        "data.tail(10)"
      ]
    },
    {
      "cell_type": "code",
      "execution_count": null,
      "metadata": {
        "colab": {
          "base_uri": "https://localhost:8080/",
          "height": 206
        },
        "id": "NpGV1yMr3AmO",
        "outputId": "4c05d8d2-a74c-4021-f9e0-2e1315c4c1a0"
      },
      "outputs": [
        {
          "output_type": "execute_result",
          "data": {
            "text/plain": [
              "   Danceability  Energy  Loudness  Speechiness  Acousticness  \\\n",
              "0         0.556   0.864    -5.870       0.0584      0.009580   \n",
              "1         0.737   0.463    -7.828       0.0792      0.008170   \n",
              "2         0.618   0.938    -3.442       0.0456      0.017900   \n",
              "3         0.331   0.943    -3.188       0.0698      0.007210   \n",
              "4         0.589   0.890    -3.719       0.0603      0.000481   \n",
              "\n",
              "   Instrumentalness  Liveness  Valence    Tempo  Genre  Top100  \n",
              "0          0.000000     0.209    0.400  105.143      5       0  \n",
              "1          0.447000     0.255    0.324  123.881      9       0  \n",
              "2          0.000000     0.167    0.875   91.455      9       0  \n",
              "3          0.000002     0.242    0.296   94.612      0       0  \n",
              "4          0.000820     0.201    0.692   90.598      5       0  "
            ],
            "text/html": [
              "\n",
              "  <div id=\"df-6fdf6534-f811-4c48-b67a-6bae4b303df6\">\n",
              "    <div class=\"colab-df-container\">\n",
              "      <div>\n",
              "<style scoped>\n",
              "    .dataframe tbody tr th:only-of-type {\n",
              "        vertical-align: middle;\n",
              "    }\n",
              "\n",
              "    .dataframe tbody tr th {\n",
              "        vertical-align: top;\n",
              "    }\n",
              "\n",
              "    .dataframe thead th {\n",
              "        text-align: right;\n",
              "    }\n",
              "</style>\n",
              "<table border=\"1\" class=\"dataframe\">\n",
              "  <thead>\n",
              "    <tr style=\"text-align: right;\">\n",
              "      <th></th>\n",
              "      <th>Danceability</th>\n",
              "      <th>Energy</th>\n",
              "      <th>Loudness</th>\n",
              "      <th>Speechiness</th>\n",
              "      <th>Acousticness</th>\n",
              "      <th>Instrumentalness</th>\n",
              "      <th>Liveness</th>\n",
              "      <th>Valence</th>\n",
              "      <th>Tempo</th>\n",
              "      <th>Genre</th>\n",
              "      <th>Top100</th>\n",
              "    </tr>\n",
              "  </thead>\n",
              "  <tbody>\n",
              "    <tr>\n",
              "      <th>0</th>\n",
              "      <td>0.556</td>\n",
              "      <td>0.864</td>\n",
              "      <td>-5.870</td>\n",
              "      <td>0.0584</td>\n",
              "      <td>0.009580</td>\n",
              "      <td>0.000000</td>\n",
              "      <td>0.209</td>\n",
              "      <td>0.400</td>\n",
              "      <td>105.143</td>\n",
              "      <td>5</td>\n",
              "      <td>0</td>\n",
              "    </tr>\n",
              "    <tr>\n",
              "      <th>1</th>\n",
              "      <td>0.737</td>\n",
              "      <td>0.463</td>\n",
              "      <td>-7.828</td>\n",
              "      <td>0.0792</td>\n",
              "      <td>0.008170</td>\n",
              "      <td>0.447000</td>\n",
              "      <td>0.255</td>\n",
              "      <td>0.324</td>\n",
              "      <td>123.881</td>\n",
              "      <td>9</td>\n",
              "      <td>0</td>\n",
              "    </tr>\n",
              "    <tr>\n",
              "      <th>2</th>\n",
              "      <td>0.618</td>\n",
              "      <td>0.938</td>\n",
              "      <td>-3.442</td>\n",
              "      <td>0.0456</td>\n",
              "      <td>0.017900</td>\n",
              "      <td>0.000000</td>\n",
              "      <td>0.167</td>\n",
              "      <td>0.875</td>\n",
              "      <td>91.455</td>\n",
              "      <td>9</td>\n",
              "      <td>0</td>\n",
              "    </tr>\n",
              "    <tr>\n",
              "      <th>3</th>\n",
              "      <td>0.331</td>\n",
              "      <td>0.943</td>\n",
              "      <td>-3.188</td>\n",
              "      <td>0.0698</td>\n",
              "      <td>0.007210</td>\n",
              "      <td>0.000002</td>\n",
              "      <td>0.242</td>\n",
              "      <td>0.296</td>\n",
              "      <td>94.612</td>\n",
              "      <td>0</td>\n",
              "      <td>0</td>\n",
              "    </tr>\n",
              "    <tr>\n",
              "      <th>4</th>\n",
              "      <td>0.589</td>\n",
              "      <td>0.890</td>\n",
              "      <td>-3.719</td>\n",
              "      <td>0.0603</td>\n",
              "      <td>0.000481</td>\n",
              "      <td>0.000820</td>\n",
              "      <td>0.201</td>\n",
              "      <td>0.692</td>\n",
              "      <td>90.598</td>\n",
              "      <td>5</td>\n",
              "      <td>0</td>\n",
              "    </tr>\n",
              "  </tbody>\n",
              "</table>\n",
              "</div>\n",
              "      <button class=\"colab-df-convert\" onclick=\"convertToInteractive('df-6fdf6534-f811-4c48-b67a-6bae4b303df6')\"\n",
              "              title=\"Convert this dataframe to an interactive table.\"\n",
              "              style=\"display:none;\">\n",
              "        \n",
              "  <svg xmlns=\"http://www.w3.org/2000/svg\" height=\"24px\"viewBox=\"0 0 24 24\"\n",
              "       width=\"24px\">\n",
              "    <path d=\"M0 0h24v24H0V0z\" fill=\"none\"/>\n",
              "    <path d=\"M18.56 5.44l.94 2.06.94-2.06 2.06-.94-2.06-.94-.94-2.06-.94 2.06-2.06.94zm-11 1L8.5 8.5l.94-2.06 2.06-.94-2.06-.94L8.5 2.5l-.94 2.06-2.06.94zm10 10l.94 2.06.94-2.06 2.06-.94-2.06-.94-.94-2.06-.94 2.06-2.06.94z\"/><path d=\"M17.41 7.96l-1.37-1.37c-.4-.4-.92-.59-1.43-.59-.52 0-1.04.2-1.43.59L10.3 9.45l-7.72 7.72c-.78.78-.78 2.05 0 2.83L4 21.41c.39.39.9.59 1.41.59.51 0 1.02-.2 1.41-.59l7.78-7.78 2.81-2.81c.8-.78.8-2.07 0-2.86zM5.41 20L4 18.59l7.72-7.72 1.47 1.35L5.41 20z\"/>\n",
              "  </svg>\n",
              "      </button>\n",
              "      \n",
              "  <style>\n",
              "    .colab-df-container {\n",
              "      display:flex;\n",
              "      flex-wrap:wrap;\n",
              "      gap: 12px;\n",
              "    }\n",
              "\n",
              "    .colab-df-convert {\n",
              "      background-color: #E8F0FE;\n",
              "      border: none;\n",
              "      border-radius: 50%;\n",
              "      cursor: pointer;\n",
              "      display: none;\n",
              "      fill: #1967D2;\n",
              "      height: 32px;\n",
              "      padding: 0 0 0 0;\n",
              "      width: 32px;\n",
              "    }\n",
              "\n",
              "    .colab-df-convert:hover {\n",
              "      background-color: #E2EBFA;\n",
              "      box-shadow: 0px 1px 2px rgba(60, 64, 67, 0.3), 0px 1px 3px 1px rgba(60, 64, 67, 0.15);\n",
              "      fill: #174EA6;\n",
              "    }\n",
              "\n",
              "    [theme=dark] .colab-df-convert {\n",
              "      background-color: #3B4455;\n",
              "      fill: #D2E3FC;\n",
              "    }\n",
              "\n",
              "    [theme=dark] .colab-df-convert:hover {\n",
              "      background-color: #434B5C;\n",
              "      box-shadow: 0px 1px 3px 1px rgba(0, 0, 0, 0.15);\n",
              "      filter: drop-shadow(0px 1px 2px rgba(0, 0, 0, 0.3));\n",
              "      fill: #FFFFFF;\n",
              "    }\n",
              "  </style>\n",
              "\n",
              "      <script>\n",
              "        const buttonEl =\n",
              "          document.querySelector('#df-6fdf6534-f811-4c48-b67a-6bae4b303df6 button.colab-df-convert');\n",
              "        buttonEl.style.display =\n",
              "          google.colab.kernel.accessAllowed ? 'block' : 'none';\n",
              "\n",
              "        async function convertToInteractive(key) {\n",
              "          const element = document.querySelector('#df-6fdf6534-f811-4c48-b67a-6bae4b303df6');\n",
              "          const dataTable =\n",
              "            await google.colab.kernel.invokeFunction('convertToInteractive',\n",
              "                                                     [key], {});\n",
              "          if (!dataTable) return;\n",
              "\n",
              "          const docLinkHtml = 'Like what you see? Visit the ' +\n",
              "            '<a target=\"_blank\" href=https://colab.research.google.com/notebooks/data_table.ipynb>data table notebook</a>'\n",
              "            + ' to learn more about interactive tables.';\n",
              "          element.innerHTML = '';\n",
              "          dataTable['output_type'] = 'display_data';\n",
              "          await google.colab.output.renderOutput(dataTable, element);\n",
              "          const docLink = document.createElement('div');\n",
              "          docLink.innerHTML = docLinkHtml;\n",
              "          element.appendChild(docLink);\n",
              "        }\n",
              "      </script>\n",
              "    </div>\n",
              "  </div>\n",
              "  "
            ]
          },
          "metadata": {},
          "execution_count": 10
        }
      ],
      "source": [
        "# Removing unnecessary column named \"Unnamed: 0\"\n",
        "data.drop('Unnamed: 0',axis=1,inplace=True)\n",
        "data.head()\n",
        "#checking whether it is droped or not!"
      ]
    },
    {
      "cell_type": "code",
      "execution_count": null,
      "metadata": {
        "colab": {
          "base_uri": "https://localhost:8080/",
          "height": 300
        },
        "id": "L7Yp1aAS3PLl",
        "outputId": "b3e688e4-5373-43a7-dc32-1bda50c83676"
      },
      "outputs": [
        {
          "output_type": "execute_result",
          "data": {
            "text/plain": [
              "       Danceability       Energy     Loudness  Speechiness  Acousticness  \\\n",
              "count   8652.000000  8652.000000  8652.000000  8652.000000   8652.000000   \n",
              "mean       0.629263     0.668914    -6.899446     0.098110      0.221021   \n",
              "std        0.154437     0.202883     3.262754     0.097514      0.267346   \n",
              "min        0.061700     0.002890   -36.729000     0.022800      0.000001   \n",
              "25%        0.530000     0.535000    -8.307250     0.037000      0.017300   \n",
              "50%        0.638000     0.700000    -6.142000     0.054150      0.099850   \n",
              "75%        0.741000     0.831000    -4.696750     0.114000      0.335000   \n",
              "max        0.981000     0.997000     1.342000     0.869000      0.996000   \n",
              "\n",
              "       Instrumentalness     Liveness      Valence        Tempo        Genre  \\\n",
              "count       8652.000000  8652.000000  8652.000000  8652.000000  8652.000000   \n",
              "mean           0.040536     0.181063     0.528754   121.364623     6.206657   \n",
              "std            0.150758     0.144034     0.239518    28.657971     1.834390   \n",
              "min            0.000000     0.011900     0.024600    46.591000     0.000000   \n",
              "25%            0.000000     0.092800     0.342000    98.523750     6.000000   \n",
              "50%            0.000005     0.123000     0.526000   120.027500     6.000000   \n",
              "75%            0.000778     0.228000     0.721250   139.929250     7.000000   \n",
              "max            0.982000     0.986000     0.982000   216.115000     9.000000   \n",
              "\n",
              "            Top100  \n",
              "count  8652.000000  \n",
              "mean      0.173486  \n",
              "std       0.378689  \n",
              "min       0.000000  \n",
              "25%       0.000000  \n",
              "50%       0.000000  \n",
              "75%       0.000000  \n",
              "max       1.000000  "
            ],
            "text/html": [
              "\n",
              "  <div id=\"df-c9a09508-f8bf-4a3f-a3e2-7bfcf3801195\">\n",
              "    <div class=\"colab-df-container\">\n",
              "      <div>\n",
              "<style scoped>\n",
              "    .dataframe tbody tr th:only-of-type {\n",
              "        vertical-align: middle;\n",
              "    }\n",
              "\n",
              "    .dataframe tbody tr th {\n",
              "        vertical-align: top;\n",
              "    }\n",
              "\n",
              "    .dataframe thead th {\n",
              "        text-align: right;\n",
              "    }\n",
              "</style>\n",
              "<table border=\"1\" class=\"dataframe\">\n",
              "  <thead>\n",
              "    <tr style=\"text-align: right;\">\n",
              "      <th></th>\n",
              "      <th>Danceability</th>\n",
              "      <th>Energy</th>\n",
              "      <th>Loudness</th>\n",
              "      <th>Speechiness</th>\n",
              "      <th>Acousticness</th>\n",
              "      <th>Instrumentalness</th>\n",
              "      <th>Liveness</th>\n",
              "      <th>Valence</th>\n",
              "      <th>Tempo</th>\n",
              "      <th>Genre</th>\n",
              "      <th>Top100</th>\n",
              "    </tr>\n",
              "  </thead>\n",
              "  <tbody>\n",
              "    <tr>\n",
              "      <th>count</th>\n",
              "      <td>8652.000000</td>\n",
              "      <td>8652.000000</td>\n",
              "      <td>8652.000000</td>\n",
              "      <td>8652.000000</td>\n",
              "      <td>8652.000000</td>\n",
              "      <td>8652.000000</td>\n",
              "      <td>8652.000000</td>\n",
              "      <td>8652.000000</td>\n",
              "      <td>8652.000000</td>\n",
              "      <td>8652.000000</td>\n",
              "      <td>8652.000000</td>\n",
              "    </tr>\n",
              "    <tr>\n",
              "      <th>mean</th>\n",
              "      <td>0.629263</td>\n",
              "      <td>0.668914</td>\n",
              "      <td>-6.899446</td>\n",
              "      <td>0.098110</td>\n",
              "      <td>0.221021</td>\n",
              "      <td>0.040536</td>\n",
              "      <td>0.181063</td>\n",
              "      <td>0.528754</td>\n",
              "      <td>121.364623</td>\n",
              "      <td>6.206657</td>\n",
              "      <td>0.173486</td>\n",
              "    </tr>\n",
              "    <tr>\n",
              "      <th>std</th>\n",
              "      <td>0.154437</td>\n",
              "      <td>0.202883</td>\n",
              "      <td>3.262754</td>\n",
              "      <td>0.097514</td>\n",
              "      <td>0.267346</td>\n",
              "      <td>0.150758</td>\n",
              "      <td>0.144034</td>\n",
              "      <td>0.239518</td>\n",
              "      <td>28.657971</td>\n",
              "      <td>1.834390</td>\n",
              "      <td>0.378689</td>\n",
              "    </tr>\n",
              "    <tr>\n",
              "      <th>min</th>\n",
              "      <td>0.061700</td>\n",
              "      <td>0.002890</td>\n",
              "      <td>-36.729000</td>\n",
              "      <td>0.022800</td>\n",
              "      <td>0.000001</td>\n",
              "      <td>0.000000</td>\n",
              "      <td>0.011900</td>\n",
              "      <td>0.024600</td>\n",
              "      <td>46.591000</td>\n",
              "      <td>0.000000</td>\n",
              "      <td>0.000000</td>\n",
              "    </tr>\n",
              "    <tr>\n",
              "      <th>25%</th>\n",
              "      <td>0.530000</td>\n",
              "      <td>0.535000</td>\n",
              "      <td>-8.307250</td>\n",
              "      <td>0.037000</td>\n",
              "      <td>0.017300</td>\n",
              "      <td>0.000000</td>\n",
              "      <td>0.092800</td>\n",
              "      <td>0.342000</td>\n",
              "      <td>98.523750</td>\n",
              "      <td>6.000000</td>\n",
              "      <td>0.000000</td>\n",
              "    </tr>\n",
              "    <tr>\n",
              "      <th>50%</th>\n",
              "      <td>0.638000</td>\n",
              "      <td>0.700000</td>\n",
              "      <td>-6.142000</td>\n",
              "      <td>0.054150</td>\n",
              "      <td>0.099850</td>\n",
              "      <td>0.000005</td>\n",
              "      <td>0.123000</td>\n",
              "      <td>0.526000</td>\n",
              "      <td>120.027500</td>\n",
              "      <td>6.000000</td>\n",
              "      <td>0.000000</td>\n",
              "    </tr>\n",
              "    <tr>\n",
              "      <th>75%</th>\n",
              "      <td>0.741000</td>\n",
              "      <td>0.831000</td>\n",
              "      <td>-4.696750</td>\n",
              "      <td>0.114000</td>\n",
              "      <td>0.335000</td>\n",
              "      <td>0.000778</td>\n",
              "      <td>0.228000</td>\n",
              "      <td>0.721250</td>\n",
              "      <td>139.929250</td>\n",
              "      <td>7.000000</td>\n",
              "      <td>0.000000</td>\n",
              "    </tr>\n",
              "    <tr>\n",
              "      <th>max</th>\n",
              "      <td>0.981000</td>\n",
              "      <td>0.997000</td>\n",
              "      <td>1.342000</td>\n",
              "      <td>0.869000</td>\n",
              "      <td>0.996000</td>\n",
              "      <td>0.982000</td>\n",
              "      <td>0.986000</td>\n",
              "      <td>0.982000</td>\n",
              "      <td>216.115000</td>\n",
              "      <td>9.000000</td>\n",
              "      <td>1.000000</td>\n",
              "    </tr>\n",
              "  </tbody>\n",
              "</table>\n",
              "</div>\n",
              "      <button class=\"colab-df-convert\" onclick=\"convertToInteractive('df-c9a09508-f8bf-4a3f-a3e2-7bfcf3801195')\"\n",
              "              title=\"Convert this dataframe to an interactive table.\"\n",
              "              style=\"display:none;\">\n",
              "        \n",
              "  <svg xmlns=\"http://www.w3.org/2000/svg\" height=\"24px\"viewBox=\"0 0 24 24\"\n",
              "       width=\"24px\">\n",
              "    <path d=\"M0 0h24v24H0V0z\" fill=\"none\"/>\n",
              "    <path d=\"M18.56 5.44l.94 2.06.94-2.06 2.06-.94-2.06-.94-.94-2.06-.94 2.06-2.06.94zm-11 1L8.5 8.5l.94-2.06 2.06-.94-2.06-.94L8.5 2.5l-.94 2.06-2.06.94zm10 10l.94 2.06.94-2.06 2.06-.94-2.06-.94-.94-2.06-.94 2.06-2.06.94z\"/><path d=\"M17.41 7.96l-1.37-1.37c-.4-.4-.92-.59-1.43-.59-.52 0-1.04.2-1.43.59L10.3 9.45l-7.72 7.72c-.78.78-.78 2.05 0 2.83L4 21.41c.39.39.9.59 1.41.59.51 0 1.02-.2 1.41-.59l7.78-7.78 2.81-2.81c.8-.78.8-2.07 0-2.86zM5.41 20L4 18.59l7.72-7.72 1.47 1.35L5.41 20z\"/>\n",
              "  </svg>\n",
              "      </button>\n",
              "      \n",
              "  <style>\n",
              "    .colab-df-container {\n",
              "      display:flex;\n",
              "      flex-wrap:wrap;\n",
              "      gap: 12px;\n",
              "    }\n",
              "\n",
              "    .colab-df-convert {\n",
              "      background-color: #E8F0FE;\n",
              "      border: none;\n",
              "      border-radius: 50%;\n",
              "      cursor: pointer;\n",
              "      display: none;\n",
              "      fill: #1967D2;\n",
              "      height: 32px;\n",
              "      padding: 0 0 0 0;\n",
              "      width: 32px;\n",
              "    }\n",
              "\n",
              "    .colab-df-convert:hover {\n",
              "      background-color: #E2EBFA;\n",
              "      box-shadow: 0px 1px 2px rgba(60, 64, 67, 0.3), 0px 1px 3px 1px rgba(60, 64, 67, 0.15);\n",
              "      fill: #174EA6;\n",
              "    }\n",
              "\n",
              "    [theme=dark] .colab-df-convert {\n",
              "      background-color: #3B4455;\n",
              "      fill: #D2E3FC;\n",
              "    }\n",
              "\n",
              "    [theme=dark] .colab-df-convert:hover {\n",
              "      background-color: #434B5C;\n",
              "      box-shadow: 0px 1px 3px 1px rgba(0, 0, 0, 0.15);\n",
              "      filter: drop-shadow(0px 1px 2px rgba(0, 0, 0, 0.3));\n",
              "      fill: #FFFFFF;\n",
              "    }\n",
              "  </style>\n",
              "\n",
              "      <script>\n",
              "        const buttonEl =\n",
              "          document.querySelector('#df-c9a09508-f8bf-4a3f-a3e2-7bfcf3801195 button.colab-df-convert');\n",
              "        buttonEl.style.display =\n",
              "          google.colab.kernel.accessAllowed ? 'block' : 'none';\n",
              "\n",
              "        async function convertToInteractive(key) {\n",
              "          const element = document.querySelector('#df-c9a09508-f8bf-4a3f-a3e2-7bfcf3801195');\n",
              "          const dataTable =\n",
              "            await google.colab.kernel.invokeFunction('convertToInteractive',\n",
              "                                                     [key], {});\n",
              "          if (!dataTable) return;\n",
              "\n",
              "          const docLinkHtml = 'Like what you see? Visit the ' +\n",
              "            '<a target=\"_blank\" href=https://colab.research.google.com/notebooks/data_table.ipynb>data table notebook</a>'\n",
              "            + ' to learn more about interactive tables.';\n",
              "          element.innerHTML = '';\n",
              "          dataTable['output_type'] = 'display_data';\n",
              "          await google.colab.output.renderOutput(dataTable, element);\n",
              "          const docLink = document.createElement('div');\n",
              "          docLink.innerHTML = docLinkHtml;\n",
              "          element.appendChild(docLink);\n",
              "        }\n",
              "      </script>\n",
              "    </div>\n",
              "  </div>\n",
              "  "
            ]
          },
          "metadata": {},
          "execution_count": 11
        }
      ],
      "source": [
        "\n",
        "data.describe()"
      ]
    },
    {
      "cell_type": "code",
      "execution_count": null,
      "metadata": {
        "colab": {
          "base_uri": "https://localhost:8080/"
        },
        "id": "orNA3Bhr3ftS",
        "outputId": "9755a900-ae38-4345-b9a5-deb2b35a8531"
      },
      "outputs": [
        {
          "output_type": "execute_result",
          "data": {
            "text/plain": [
              "(8652, 11)"
            ]
          },
          "metadata": {},
          "execution_count": 12
        }
      ],
      "source": [
        "# Checkinng shape of dataset\n",
        "data.shape"
      ]
    },
    {
      "cell_type": "code",
      "execution_count": null,
      "metadata": {
        "colab": {
          "base_uri": "https://localhost:8080/"
        },
        "id": "Q3ETaIGt3h1W",
        "outputId": "e2a674a4-5b5e-49e1-b2d9-7087d227125f"
      },
      "outputs": [
        {
          "output_type": "stream",
          "name": "stdout",
          "text": [
            "<class 'pandas.core.frame.DataFrame'>\n",
            "RangeIndex: 8652 entries, 0 to 8651\n",
            "Data columns (total 11 columns):\n",
            " #   Column            Non-Null Count  Dtype  \n",
            "---  ------            --------------  -----  \n",
            " 0   Danceability      8652 non-null   float64\n",
            " 1   Energy            8652 non-null   float64\n",
            " 2   Loudness          8652 non-null   float64\n",
            " 3   Speechiness       8652 non-null   float64\n",
            " 4   Acousticness      8652 non-null   float64\n",
            " 5   Instrumentalness  8652 non-null   float64\n",
            " 6   Liveness          8652 non-null   float64\n",
            " 7   Valence           8652 non-null   float64\n",
            " 8   Tempo             8652 non-null   float64\n",
            " 9   Genre             8652 non-null   int64  \n",
            " 10  Top100            8652 non-null   int64  \n",
            "dtypes: float64(9), int64(2)\n",
            "memory usage: 743.7 KB\n",
            "None\n"
          ]
        }
      ],
      "source": [
        "print(data.info())\n"
      ]
    },
    {
      "cell_type": "code",
      "execution_count": null,
      "metadata": {
        "colab": {
          "base_uri": "https://localhost:8080/",
          "height": 296
        },
        "id": "S8Z7untu6XTk",
        "outputId": "f6d1ac45-7d29-4e3e-bc21-67f4f7467c6e"
      },
      "outputs": [
        {
          "output_type": "execute_result",
          "data": {
            "text/plain": [
              "<matplotlib.axes._subplots.AxesSubplot at 0x7f4011902dd0>"
            ]
          },
          "metadata": {},
          "execution_count": 14
        },
        {
          "output_type": "display_data",
          "data": {
            "text/plain": [
              "<Figure size 432x288 with 1 Axes>"
            ],
            "image/png": "[encoded data removed]"
          },
          "metadata": {
            "needs_background": "light"
          }
        }
      ],
      "source": [
        "# Plotting graph of Top100\n",
        "sns.countplot(x=\"Top100\",data=data,palette=\"Set3\")"
      ]
    },
    {
      "cell_type": "code",
      "execution_count": null,
      "metadata": {
        "colab": {
          "base_uri": "https://localhost:8080/"
        },
        "id": "cEFogBDn64Uz",
        "outputId": "cf80e010-e5a8-46bb-961f-73ecf4082ed9"
      },
      "outputs": [
        {
          "output_type": "execute_result",
          "data": {
            "text/plain": [
              "0    7151\n",
              "1    1501\n",
              "Name: Top100, dtype: int64"
            ]
          },
          "metadata": {},
          "execution_count": 15
        }
      ],
      "source": [
        "data['Top100'].value_counts()"
      ]
    },
    {
      "cell_type": "code",
      "execution_count": null,
      "metadata": {
        "id": "N-Hxgm5367IO"
      },
      "outputs": [],
      "source": [
        "# Splitting into X and y\n",
        "X=data.drop(\"Top100\",axis=1)    # excluding output column\n",
        "y=data[\"Top100\"]"
      ]
    },
    {
      "cell_type": "code",
      "execution_count": null,
      "metadata": {
        "colab": {
          "base_uri": "https://localhost:8080/",
          "height": 424
        },
        "id": "yAy9O1Sc7FBx",
        "outputId": "4eebc292-2176-40d3-d803-aa95e6d2b52d"
      },
      "outputs": [
        {
          "output_type": "execute_result",
          "data": {
            "text/plain": [
              "      Danceability  Energy  Loudness  Speechiness  Acousticness  \\\n",
              "0            0.556   0.864    -5.870       0.0584      0.009580   \n",
              "1            0.737   0.463    -7.828       0.0792      0.008170   \n",
              "2            0.618   0.938    -3.442       0.0456      0.017900   \n",
              "3            0.331   0.943    -3.188       0.0698      0.007210   \n",
              "4            0.589   0.890    -3.719       0.0603      0.000481   \n",
              "...            ...     ...       ...          ...           ...   \n",
              "8647         0.783   0.840    -3.416       0.0510      0.174000   \n",
              "8648         0.669   0.308   -10.068       0.0290      0.883000   \n",
              "8649         0.544   0.781    -6.160       0.0311      0.005850   \n",
              "8650         0.713   0.831    -4.750       0.1500      0.016800   \n",
              "8651         0.836   0.544    -5.975       0.0943      0.040300   \n",
              "\n",
              "      Instrumentalness  Liveness  Valence    Tempo  Genre  \n",
              "0             0.000000    0.2090    0.400  105.143      5  \n",
              "1             0.447000    0.2550    0.324  123.881      9  \n",
              "2             0.000000    0.1670    0.875   91.455      9  \n",
              "3             0.000002    0.2420    0.296   94.612      0  \n",
              "4             0.000820    0.2010    0.692   90.598      5  \n",
              "...                ...       ...      ...      ...    ...  \n",
              "8647          0.000000    0.4120    0.839   95.001      8  \n",
              "8648          0.000000    0.0984    0.520   64.934      7  \n",
              "8649          0.000000    0.1910    0.527  144.075      2  \n",
              "8650          0.000000    0.1180    0.584  173.948      7  \n",
              "8651          0.000000    0.0824    0.510   97.028      6  \n",
              "\n",
              "[8652 rows x 10 columns]"
            ],
            "text/html": [
              "\n",
              "  <div id=\"df-33cc58db-ff10-43e0-a393-47d62f516ae4\">\n",
              "    <div class=\"colab-df-container\">\n",
              "      <div>\n",
              "<style scoped>\n",
              "    .dataframe tbody tr th:only-of-type {\n",
              "        vertical-align: middle;\n",
              "    }\n",
              "\n",
              "    .dataframe tbody tr th {\n",
              "        vertical-align: top;\n",
              "    }\n",
              "\n",
              "    .dataframe thead th {\n",
              "        text-align: right;\n",
              "    }\n",
              "</style>\n",
              "<table border=\"1\" class=\"dataframe\">\n",
              "  <thead>\n",
              "    <tr style=\"text-align: right;\">\n",
              "      <th></th>\n",
              "      <th>Danceability</th>\n",
              "      <th>Energy</th>\n",
              "      <th>Loudness</th>\n",
              "      <th>Speechiness</th>\n",
              "      <th>Acousticness</th>\n",
              "      <th>Instrumentalness</th>\n",
              "      <th>Liveness</th>\n",
              "      <th>Valence</th>\n",
              "      <th>Tempo</th>\n",
              "      <th>Genre</th>\n",
              "    </tr>\n",
              "  </thead>\n",
              "  <tbody>\n",
              "    <tr>\n",
              "      <th>0</th>\n",
              "      <td>0.556</td>\n",
              "      <td>0.864</td>\n",
              "      <td>-5.870</td>\n",
              "      <td>0.0584</td>\n",
              "      <td>0.009580</td>\n",
              "      <td>0.000000</td>\n",
              "      <td>0.2090</td>\n",
              "      <td>0.400</td>\n",
              "      <td>105.143</td>\n",
              "      <td>5</td>\n",
              "    </tr>\n",
              "    <tr>\n",
              "      <th>1</th>\n",
              "      <td>0.737</td>\n",
              "      <td>0.463</td>\n",
              "      <td>-7.828</td>\n",
              "      <td>0.0792</td>\n",
              "      <td>0.008170</td>\n",
              "      <td>0.447000</td>\n",
              "      <td>0.2550</td>\n",
              "      <td>0.324</td>\n",
              "      <td>123.881</td>\n",
              "      <td>9</td>\n",
              "    </tr>\n",
              "    <tr>\n",
              "      <th>2</th>\n",
              "      <td>0.618</td>\n",
              "      <td>0.938</td>\n",
              "      <td>-3.442</td>\n",
              "      <td>0.0456</td>\n",
              "      <td>0.017900</td>\n",
              "      <td>0.000000</td>\n",
              "      <td>0.1670</td>\n",
              "      <td>0.875</td>\n",
              "      <td>91.455</td>\n",
              "      <td>9</td>\n",
              "    </tr>\n",
              "    <tr>\n",
              "      <th>3</th>\n",
              "      <td>0.331</td>\n",
              "      <td>0.943</td>\n",
              "      <td>-3.188</td>\n",
              "      <td>0.0698</td>\n",
              "      <td>0.007210</td>\n",
              "      <td>0.000002</td>\n",
              "      <td>0.2420</td>\n",
              "      <td>0.296</td>\n",
              "      <td>94.612</td>\n",
              "      <td>0</td>\n",
              "    </tr>\n",
              "    <tr>\n",
              "      <th>4</th>\n",
              "      <td>0.589</td>\n",
              "      <td>0.890</td>\n",
              "      <td>-3.719</td>\n",
              "      <td>0.0603</td>\n",
              "      <td>0.000481</td>\n",
              "      <td>0.000820</td>\n",
              "      <td>0.2010</td>\n",
              "      <td>0.692</td>\n",
              "      <td>90.598</td>\n",
              "      <td>5</td>\n",
              "    </tr>\n",
              "    <tr>\n",
              "      <th>...</th>\n",
              "      <td>...</td>\n",
              "      <td>...</td>\n",
              "      <td>...</td>\n",
              "      <td>...</td>\n",
              "      <td>...</td>\n",
              "      <td>...</td>\n",
              "      <td>...</td>\n",
              "      <td>...</td>\n",
              "      <td>...</td>\n",
              "      <td>...</td>\n",
              "    </tr>\n",
              "    <tr>\n",
              "      <th>8647</th>\n",
              "      <td>0.783</td>\n",
              "      <td>0.840</td>\n",
              "      <td>-3.416</td>\n",
              "      <td>0.0510</td>\n",
              "      <td>0.174000</td>\n",
              "      <td>0.000000</td>\n",
              "      <td>0.4120</td>\n",
              "      <td>0.839</td>\n",
              "      <td>95.001</td>\n",
              "      <td>8</td>\n",
              "    </tr>\n",
              "    <tr>\n",
              "      <th>8648</th>\n",
              "      <td>0.669</td>\n",
              "      <td>0.308</td>\n",
              "      <td>-10.068</td>\n",
              "      <td>0.0290</td>\n",
              "      <td>0.883000</td>\n",
              "      <td>0.000000</td>\n",
              "      <td>0.0984</td>\n",
              "      <td>0.520</td>\n",
              "      <td>64.934</td>\n",
              "      <td>7</td>\n",
              "    </tr>\n",
              "    <tr>\n",
              "      <th>8649</th>\n",
              "      <td>0.544</td>\n",
              "      <td>0.781</td>\n",
              "      <td>-6.160</td>\n",
              "      <td>0.0311</td>\n",
              "      <td>0.005850</td>\n",
              "      <td>0.000000</td>\n",
              "      <td>0.1910</td>\n",
              "      <td>0.527</td>\n",
              "      <td>144.075</td>\n",
              "      <td>2</td>\n",
              "    </tr>\n",
              "    <tr>\n",
              "      <th>8650</th>\n",
              "      <td>0.713</td>\n",
              "      <td>0.831</td>\n",
              "      <td>-4.750</td>\n",
              "      <td>0.1500</td>\n",
              "      <td>0.016800</td>\n",
              "      <td>0.000000</td>\n",
              "      <td>0.1180</td>\n",
              "      <td>0.584</td>\n",
              "      <td>173.948</td>\n",
              "      <td>7</td>\n",
              "    </tr>\n",
              "    <tr>\n",
              "      <th>8651</th>\n",
              "      <td>0.836</td>\n",
              "      <td>0.544</td>\n",
              "      <td>-5.975</td>\n",
              "      <td>0.0943</td>\n",
              "      <td>0.040300</td>\n",
              "      <td>0.000000</td>\n",
              "      <td>0.0824</td>\n",
              "      <td>0.510</td>\n",
              "      <td>97.028</td>\n",
              "      <td>6</td>\n",
              "    </tr>\n",
              "  </tbody>\n",
              "</table>\n",
              "<p>8652 rows × 10 columns</p>\n",
              "</div>\n",
              "      <button class=\"colab-df-convert\" onclick=\"convertToInteractive('df-33cc58db-ff10-43e0-a393-47d62f516ae4')\"\n",
              "              title=\"Convert this dataframe to an interactive table.\"\n",
              "              style=\"display:none;\">\n",
              "        \n",
              "  <svg xmlns=\"http://www.w3.org/2000/svg\" height=\"24px\"viewBox=\"0 0 24 24\"\n",
              "       width=\"24px\">\n",
              "    <path d=\"M0 0h24v24H0V0z\" fill=\"none\"/>\n",
              "    <path d=\"M18.56 5.44l.94 2.06.94-2.06 2.06-.94-2.06-.94-.94-2.06-.94 2.06-2.06.94zm-11 1L8.5 8.5l.94-2.06 2.06-.94-2.06-.94L8.5 2.5l-.94 2.06-2.06.94zm10 10l.94 2.06.94-2.06 2.06-.94-2.06-.94-.94-2.06-.94 2.06-2.06.94z\"/><path d=\"M17.41 7.96l-1.37-1.37c-.4-.4-.92-.59-1.43-.59-.52 0-1.04.2-1.43.59L10.3 9.45l-7.72 7.72c-.78.78-.78 2.05 0 2.83L4 21.41c.39.39.9.59 1.41.59.51 0 1.02-.2 1.41-.59l7.78-7.78 2.81-2.81c.8-.78.8-2.07 0-2.86zM5.41 20L4 18.59l7.72-7.72 1.47 1.35L5.41 20z\"/>\n",
              "  </svg>\n",
              "      </button>\n",
              "      \n",
              "  <style>\n",
              "    .colab-df-container {\n",
              "      display:flex;\n",
              "      flex-wrap:wrap;\n",
              "      gap: 12px;\n",
              "    }\n",
              "\n",
              "    .colab-df-convert {\n",
              "      background-color: #E8F0FE;\n",
              "      border: none;\n",
              "      border-radius: 50%;\n",
              "      cursor: pointer;\n",
              "      display: none;\n",
              "      fill: #1967D2;\n",
              "      height: 32px;\n",
              "      padding: 0 0 0 0;\n",
              "      width: 32px;\n",
              "    }\n",
              "\n",
              "    .colab-df-convert:hover {\n",
              "      background-color: #E2EBFA;\n",
              "      box-shadow: 0px 1px 2px rgba(60, 64, 67, 0.3), 0px 1px 3px 1px rgba(60, 64, 67, 0.15);\n",
              "      fill: #174EA6;\n",
              "    }\n",
              "\n",
              "    [theme=dark] .colab-df-convert {\n",
              "      background-color: #3B4455;\n",
              "      fill: #D2E3FC;\n",
              "    }\n",
              "\n",
              "    [theme=dark] .colab-df-convert:hover {\n",
              "      background-color: #434B5C;\n",
              "      box-shadow: 0px 1px 3px 1px rgba(0, 0, 0, 0.15);\n",
              "      filter: drop-shadow(0px 1px 2px rgba(0, 0, 0, 0.3));\n",
              "      fill: #FFFFFF;\n",
              "    }\n",
              "  </style>\n",
              "\n",
              "      <script>\n",
              "        const buttonEl =\n",
              "          document.querySelector('#df-33cc58db-ff10-43e0-a393-47d62f516ae4 button.colab-df-convert');\n",
              "        buttonEl.style.display =\n",
              "          google.colab.kernel.accessAllowed ? 'block' : 'none';\n",
              "\n",
              "        async function convertToInteractive(key) {\n",
              "          const element = document.querySelector('#df-33cc58db-ff10-43e0-a393-47d62f516ae4');\n",
              "          const dataTable =\n",
              "            await google.colab.kernel.invokeFunction('convertToInteractive',\n",
              "                                                     [key], {});\n",
              "          if (!dataTable) return;\n",
              "\n",
              "          const docLinkHtml = 'Like what you see? Visit the ' +\n",
              "            '<a target=\"_blank\" href=https://colab.research.google.com/notebooks/data_table.ipynb>data table notebook</a>'\n",
              "            + ' to learn more about interactive tables.';\n",
              "          element.innerHTML = '';\n",
              "          dataTable['output_type'] = 'display_data';\n",
              "          await google.colab.output.renderOutput(dataTable, element);\n",
              "          const docLink = document.createElement('div');\n",
              "          docLink.innerHTML = docLinkHtml;\n",
              "          element.appendChild(docLink);\n",
              "        }\n",
              "      </script>\n",
              "    </div>\n",
              "  </div>\n",
              "  "
            ]
          },
          "metadata": {},
          "execution_count": 17
        }
      ],
      "source": [
        "X"
      ]
    },
    {
      "cell_type": "code",
      "execution_count": null,
      "metadata": {
        "colab": {
          "base_uri": "https://localhost:8080/"
        },
        "id": "shwlSMM669dI",
        "outputId": "b4cfd7d0-3c5f-46c5-9f00-3bdd15da9445"
      },
      "outputs": [
        {
          "output_type": "execute_result",
          "data": {
            "text/plain": [
              "(8652, 10)"
            ]
          },
          "metadata": {},
          "execution_count": 18
        }
      ],
      "source": [
        "X.shape"
      ]
    },
    {
      "cell_type": "code",
      "execution_count": null,
      "metadata": {
        "colab": {
          "base_uri": "https://localhost:8080/"
        },
        "id": "RCze5M5P7APc",
        "outputId": "11486604-e2a0-4684-de51-3c0cafe9d391"
      },
      "outputs": [
        {
          "output_type": "execute_result",
          "data": {
            "text/plain": [
              "0       0\n",
              "1       0\n",
              "2       0\n",
              "3       0\n",
              "4       0\n",
              "       ..\n",
              "8647    1\n",
              "8648    1\n",
              "8649    1\n",
              "8650    1\n",
              "8651    1\n",
              "Name: Top100, Length: 8652, dtype: int64"
            ]
          },
          "metadata": {},
          "execution_count": 19
        }
      ],
      "source": [
        "y"
      ]
    },
    {
      "cell_type": "code",
      "execution_count": null,
      "metadata": {
        "colab": {
          "base_uri": "https://localhost:8080/"
        },
        "id": "hBAYdsxs7I1L",
        "outputId": "b81f57b4-6d37-4a68-f736-0ff7ddb0a15b"
      },
      "outputs": [
        {
          "output_type": "execute_result",
          "data": {
            "text/plain": [
              "(8652,)"
            ]
          },
          "metadata": {},
          "execution_count": 20
        }
      ],
      "source": [
        "y.shape"
      ]
    },
    {
      "cell_type": "code",
      "execution_count": null,
      "metadata": {
        "colab": {
          "base_uri": "https://localhost:8080/"
        },
        "id": "xIBExYuw7LZv",
        "outputId": "c3490638-09d3-4e20-8dea-697a8363529b"
      },
      "outputs": [
        {
          "output_type": "execute_result",
          "data": {
            "text/plain": [
              "((14302, 10), (14302,))"
            ]
          },
          "metadata": {},
          "execution_count": 21
        }
      ],
      "source": [
        "# Applying SMOTE: to balance the dataset\n",
        "\n",
        "from imblearn.over_sampling import SMOTE\n",
        "smote=SMOTE(sampling_strategy=\"minority\")\n",
        "X_sm,y_sm=smote.fit_resample(X,y)\n",
        "X_sm.shape,y_sm.shape "
      ]
    },
    {
      "cell_type": "code",
      "execution_count": null,
      "metadata": {
        "colab": {
          "base_uri": "https://localhost:8080/"
        },
        "id": "u0ndQsCF7QIu",
        "outputId": "03c8ed18-1bf6-4ab2-c69e-ae00890a93df"
      },
      "outputs": [
        {
          "output_type": "execute_result",
          "data": {
            "text/plain": [
              "((14302, 10), (14302,))"
            ]
          },
          "metadata": {},
          "execution_count": 22
        }
      ],
      "source": [
        "# Checking the shape again after applying smote\n",
        "X_sm.shape,y_sm.shape"
      ]
    },
    {
      "cell_type": "code",
      "execution_count": null,
      "metadata": {
        "colab": {
          "base_uri": "https://localhost:8080/"
        },
        "id": "Et2plMxc77o6",
        "outputId": "1a37d3b5-e73b-4402-d876-868052d3b836"
      },
      "outputs": [
        {
          "output_type": "execute_result",
          "data": {
            "text/plain": [
              "Index(['Danceability', 'Energy', 'Loudness', 'Speechiness', 'Acousticness',\n",
              "       'Instrumentalness', 'Liveness', 'Valence', 'Tempo', 'Genre', 'Top100'],\n",
              "      dtype='object')"
            ]
          },
          "metadata": {},
          "execution_count": 23
        }
      ],
      "source": [
        "data.columns"
      ]
    },
    {
      "cell_type": "code",
      "execution_count": null,
      "metadata": {
        "colab": {
          "base_uri": "https://localhost:8080/",
          "height": 206
        },
        "id": "PtEIye2I79Y3",
        "outputId": "4b43d509-c664-449e-ad30-9947d5e413fb"
      },
      "outputs": [
        {
          "output_type": "execute_result",
          "data": {
            "text/plain": [
              "   Danceability  Energy  Loudness  Speechiness  Acousticness  \\\n",
              "0         0.556   0.864    -5.870       0.0584      0.009580   \n",
              "1         0.737   0.463    -7.828       0.0792      0.008170   \n",
              "2         0.618   0.938    -3.442       0.0456      0.017900   \n",
              "3         0.331   0.943    -3.188       0.0698      0.007210   \n",
              "4         0.589   0.890    -3.719       0.0603      0.000481   \n",
              "\n",
              "   Instrumentalness  Liveness  Valence    Tempo  Genre  \n",
              "0          0.000000     0.209    0.400  105.143      5  \n",
              "1          0.447000     0.255    0.324  123.881      9  \n",
              "2          0.000000     0.167    0.875   91.455      9  \n",
              "3          0.000002     0.242    0.296   94.612      0  \n",
              "4          0.000820     0.201    0.692   90.598      5  "
            ],
            "text/html": [
              "\n",
              "  <div id=\"df-26402f9f-a895-4fb2-9928-b0b9664c1c9c\">\n",
              "    <div class=\"colab-df-container\">\n",
              "      <div>\n",
              "<style scoped>\n",
              "    .dataframe tbody tr th:only-of-type {\n",
              "        vertical-align: middle;\n",
              "    }\n",
              "\n",
              "    .dataframe tbody tr th {\n",
              "        vertical-align: top;\n",
              "    }\n",
              "\n",
              "    .dataframe thead th {\n",
              "        text-align: right;\n",
              "    }\n",
              "</style>\n",
              "<table border=\"1\" class=\"dataframe\">\n",
              "  <thead>\n",
              "    <tr style=\"text-align: right;\">\n",
              "      <th></th>\n",
              "      <th>Danceability</th>\n",
              "      <th>Energy</th>\n",
              "      <th>Loudness</th>\n",
              "      <th>Speechiness</th>\n",
              "      <th>Acousticness</th>\n",
              "      <th>Instrumentalness</th>\n",
              "      <th>Liveness</th>\n",
              "      <th>Valence</th>\n",
              "      <th>Tempo</th>\n",
              "      <th>Genre</th>\n",
              "    </tr>\n",
              "  </thead>\n",
              "  <tbody>\n",
              "    <tr>\n",
              "      <th>0</th>\n",
              "      <td>0.556</td>\n",
              "      <td>0.864</td>\n",
              "      <td>-5.870</td>\n",
              "      <td>0.0584</td>\n",
              "      <td>0.009580</td>\n",
              "      <td>0.000000</td>\n",
              "      <td>0.209</td>\n",
              "      <td>0.400</td>\n",
              "      <td>105.143</td>\n",
              "      <td>5</td>\n",
              "    </tr>\n",
              "    <tr>\n",
              "      <th>1</th>\n",
              "      <td>0.737</td>\n",
              "      <td>0.463</td>\n",
              "      <td>-7.828</td>\n",
              "      <td>0.0792</td>\n",
              "      <td>0.008170</td>\n",
              "      <td>0.447000</td>\n",
              "      <td>0.255</td>\n",
              "      <td>0.324</td>\n",
              "      <td>123.881</td>\n",
              "      <td>9</td>\n",
              "    </tr>\n",
              "    <tr>\n",
              "      <th>2</th>\n",
              "      <td>0.618</td>\n",
              "      <td>0.938</td>\n",
              "      <td>-3.442</td>\n",
              "      <td>0.0456</td>\n",
              "      <td>0.017900</td>\n",
              "      <td>0.000000</td>\n",
              "      <td>0.167</td>\n",
              "      <td>0.875</td>\n",
              "      <td>91.455</td>\n",
              "      <td>9</td>\n",
              "    </tr>\n",
              "    <tr>\n",
              "      <th>3</th>\n",
              "      <td>0.331</td>\n",
              "      <td>0.943</td>\n",
              "      <td>-3.188</td>\n",
              "      <td>0.0698</td>\n",
              "      <td>0.007210</td>\n",
              "      <td>0.000002</td>\n",
              "      <td>0.242</td>\n",
              "      <td>0.296</td>\n",
              "      <td>94.612</td>\n",
              "      <td>0</td>\n",
              "    </tr>\n",
              "    <tr>\n",
              "      <th>4</th>\n",
              "      <td>0.589</td>\n",
              "      <td>0.890</td>\n",
              "      <td>-3.719</td>\n",
              "      <td>0.0603</td>\n",
              "      <td>0.000481</td>\n",
              "      <td>0.000820</td>\n",
              "      <td>0.201</td>\n",
              "      <td>0.692</td>\n",
              "      <td>90.598</td>\n",
              "      <td>5</td>\n",
              "    </tr>\n",
              "  </tbody>\n",
              "</table>\n",
              "</div>\n",
              "      <button class=\"colab-df-convert\" onclick=\"convertToInteractive('df-26402f9f-a895-4fb2-9928-b0b9664c1c9c')\"\n",
              "              title=\"Convert this dataframe to an interactive table.\"\n",
              "              style=\"display:none;\">\n",
              "        \n",
              "  <svg xmlns=\"http://www.w3.org/2000/svg\" height=\"24px\"viewBox=\"0 0 24 24\"\n",
              "       width=\"24px\">\n",
              "    <path d=\"M0 0h24v24H0V0z\" fill=\"none\"/>\n",
              "    <path d=\"M18.56 5.44l.94 2.06.94-2.06 2.06-.94-2.06-.94-.94-2.06-.94 2.06-2.06.94zm-11 1L8.5 8.5l.94-2.06 2.06-.94-2.06-.94L8.5 2.5l-.94 2.06-2.06.94zm10 10l.94 2.06.94-2.06 2.06-.94-2.06-.94-.94-2.06-.94 2.06-2.06.94z\"/><path d=\"M17.41 7.96l-1.37-1.37c-.4-.4-.92-.59-1.43-.59-.52 0-1.04.2-1.43.59L10.3 9.45l-7.72 7.72c-.78.78-.78 2.05 0 2.83L4 21.41c.39.39.9.59 1.41.59.51 0 1.02-.2 1.41-.59l7.78-7.78 2.81-2.81c.8-.78.8-2.07 0-2.86zM5.41 20L4 18.59l7.72-7.72 1.47 1.35L5.41 20z\"/>\n",
              "  </svg>\n",
              "      </button>\n",
              "      \n",
              "  <style>\n",
              "    .colab-df-container {\n",
              "      display:flex;\n",
              "      flex-wrap:wrap;\n",
              "      gap: 12px;\n",
              "    }\n",
              "\n",
              "    .colab-df-convert {\n",
              "      background-color: #E8F0FE;\n",
              "      border: none;\n",
              "      border-radius: 50%;\n",
              "      cursor: pointer;\n",
              "      display: none;\n",
              "      fill: #1967D2;\n",
              "      height: 32px;\n",
              "      padding: 0 0 0 0;\n",
              "      width: 32px;\n",
              "    }\n",
              "\n",
              "    .colab-df-convert:hover {\n",
              "      background-color: #E2EBFA;\n",
              "      box-shadow: 0px 1px 2px rgba(60, 64, 67, 0.3), 0px 1px 3px 1px rgba(60, 64, 67, 0.15);\n",
              "      fill: #174EA6;\n",
              "    }\n",
              "\n",
              "    [theme=dark] .colab-df-convert {\n",
              "      background-color: #3B4455;\n",
              "      fill: #D2E3FC;\n",
              "    }\n",
              "\n",
              "    [theme=dark] .colab-df-convert:hover {\n",
              "      background-color: #434B5C;\n",
              "      box-shadow: 0px 1px 3px 1px rgba(0, 0, 0, 0.15);\n",
              "      filter: drop-shadow(0px 1px 2px rgba(0, 0, 0, 0.3));\n",
              "      fill: #FFFFFF;\n",
              "    }\n",
              "  </style>\n",
              "\n",
              "      <script>\n",
              "        const buttonEl =\n",
              "          document.querySelector('#df-26402f9f-a895-4fb2-9928-b0b9664c1c9c button.colab-df-convert');\n",
              "        buttonEl.style.display =\n",
              "          google.colab.kernel.accessAllowed ? 'block' : 'none';\n",
              "\n",
              "        async function convertToInteractive(key) {\n",
              "          const element = document.querySelector('#df-26402f9f-a895-4fb2-9928-b0b9664c1c9c');\n",
              "          const dataTable =\n",
              "            await google.colab.kernel.invokeFunction('convertToInteractive',\n",
              "                                                     [key], {});\n",
              "          if (!dataTable) return;\n",
              "\n",
              "          const docLinkHtml = 'Like what you see? Visit the ' +\n",
              "            '<a target=\"_blank\" href=https://colab.research.google.com/notebooks/data_table.ipynb>data table notebook</a>'\n",
              "            + ' to learn more about interactive tables.';\n",
              "          element.innerHTML = '';\n",
              "          dataTable['output_type'] = 'display_data';\n",
              "          await google.colab.output.renderOutput(dataTable, element);\n",
              "          const docLink = document.createElement('div');\n",
              "          docLink.innerHTML = docLinkHtml;\n",
              "          element.appendChild(docLink);\n",
              "        }\n",
              "      </script>\n",
              "    </div>\n",
              "  </div>\n",
              "  "
            ]
          },
          "metadata": {},
          "execution_count": 24
        }
      ],
      "source": [
        "column=['Danceability', 'Energy', 'Loudness', 'Speechiness', 'Acousticness',\n",
        "       'Instrumentalness', 'Liveness', 'Valence', 'Tempo', 'Genre']\n",
        "X_balance=pd.DataFrame(X_sm,columns=column)\n",
        "X_balance.head()"
      ]
    },
    {
      "cell_type": "code",
      "execution_count": null,
      "metadata": {
        "colab": {
          "base_uri": "https://localhost:8080/"
        },
        "id": "jmOuDcuT7_6E",
        "outputId": "8726a56e-0afb-4ef3-a42d-dadba42fd3cd"
      },
      "outputs": [
        {
          "output_type": "execute_result",
          "data": {
            "text/plain": [
              "(14302, 10)"
            ]
          },
          "metadata": {},
          "execution_count": 25
        }
      ],
      "source": [
        "X_balance.shape"
      ]
    },
    {
      "cell_type": "code",
      "execution_count": null,
      "metadata": {
        "id": "AVQFyxkq8BxE"
      },
      "outputs": [],
      "source": [
        "# MinMax scaler to scale our data , since we can see that there can be units difference\n",
        "from sklearn.preprocessing import MinMaxScaler\n",
        "scaling=MinMaxScaler()\n",
        "X_scaled=scaling.fit_transform(X_sm)"
      ]
    },
    {
      "cell_type": "code",
      "execution_count": null,
      "metadata": {
        "colab": {
          "base_uri": "https://localhost:8080/",
          "height": 112
        },
        "id": "Yb4wgALk8DZi",
        "outputId": "c1f06869-d445-4ba8-e9da-49d5646c88ca"
      },
      "outputs": [
        {
          "output_type": "execute_result",
          "data": {
            "text/plain": [
              "   Danceability    Energy  Loudness  Speechiness  Acousticness  \\\n",
              "0      0.537692  0.866212  0.810564     0.042070      0.009617   \n",
              "1      0.734581  0.462836  0.759134     0.066651      0.008202   \n",
              "\n",
              "   Instrumentalness  Liveness   Valence     Tempo     Genre  \n",
              "0          0.000000  0.202341  0.392104  0.345391  0.555556  \n",
              "1          0.455193  0.249564  0.312722  0.455924  1.000000  "
            ],
            "text/html": [
              "\n",
              "  <div id=\"df-42db5684-5ea2-42fe-843f-819dcd52ae07\">\n",
              "    <div class=\"colab-df-container\">\n",
              "      <div>\n",
              "<style scoped>\n",
              "    .dataframe tbody tr th:only-of-type {\n",
              "        vertical-align: middle;\n",
              "    }\n",
              "\n",
              "    .dataframe tbody tr th {\n",
              "        vertical-align: top;\n",
              "    }\n",
              "\n",
              "    .dataframe thead th {\n",
              "        text-align: right;\n",
              "    }\n",
              "</style>\n",
              "<table border=\"1\" class=\"dataframe\">\n",
              "  <thead>\n",
              "    <tr style=\"text-align: right;\">\n",
              "      <th></th>\n",
              "      <th>Danceability</th>\n",
              "      <th>Energy</th>\n",
              "      <th>Loudness</th>\n",
              "      <th>Speechiness</th>\n",
              "      <th>Acousticness</th>\n",
              "      <th>Instrumentalness</th>\n",
              "      <th>Liveness</th>\n",
              "      <th>Valence</th>\n",
              "      <th>Tempo</th>\n",
              "      <th>Genre</th>\n",
              "    </tr>\n",
              "  </thead>\n",
              "  <tbody>\n",
              "    <tr>\n",
              "      <th>0</th>\n",
              "      <td>0.537692</td>\n",
              "      <td>0.866212</td>\n",
              "      <td>0.810564</td>\n",
              "      <td>0.042070</td>\n",
              "      <td>0.009617</td>\n",
              "      <td>0.000000</td>\n",
              "      <td>0.202341</td>\n",
              "      <td>0.392104</td>\n",
              "      <td>0.345391</td>\n",
              "      <td>0.555556</td>\n",
              "    </tr>\n",
              "    <tr>\n",
              "      <th>1</th>\n",
              "      <td>0.734581</td>\n",
              "      <td>0.462836</td>\n",
              "      <td>0.759134</td>\n",
              "      <td>0.066651</td>\n",
              "      <td>0.008202</td>\n",
              "      <td>0.455193</td>\n",
              "      <td>0.249564</td>\n",
              "      <td>0.312722</td>\n",
              "      <td>0.455924</td>\n",
              "      <td>1.000000</td>\n",
              "    </tr>\n",
              "  </tbody>\n",
              "</table>\n",
              "</div>\n",
              "      <button class=\"colab-df-convert\" onclick=\"convertToInteractive('df-42db5684-5ea2-42fe-843f-819dcd52ae07')\"\n",
              "              title=\"Convert this dataframe to an interactive table.\"\n",
              "              style=\"display:none;\">\n",
              "        \n",
              "  <svg xmlns=\"http://www.w3.org/2000/svg\" height=\"24px\"viewBox=\"0 0 24 24\"\n",
              "       width=\"24px\">\n",
              "    <path d=\"M0 0h24v24H0V0z\" fill=\"none\"/>\n",
              "    <path d=\"M18.56 5.44l.94 2.06.94-2.06 2.06-.94-2.06-.94-.94-2.06-.94 2.06-2.06.94zm-11 1L8.5 8.5l.94-2.06 2.06-.94-2.06-.94L8.5 2.5l-.94 2.06-2.06.94zm10 10l.94 2.06.94-2.06 2.06-.94-2.06-.94-.94-2.06-.94 2.06-2.06.94z\"/><path d=\"M17.41 7.96l-1.37-1.37c-.4-.4-.92-.59-1.43-.59-.52 0-1.04.2-1.43.59L10.3 9.45l-7.72 7.72c-.78.78-.78 2.05 0 2.83L4 21.41c.39.39.9.59 1.41.59.51 0 1.02-.2 1.41-.59l7.78-7.78 2.81-2.81c.8-.78.8-2.07 0-2.86zM5.41 20L4 18.59l7.72-7.72 1.47 1.35L5.41 20z\"/>\n",
              "  </svg>\n",
              "      </button>\n",
              "      \n",
              "  <style>\n",
              "    .colab-df-container {\n",
              "      display:flex;\n",
              "      flex-wrap:wrap;\n",
              "      gap: 12px;\n",
              "    }\n",
              "\n",
              "    .colab-df-convert {\n",
              "      background-color: #E8F0FE;\n",
              "      border: none;\n",
              "      border-radius: 50%;\n",
              "      cursor: pointer;\n",
              "      display: none;\n",
              "      fill: #1967D2;\n",
              "      height: 32px;\n",
              "      padding: 0 0 0 0;\n",
              "      width: 32px;\n",
              "    }\n",
              "\n",
              "    .colab-df-convert:hover {\n",
              "      background-color: #E2EBFA;\n",
              "      box-shadow: 0px 1px 2px rgba(60, 64, 67, 0.3), 0px 1px 3px 1px rgba(60, 64, 67, 0.15);\n",
              "      fill: #174EA6;\n",
              "    }\n",
              "\n",
              "    [theme=dark] .colab-df-convert {\n",
              "      background-color: #3B4455;\n",
              "      fill: #D2E3FC;\n",
              "    }\n",
              "\n",
              "    [theme=dark] .colab-df-convert:hover {\n",
              "      background-color: #434B5C;\n",
              "      box-shadow: 0px 1px 3px 1px rgba(0, 0, 0, 0.15);\n",
              "      filter: drop-shadow(0px 1px 2px rgba(0, 0, 0, 0.3));\n",
              "      fill: #FFFFFF;\n",
              "    }\n",
              "  </style>\n",
              "\n",
              "      <script>\n",
              "        const buttonEl =\n",
              "          document.querySelector('#df-42db5684-5ea2-42fe-843f-819dcd52ae07 button.colab-df-convert');\n",
              "        buttonEl.style.display =\n",
              "          google.colab.kernel.accessAllowed ? 'block' : 'none';\n",
              "\n",
              "        async function convertToInteractive(key) {\n",
              "          const element = document.querySelector('#df-42db5684-5ea2-42fe-843f-819dcd52ae07');\n",
              "          const dataTable =\n",
              "            await google.colab.kernel.invokeFunction('convertToInteractive',\n",
              "                                                     [key], {});\n",
              "          if (!dataTable) return;\n",
              "\n",
              "          const docLinkHtml = 'Like what you see? Visit the ' +\n",
              "            '<a target=\"_blank\" href=https://colab.research.google.com/notebooks/data_table.ipynb>data table notebook</a>'\n",
              "            + ' to learn more about interactive tables.';\n",
              "          element.innerHTML = '';\n",
              "          dataTable['output_type'] = 'display_data';\n",
              "          await google.colab.output.renderOutput(dataTable, element);\n",
              "          const docLink = document.createElement('div');\n",
              "          docLink.innerHTML = docLinkHtml;\n",
              "          element.appendChild(docLink);\n",
              "        }\n",
              "      </script>\n",
              "    </div>\n",
              "  </div>\n",
              "  "
            ]
          },
          "metadata": {},
          "execution_count": 27
        }
      ],
      "source": [
        "column=['Danceability', 'Energy', 'Loudness', 'Speechiness', 'Acousticness',\n",
        "       'Instrumentalness', 'Liveness', 'Valence', 'Tempo', 'Genre']\n",
        "X_final=pd.DataFrame(X_scaled,columns=column)\n",
        "X_final.head(2)"
      ]
    },
    {
      "cell_type": "code",
      "execution_count": null,
      "metadata": {
        "colab": {
          "base_uri": "https://localhost:8080/"
        },
        "id": "EZcm6K648U0L",
        "outputId": "2a4bc02a-fa0f-49f0-926a-6f71f9fc5634"
      },
      "outputs": [
        {
          "output_type": "execute_result",
          "data": {
            "text/plain": [
              "(14302, 10)"
            ]
          },
          "metadata": {},
          "execution_count": 28
        }
      ],
      "source": [
        "X_final.shape\n"
      ]
    },
    {
      "cell_type": "code",
      "execution_count": null,
      "metadata": {
        "colab": {
          "base_uri": "https://localhost:8080/"
        },
        "id": "aGxJNr3k8jkh",
        "outputId": "1ace6457-b37f-4bf9-e648-3eeb2e272bfc"
      },
      "outputs": [
        {
          "output_type": "stream",
          "name": "stdout",
          "text": [
            "(11441, 10)\n",
            "(2861, 10)\n",
            "(11441,)\n",
            "(2861,)\n"
          ]
        }
      ],
      "source": [
        "# Hold-out validation\n",
        "\n",
        "X_train, X_test, y_train, y_test = train_test_split(X_final, y_sm, train_size = 0.8, test_size=0.2, random_state=1)\n",
        "\n",
        "print(X_train.shape)\n",
        "print(X_test.shape)\n",
        "\n",
        "print(y_train.shape)\n",
        "print(y_test.shape)"
      ]
    },
    {
      "cell_type": "code",
      "execution_count": null,
      "metadata": {
        "colab": {
          "base_uri": "https://localhost:8080/",
          "height": 283
        },
        "id": "xFVOLesK8j3b",
        "outputId": "85fadf97-cc20-460d-aa67-ede0e7f1e9b7"
      },
      "outputs": [
        {
          "output_type": "display_data",
          "data": {
            "text/plain": [
              "<Figure size 432x288 with 1 Axes>"
            ],
            "image/png": "[encoded data removed]"
          },
          "metadata": {
            "needs_background": "light"
          }
        }
      ],
      "source": [
        "#plotting graph again to check for balanced datset\n",
        "ax = sns.countplot(x = y_train, palette = \"Set3\")"
      ]
    },
    {
      "cell_type": "code",
      "execution_count": null,
      "metadata": {
        "colab": {
          "base_uri": "https://localhost:8080/"
        },
        "id": "IJ0_oHAP87i6",
        "outputId": "626f336f-4ba0-4891-d8ea-e7a08001a1e2"
      },
      "outputs": [
        {
          "output_type": "execute_result",
          "data": {
            "text/plain": [
              "SVC(random_state=32)"
            ]
          },
          "metadata": {},
          "execution_count": 31
        }
      ],
      "source": [
        "from sklearn.svm import SVC\n",
        "from sklearn.model_selection import train_test_split\n",
        "classifier = SVC(kernel='rbf',random_state=32)\n",
        "classifier.fit(X_train,y_train)"
      ]
    },
    {
      "cell_type": "code",
      "execution_count": null,
      "metadata": {
        "id": "dVImbWtTllTp"
      },
      "outputs": [],
      "source": [
        ""
      ]
    },
    {
      "cell_type": "code",
      "execution_count": null,
      "metadata": {
        "id": "8q2KUYgWgZle"
      },
      "outputs": [],
      "source": [
        "y_pred = classifier.predict(X_test)"
      ]
    },
    {
      "cell_type": "code",
      "execution_count": null,
      "metadata": {
        "colab": {
          "base_uri": "https://localhost:8080/"
        },
        "id": "Clj4wM8ihqMf",
        "outputId": "db27743a-1887-463e-b3a5-31ad3351fd0e"
      },
      "outputs": [
        {
          "output_type": "execute_result",
          "data": {
            "text/plain": [
              "2861"
            ]
          },
          "metadata": {},
          "execution_count": 33
        }
      ],
      "source": [
        "\n",
        "len(y_test)\n"
      ]
    },
    {
      "cell_type": "code",
      "execution_count": null,
      "metadata": {
        "colab": {
          "base_uri": "https://localhost:8080/"
        },
        "id": "4OqCwgZS7i_e",
        "outputId": "fdeab2d7-2dc4-45d0-cf0e-89f43ca98374"
      },
      "outputs": [
        {
          "output_type": "execute_result",
          "data": {
            "text/plain": [
              "2861"
            ]
          },
          "metadata": {},
          "execution_count": 34
        }
      ],
      "source": [
        "len(y_pred)"
      ]
    },
    {
      "cell_type": "code",
      "execution_count": null,
      "metadata": {
        "id": "aWRXDxDShwwe"
      },
      "outputs": [],
      "source": [
        "from sklearn.metrics import confusion_matrix\n"
      ]
    },
    {
      "cell_type": "code",
      "execution_count": null,
      "metadata": {
        "colab": {
          "base_uri": "https://localhost:8080/"
        },
        "id": "VJ2AmDQ0iepW",
        "outputId": "171d5f5c-7044-464b-d579-898c8af727b5"
      },
      "outputs": [
        {
          "output_type": "stream",
          "name": "stdout",
          "text": [
            "Confusion Matrix\n",
            "\n",
            " [[ 885  532]\n",
            " [ 231 1213]]\n"
          ]
        }
      ],
      "source": [
        "cm = confusion_matrix(y_test,y_pred)\n",
        "print(\"Confusion Matrix\\n\\n\",cm)\n",
        "accuracy = float((cm.diagonal().sum())/len(y_test)*100)\n"
      ]
    },
    {
      "cell_type": "code",
      "execution_count": null,
      "metadata": {
        "colab": {
          "base_uri": "https://localhost:8080/"
        },
        "id": "DquSx9U2cG2X",
        "outputId": "f04fde33-88b7-4fe1-9f3d-82ad1381b6b1"
      },
      "outputs": [
        {
          "output_type": "stream",
          "name": "stdout",
          "text": [
            "\n",
            "Accuracy Of SVM For The Given Dataset :  73.33100314575324\n"
          ]
        }
      ],
      "source": [
        "\n",
        "print(\"\\nAccuracy Of SVM For The Given Dataset : \", accuracy)"
      ]
    },
    {
      "cell_type": "code",
      "execution_count": null,
      "metadata": {
        "colab": {
          "base_uri": "https://localhost:8080/"
        },
        "id": "jTmnDCevkyaA",
        "outputId": "9eca1823-5c2d-4ff6-dabb-c40c1080eed9"
      },
      "outputs": [
        {
          "output_type": "stream",
          "name": "stdout",
          "text": [
            "              precision    recall  f1-score   support\n",
            "\n",
            "           0       0.79      0.62      0.70      1417\n",
            "           1       0.70      0.84      0.76      1444\n",
            "\n",
            "    accuracy                           0.73      2861\n",
            "   macro avg       0.74      0.73      0.73      2861\n",
            "weighted avg       0.74      0.73      0.73      2861\n",
            "\n"
          ]
        }
      ],
      "source": [
        "print(classification_report(y_test, y_pred))"
      ]
    },
    {
      "cell_type": "code",
      "execution_count": null,
      "metadata": {
        "id": "DyPWAEvFF0Eg"
      },
      "outputs": [],
      "source": [
        "#hyperparameter tuning "
      ]
    },
    {
      "cell_type": "code",
      "execution_count": null,
      "metadata": {
        "id": "6LKrtamtbh3M"
      },
      "outputs": [],
      "source": [
        "from sklearn.model_selection import GridSearchCV\n",
        "param_grid = { 'C':[0.1,1,100,1000],\n",
        "              'kernel':['linear'],\n",
        "              'degree':[1,2,3,4,5,6],\n",
        "              'gamma': [1, 0.1, 0.01, 0.001,0.0001]}\n",
        "grid = GridSearchCV(SVC(),param_grid)\n",
        "grid.fit(X_train,y_train)"
      ]
    },
    {
      "cell_type": "code",
      "execution_count": null,
      "metadata": {
        "id": "0sUXJBl0vpLf"
      },
      "outputs": [],
      "source": [
        "from sklearn.model_selection import GridSearchCV\n",
        "param_grid = { 'C':[0.1,1,100,1000],\n",
        "              'kernel':['rbf','poly','sigmoid','linear'],\n",
        "              'degree':[1,2,3,4,5],\n",
        "              'gamma': [1, 0.1, 0.01, 0.001]}\n",
        "grid = GridSearchCV(SVC(),param_grid)\n",
        "grid.fit(X_train,y_train)"
      ]
    },
    {
      "cell_type": "code",
      "execution_count": null,
      "metadata": {
        "colab": {
          "base_uri": "https://localhost:8080/"
        },
        "id": "znXnE0oTrX6s",
        "outputId": "4099682e-0d3b-4729-83eb-0d4a9709b78c"
      },
      "outputs": [
        {
          "name": "stdout",
          "output_type": "stream",
          "text": [
            "{'C': 100, 'degree': 1, 'gamma': 1, 'kernel': 'linear'}\n",
            "0.6731911918909472\n"
          ]
        }
      ],
      "source": [
        "print(grid.best_params_)\n",
        "print(grid.score(X_test,y_test))"
      ]
    },
    {
      "cell_type": "code",
      "execution_count": null,
      "metadata": {
        "colab": {
          "base_uri": "https://localhost:8080/"
        },
        "id": "ZFYFN1BOLG3F",
        "outputId": "c2065008-5e4e-4267-b423-2e763f12f1f7"
      },
      "outputs": [
        {
          "data": {
            "text/plain": [
              "SVC(C=100, degree=1, gamma=1, kernel='linear')"
            ]
          },
          "execution_count": 45,
          "metadata": {},
          "output_type": "execute_result"
        }
      ],
      "source": [
        "grid.best_estimator_"
      ]
    },
    {
      "cell_type": "code",
      "execution_count": null,
      "metadata": {
        "colab": {
          "base_uri": "https://localhost:8080/"
        },
        "id": "w5P8ttXbLK7J",
        "outputId": "f39503d2-95fc-41b0-f9ef-334734377470"
      },
      "outputs": [
        {
          "data": {
            "text/plain": [
              "0.677912378141736"
            ]
          },
          "execution_count": 46,
          "metadata": {},
          "output_type": "execute_result"
        }
      ],
      "source": [
        "grid.best_score_\n"
      ]
    },
    {
      "cell_type": "code",
      "execution_count": null,
      "metadata": {
        "id": "Kojr-hYzKsRR"
      },
      "outputs": [],
      "source": [
        "final_model=grid.best_estimator_"
      ]
    },
    {
      "cell_type": "code",
      "execution_count": null,
      "metadata": {
        "colab": {
          "base_uri": "https://localhost:8080/"
        },
        "id": "SZsu81lABIpV",
        "outputId": "271dfb90-7c84-4691-9fc3-415327f575c9"
      },
      "outputs": [
        {
          "output_type": "execute_result",
          "data": {
            "text/plain": [
              "GridSearchCV(estimator=SVC(),\n",
              "             param_grid={'C': [0.1, 1, 100, 1000], 'degree': [1, 2, 3, 4, 5, 6],\n",
              "                         'gamma': [1, 0.1, 0.01, 0.001, 0.0001],\n",
              "                         'kernel': ['rbf']})"
            ]
          },
          "metadata": {},
          "execution_count": 41
        }
      ],
      "source": [
        "from sklearn.model_selection import GridSearchCV\n",
        "param_grid = { 'C':[0.1,1,100,1000],\n",
        "              'kernel':['rbf'],\n",
        "              'degree':[1,2,3,4,5,6],\n",
        "              'gamma': [1, 0.1, 0.01, 0.001,0.0001]}\n",
        "grid = GridSearchCV(SVC(),param_grid)\n",
        "grid.fit(X_train,y_train)\n"
      ]
    },
    {
      "cell_type": "code",
      "source": [
        "y_pred = grid.predict(X_test)"
      ],
      "metadata": {
        "id": "2WNLttnD8IEr"
      },
      "execution_count": null,
      "outputs": []
    },
    {
      "cell_type": "code",
      "source": [
        "print(grid.best_params_)\n",
        "print(grid.score(X_test,y_test))\n",
        "#y_pred1=grid.score(X_test,y_test)"
      ],
      "metadata": {
        "colab": {
          "base_uri": "https://localhost:8080/"
        },
        "id": "2PhhAehpPlLA",
        "outputId": "d8639783-def5-4b8b-a37b-b8a650c1afd0"
      },
      "execution_count": null,
      "outputs": [
        {
          "output_type": "stream",
          "name": "stdout",
          "text": [
            "{'C': 1000, 'degree': 1, 'gamma': 1, 'kernel': 'rbf'}\n",
            "0.7731562390772457\n"
          ]
        }
      ]
    },
    {
      "cell_type": "code",
      "source": [
        "grid.best_estimator_"
      ],
      "metadata": {
        "colab": {
          "base_uri": "https://localhost:8080/"
        },
        "id": "XRiWOP4RPlzQ",
        "outputId": "58db679e-947f-40c3-e999-e3895364ace3"
      },
      "execution_count": null,
      "outputs": [
        {
          "output_type": "execute_result",
          "data": {
            "text/plain": [
              "SVC(C=1000, degree=1, gamma=1)"
            ]
          },
          "metadata": {},
          "execution_count": 57
        }
      ]
    },
    {
      "cell_type": "code",
      "source": [
        "grid.best_score_\n"
      ],
      "metadata": {
        "colab": {
          "base_uri": "https://localhost:8080/"
        },
        "id": "PyTOSFbIPoh7",
        "outputId": "37337afe-b263-41b7-fa60-b05446922a17"
      },
      "execution_count": null,
      "outputs": [
        {
          "output_type": "execute_result",
          "data": {
            "text/plain": [
              "0.770212509203335"
            ]
          },
          "metadata": {},
          "execution_count": 58
        }
      ]
    },
    {
      "cell_type": "code",
      "source": [
        "print(classification_report(y_test, y_pred))"
      ],
      "metadata": {
        "id": "5eS5I0ltPrp2",
        "colab": {
          "base_uri": "https://localhost:8080/"
        },
        "outputId": "1dc2ad23-b3dd-4dca-cbf0-dd84c294c613"
      },
      "execution_count": null,
      "outputs": [
        {
          "output_type": "stream",
          "name": "stdout",
          "text": [
            "              precision    recall  f1-score   support\n",
            "\n",
            "           0       0.84      0.67      0.74      1417\n",
            "           1       0.73      0.88      0.80      1444\n",
            "\n",
            "    accuracy                           0.77      2861\n",
            "   macro avg       0.78      0.77      0.77      2861\n",
            "weighted avg       0.78      0.77      0.77      2861\n",
            "\n"
          ]
        }
      ]
    },
    {
      "cell_type": "code",
      "source": [
        "confusion_matrix(y_test,y_pred)"
      ],
      "metadata": {
        "colab": {
          "base_uri": "https://localhost:8080/"
        },
        "id": "SnL7dxFB8ZPo",
        "outputId": "6153cf79-ec81-4105-c616-fe95b5483643"
      },
      "execution_count": null,
      "outputs": [
        {
          "output_type": "execute_result",
          "data": {
            "text/plain": [
              "array([[ 948,  469],\n",
              "       [ 180, 1264]])"
            ]
          },
          "metadata": {},
          "execution_count": 64
        }
      ]
    }
  ],
  "metadata": {
    "colab": {
      "collapsed_sections": [],
      "name": "Major_svm.ipynb",
      "provenance": []
    },
    "kernelspec": {
      "display_name": "Python 3",
      "name": "python3"
    },
    "language_info": {
      "name": "python"
    }
  },
  "nbformat": 4,
  "nbformat_minor": 0
}